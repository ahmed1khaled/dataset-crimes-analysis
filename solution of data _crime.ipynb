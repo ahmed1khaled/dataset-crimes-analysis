{
 "cells": [
  {
   "cell_type": "code",
   "execution_count": 1,
   "metadata": {},
   "outputs": [],
   "source": [
    "import numpy as np\n",
    "import pandas as pd\n",
    "import seaborn as sns\n",
    "import matplotlib.pyplot as plt\n",
    "from sklearn.model_selection import train_test_split\n",
    "\n",
    "%matplotlib inline\n",
    "sns.set(rc={'figure.figsize': [10, 10]}, font_scale=1.2)"
   ]
  },
  {
   "cell_type": "code",
   "execution_count": 2,
   "metadata": {},
   "outputs": [
    {
     "data": {
      "text/html": [
       "<div>\n",
       "<style scoped>\n",
       "    .dataframe tbody tr th:only-of-type {\n",
       "        vertical-align: middle;\n",
       "    }\n",
       "\n",
       "    .dataframe tbody tr th {\n",
       "        vertical-align: top;\n",
       "    }\n",
       "\n",
       "    .dataframe thead th {\n",
       "        text-align: right;\n",
       "    }\n",
       "</style>\n",
       "<table border=\"1\" class=\"dataframe\">\n",
       "  <thead>\n",
       "    <tr style=\"text-align: right;\">\n",
       "      <th></th>\n",
       "      <th>CASE#</th>\n",
       "      <th>DATE  OF OCCURRENCE</th>\n",
       "      <th>BLOCK</th>\n",
       "      <th>IUCR</th>\n",
       "      <th>PRIMARY DESCRIPTION</th>\n",
       "      <th>SECONDARY DESCRIPTION</th>\n",
       "      <th>LOCATION DESCRIPTION</th>\n",
       "      <th>ARREST</th>\n",
       "      <th>DOMESTIC</th>\n",
       "      <th>BEAT</th>\n",
       "      <th>WARD</th>\n",
       "      <th>FBI CD</th>\n",
       "      <th>X COORDINATE</th>\n",
       "      <th>Y COORDINATE</th>\n",
       "      <th>LATITUDE</th>\n",
       "      <th>LONGITUDE</th>\n",
       "      <th>LOCATION</th>\n",
       "    </tr>\n",
       "  </thead>\n",
       "  <tbody>\n",
       "    <tr>\n",
       "      <th>0</th>\n",
       "      <td>JD164115</td>\n",
       "      <td>02/25/2020 10:20:00 AM</td>\n",
       "      <td>013XX S CANAL ST</td>\n",
       "      <td>0460</td>\n",
       "      <td>BATTERY</td>\n",
       "      <td>SIMPLE</td>\n",
       "      <td>GROCERY FOOD STORE</td>\n",
       "      <td>Y</td>\n",
       "      <td>N</td>\n",
       "      <td>124</td>\n",
       "      <td>11.0</td>\n",
       "      <td>08B</td>\n",
       "      <td>1173336.0</td>\n",
       "      <td>1893976.0</td>\n",
       "      <td>41.864494</td>\n",
       "      <td>-87.639158</td>\n",
       "      <td>(41.864493678, -87.639158)</td>\n",
       "    </tr>\n",
       "    <tr>\n",
       "      <th>1</th>\n",
       "      <td>JD163938</td>\n",
       "      <td>02/25/2020 05:30:00 AM</td>\n",
       "      <td>033XX W CULLOM AVE</td>\n",
       "      <td>0820</td>\n",
       "      <td>THEFT</td>\n",
       "      <td>$500 AND UNDER</td>\n",
       "      <td>STREET</td>\n",
       "      <td>N</td>\n",
       "      <td>N</td>\n",
       "      <td>1724</td>\n",
       "      <td>33.0</td>\n",
       "      <td>06</td>\n",
       "      <td>1153387.0</td>\n",
       "      <td>1928387.0</td>\n",
       "      <td>41.959340</td>\n",
       "      <td>-87.711475</td>\n",
       "      <td>(41.959339811, -87.711474784)</td>\n",
       "    </tr>\n",
       "    <tr>\n",
       "      <th>2</th>\n",
       "      <td>JC164345</td>\n",
       "      <td>02/25/2020 01:04:00 PM</td>\n",
       "      <td>023XX S PULASKI RD</td>\n",
       "      <td>1330</td>\n",
       "      <td>CRIMINAL TRESPASS</td>\n",
       "      <td>TO LAND</td>\n",
       "      <td>RESTAURANT</td>\n",
       "      <td>Y</td>\n",
       "      <td>N</td>\n",
       "      <td>1013</td>\n",
       "      <td>22.0</td>\n",
       "      <td>26</td>\n",
       "      <td>1150083.0</td>\n",
       "      <td>1887962.0</td>\n",
       "      <td>41.848475</td>\n",
       "      <td>-87.724676</td>\n",
       "      <td>(41.848474762, -87.724676285)</td>\n",
       "    </tr>\n",
       "    <tr>\n",
       "      <th>3</th>\n",
       "      <td>JD164701</td>\n",
       "      <td>02/25/2020 06:05:00 PM</td>\n",
       "      <td>058XX N RIDGE AVE</td>\n",
       "      <td>0486</td>\n",
       "      <td>BATTERY</td>\n",
       "      <td>DOMESTIC BATTERY SIMPLE</td>\n",
       "      <td>APARTMENT</td>\n",
       "      <td>Y</td>\n",
       "      <td>Y</td>\n",
       "      <td>2013</td>\n",
       "      <td>48.0</td>\n",
       "      <td>08B</td>\n",
       "      <td>1165471.0</td>\n",
       "      <td>1938819.0</td>\n",
       "      <td>41.987716</td>\n",
       "      <td>-87.666750</td>\n",
       "      <td>(41.987716355, -87.666750459)</td>\n",
       "    </tr>\n",
       "    <tr>\n",
       "      <th>4</th>\n",
       "      <td>JD164416</td>\n",
       "      <td>02/25/2020 01:42:00 PM</td>\n",
       "      <td>011XX N HARDING AVE</td>\n",
       "      <td>2027</td>\n",
       "      <td>NARCOTICS</td>\n",
       "      <td>POSS: CRACK</td>\n",
       "      <td>STREET</td>\n",
       "      <td>Y</td>\n",
       "      <td>N</td>\n",
       "      <td>1112</td>\n",
       "      <td>37.0</td>\n",
       "      <td>18</td>\n",
       "      <td>1149847.0</td>\n",
       "      <td>1907230.0</td>\n",
       "      <td>41.901353</td>\n",
       "      <td>-87.725041</td>\n",
       "      <td>(41.901352928, -87.725041269)</td>\n",
       "    </tr>\n",
       "    <tr>\n",
       "      <th>...</th>\n",
       "      <td>...</td>\n",
       "      <td>...</td>\n",
       "      <td>...</td>\n",
       "      <td>...</td>\n",
       "      <td>...</td>\n",
       "      <td>...</td>\n",
       "      <td>...</td>\n",
       "      <td>...</td>\n",
       "      <td>...</td>\n",
       "      <td>...</td>\n",
       "      <td>...</td>\n",
       "      <td>...</td>\n",
       "      <td>...</td>\n",
       "      <td>...</td>\n",
       "      <td>...</td>\n",
       "      <td>...</td>\n",
       "      <td>...</td>\n",
       "    </tr>\n",
       "    <tr>\n",
       "      <th>203665</th>\n",
       "      <td>JD430516</td>\n",
       "      <td>10/25/2020 12:00:00 PM</td>\n",
       "      <td>029XX N MELVINA AVE</td>\n",
       "      <td>1154</td>\n",
       "      <td>DECEPTIVE PRACTICE</td>\n",
       "      <td>FINANCIAL IDENTITY THEFT $300 AND UNDER</td>\n",
       "      <td>RESIDENCE</td>\n",
       "      <td>N</td>\n",
       "      <td>N</td>\n",
       "      <td>2511</td>\n",
       "      <td>30.0</td>\n",
       "      <td>11</td>\n",
       "      <td>1134560.0</td>\n",
       "      <td>1918918.0</td>\n",
       "      <td>41.933710</td>\n",
       "      <td>-87.780916</td>\n",
       "      <td>(41.933709921, -87.780916246)</td>\n",
       "    </tr>\n",
       "    <tr>\n",
       "      <th>203666</th>\n",
       "      <td>JD430452</td>\n",
       "      <td>11/07/2020 10:00:00 PM</td>\n",
       "      <td>011XX S MICHIGAN AVE</td>\n",
       "      <td>0281</td>\n",
       "      <td>CRIMINAL SEXUAL ASSAULT</td>\n",
       "      <td>NON-AGGRAVATED</td>\n",
       "      <td>HOTEL / MOTEL</td>\n",
       "      <td>N</td>\n",
       "      <td>N</td>\n",
       "      <td>123</td>\n",
       "      <td>4.0</td>\n",
       "      <td>02</td>\n",
       "      <td>1177417.0</td>\n",
       "      <td>1895669.0</td>\n",
       "      <td>41.869048</td>\n",
       "      <td>-87.624126</td>\n",
       "      <td>(41.869047845, -87.624125523)</td>\n",
       "    </tr>\n",
       "    <tr>\n",
       "      <th>203667</th>\n",
       "      <td>JD434095</td>\n",
       "      <td>11/17/2020 04:15:00 PM</td>\n",
       "      <td>047XX N KEDZIE AVE</td>\n",
       "      <td>0560</td>\n",
       "      <td>ASSAULT</td>\n",
       "      <td>SIMPLE</td>\n",
       "      <td>SIDEWALK</td>\n",
       "      <td>N</td>\n",
       "      <td>N</td>\n",
       "      <td>1713</td>\n",
       "      <td>33.0</td>\n",
       "      <td>08A</td>\n",
       "      <td>1154189.0</td>\n",
       "      <td>1931371.0</td>\n",
       "      <td>41.967512</td>\n",
       "      <td>-87.708446</td>\n",
       "      <td>(41.967512085, -87.708446268)</td>\n",
       "    </tr>\n",
       "    <tr>\n",
       "      <th>203668</th>\n",
       "      <td>JD453566</td>\n",
       "      <td>12/08/2020 07:22:00 PM</td>\n",
       "      <td>037XX N RECREATION DR</td>\n",
       "      <td>0486</td>\n",
       "      <td>BATTERY</td>\n",
       "      <td>DOMESTIC BATTERY SIMPLE</td>\n",
       "      <td>PARK PROPERTY</td>\n",
       "      <td>N</td>\n",
       "      <td>Y</td>\n",
       "      <td>1925</td>\n",
       "      <td>46.0</td>\n",
       "      <td>08B</td>\n",
       "      <td>1171826.0</td>\n",
       "      <td>1925510.0</td>\n",
       "      <td>41.951058</td>\n",
       "      <td>-87.643771</td>\n",
       "      <td>(41.951058037, -87.643770543)</td>\n",
       "    </tr>\n",
       "    <tr>\n",
       "      <th>203669</th>\n",
       "      <td>JD434362</td>\n",
       "      <td>11/17/2020 08:45:00 PM</td>\n",
       "      <td>025XX W FITCH AVE</td>\n",
       "      <td>0486</td>\n",
       "      <td>BATTERY</td>\n",
       "      <td>DOMESTIC BATTERY SIMPLE</td>\n",
       "      <td>APARTMENT</td>\n",
       "      <td>N</td>\n",
       "      <td>Y</td>\n",
       "      <td>2411</td>\n",
       "      <td>50.0</td>\n",
       "      <td>08B</td>\n",
       "      <td>1158111.0</td>\n",
       "      <td>1947358.0</td>\n",
       "      <td>42.011302</td>\n",
       "      <td>-87.693586</td>\n",
       "      <td>(42.011301687, -87.693586328)</td>\n",
       "    </tr>\n",
       "  </tbody>\n",
       "</table>\n",
       "<p>203670 rows × 17 columns</p>\n",
       "</div>"
      ],
      "text/plain": [
       "           CASE#     DATE  OF OCCURRENCE                  BLOCK  IUCR  \\\n",
       "0       JD164115  02/25/2020 10:20:00 AM       013XX S CANAL ST  0460   \n",
       "1       JD163938  02/25/2020 05:30:00 AM     033XX W CULLOM AVE  0820   \n",
       "2       JC164345  02/25/2020 01:04:00 PM     023XX S PULASKI RD  1330   \n",
       "3       JD164701  02/25/2020 06:05:00 PM      058XX N RIDGE AVE  0486   \n",
       "4       JD164416  02/25/2020 01:42:00 PM    011XX N HARDING AVE  2027   \n",
       "...          ...                     ...                    ...   ...   \n",
       "203665  JD430516  10/25/2020 12:00:00 PM    029XX N MELVINA AVE  1154   \n",
       "203666  JD430452  11/07/2020 10:00:00 PM   011XX S MICHIGAN AVE  0281   \n",
       "203667  JD434095  11/17/2020 04:15:00 PM     047XX N KEDZIE AVE  0560   \n",
       "203668  JD453566  12/08/2020 07:22:00 PM  037XX N RECREATION DR  0486   \n",
       "203669  JD434362  11/17/2020 08:45:00 PM      025XX W FITCH AVE  0486   \n",
       "\n",
       "            PRIMARY DESCRIPTION                    SECONDARY DESCRIPTION  \\\n",
       "0                       BATTERY                                   SIMPLE   \n",
       "1                         THEFT                           $500 AND UNDER   \n",
       "2             CRIMINAL TRESPASS                                  TO LAND   \n",
       "3                       BATTERY                  DOMESTIC BATTERY SIMPLE   \n",
       "4                     NARCOTICS                              POSS: CRACK   \n",
       "...                         ...                                      ...   \n",
       "203665       DECEPTIVE PRACTICE  FINANCIAL IDENTITY THEFT $300 AND UNDER   \n",
       "203666  CRIMINAL SEXUAL ASSAULT                           NON-AGGRAVATED   \n",
       "203667                  ASSAULT                                   SIMPLE   \n",
       "203668                  BATTERY                  DOMESTIC BATTERY SIMPLE   \n",
       "203669                  BATTERY                  DOMESTIC BATTERY SIMPLE   \n",
       "\n",
       "        LOCATION DESCRIPTION ARREST DOMESTIC  BEAT  WARD FBI CD  X COORDINATE  \\\n",
       "0         GROCERY FOOD STORE      Y        N   124  11.0    08B     1173336.0   \n",
       "1                     STREET      N        N  1724  33.0     06     1153387.0   \n",
       "2                 RESTAURANT      Y        N  1013  22.0     26     1150083.0   \n",
       "3                  APARTMENT      Y        Y  2013  48.0    08B     1165471.0   \n",
       "4                     STREET      Y        N  1112  37.0     18     1149847.0   \n",
       "...                      ...    ...      ...   ...   ...    ...           ...   \n",
       "203665             RESIDENCE      N        N  2511  30.0     11     1134560.0   \n",
       "203666         HOTEL / MOTEL      N        N   123   4.0     02     1177417.0   \n",
       "203667              SIDEWALK      N        N  1713  33.0    08A     1154189.0   \n",
       "203668         PARK PROPERTY      N        Y  1925  46.0    08B     1171826.0   \n",
       "203669             APARTMENT      N        Y  2411  50.0    08B     1158111.0   \n",
       "\n",
       "        Y COORDINATE   LATITUDE  LONGITUDE                       LOCATION  \n",
       "0          1893976.0  41.864494 -87.639158     (41.864493678, -87.639158)  \n",
       "1          1928387.0  41.959340 -87.711475  (41.959339811, -87.711474784)  \n",
       "2          1887962.0  41.848475 -87.724676  (41.848474762, -87.724676285)  \n",
       "3          1938819.0  41.987716 -87.666750  (41.987716355, -87.666750459)  \n",
       "4          1907230.0  41.901353 -87.725041  (41.901352928, -87.725041269)  \n",
       "...              ...        ...        ...                            ...  \n",
       "203665     1918918.0  41.933710 -87.780916  (41.933709921, -87.780916246)  \n",
       "203666     1895669.0  41.869048 -87.624126  (41.869047845, -87.624125523)  \n",
       "203667     1931371.0  41.967512 -87.708446  (41.967512085, -87.708446268)  \n",
       "203668     1925510.0  41.951058 -87.643771  (41.951058037, -87.643770543)  \n",
       "203669     1947358.0  42.011302 -87.693586  (42.011301687, -87.693586328)  \n",
       "\n",
       "[203670 rows x 17 columns]"
      ]
     },
     "execution_count": 2,
     "metadata": {},
     "output_type": "execute_result"
    }
   ],
   "source": [
    "df=pd.read_csv('Crimes_-_One_year_prior_to_present.csv')\n",
    "df"
   ]
  },
  {
   "cell_type": "code",
   "execution_count": 3,
   "metadata": {},
   "outputs": [
    {
     "name": "stdout",
     "output_type": "stream",
     "text": [
      "<class 'pandas.core.frame.DataFrame'>\n",
      "RangeIndex: 203670 entries, 0 to 203669\n",
      "Data columns (total 17 columns):\n",
      " #   Column                  Non-Null Count   Dtype  \n",
      "---  ------                  --------------   -----  \n",
      " 0   CASE#                   203670 non-null  object \n",
      " 1   DATE  OF OCCURRENCE     203670 non-null  object \n",
      " 2   BLOCK                   203670 non-null  object \n",
      " 3    IUCR                   203670 non-null  object \n",
      " 4    PRIMARY DESCRIPTION    203670 non-null  object \n",
      " 5    SECONDARY DESCRIPTION  203670 non-null  object \n",
      " 6    LOCATION DESCRIPTION   202556 non-null  object \n",
      " 7   ARREST                  203670 non-null  object \n",
      " 8   DOMESTIC                203670 non-null  object \n",
      " 9   BEAT                    203670 non-null  int64  \n",
      " 10  WARD                    203660 non-null  float64\n",
      " 11  FBI CD                  203670 non-null  object \n",
      " 12  X COORDINATE            202379 non-null  float64\n",
      " 13  Y COORDINATE            202379 non-null  float64\n",
      " 14  LATITUDE                202379 non-null  float64\n",
      " 15  LONGITUDE               202379 non-null  float64\n",
      " 16  LOCATION                202379 non-null  object \n",
      "dtypes: float64(5), int64(1), object(11)\n",
      "memory usage: 26.4+ MB\n"
     ]
    }
   ],
   "source": [
    "df.info()"
   ]
  },
  {
   "cell_type": "markdown",
   "metadata": {},
   "source": [
    "There are values null"
   ]
  },
  {
   "cell_type": "code",
   "execution_count": 5,
   "metadata": {},
   "outputs": [
    {
     "data": {
      "text/plain": [
       "CASE#                        0\n",
       "DATE  OF OCCURRENCE          0\n",
       "BLOCK                        0\n",
       " IUCR                        0\n",
       " PRIMARY DESCRIPTION         0\n",
       " SECONDARY DESCRIPTION       0\n",
       " LOCATION DESCRIPTION     1114\n",
       "ARREST                       0\n",
       "DOMESTIC                     0\n",
       "BEAT                         0\n",
       "WARD                        10\n",
       "FBI CD                       0\n",
       "X COORDINATE              1291\n",
       "Y COORDINATE              1291\n",
       "LATITUDE                  1291\n",
       "LONGITUDE                 1291\n",
       "LOCATION                  1291\n",
       "dtype: int64"
      ]
     },
     "execution_count": 5,
     "metadata": {},
     "output_type": "execute_result"
    }
   ],
   "source": [
    "df.isnull().sum()"
   ]
  },
  {
   "cell_type": "code",
   "execution_count": 10,
   "metadata": {},
   "outputs": [
    {
     "data": {
      "text/plain": [
       "CASE#                      0.000000\n",
       "DATE  OF OCCURRENCE        0.000000\n",
       "BLOCK                      0.000000\n",
       " IUCR                      0.000000\n",
       " PRIMARY DESCRIPTION       0.000000\n",
       " SECONDARY DESCRIPTION     0.000000\n",
       " LOCATION DESCRIPTION     54.696591\n",
       "ARREST                     0.000000\n",
       "DOMESTIC                   0.000000\n",
       "BEAT                       0.000000\n",
       "WARD                       0.490993\n",
       "FBI CD                     0.000000\n",
       "X COORDINATE              63.387163\n",
       "Y COORDINATE              63.387163\n",
       "LATITUDE                  63.387163\n",
       "LONGITUDE                 63.387163\n",
       "LOCATION                  63.387163\n",
       "dtype: float64"
      ]
     },
     "execution_count": 10,
     "metadata": {},
     "output_type": "execute_result"
    }
   ],
   "source": [
    "((df.isnull().sum())/203669) *10000"
   ]
  },
  {
   "cell_type": "markdown",
   "metadata": {},
   "source": [
    " LOCATION DESCRIPTION,X COORDINATE,Y COORDINATE,LATITUDE,LONGITUDE,LOCATION  this columns There is in it valu null"
   ]
  },
  {
   "cell_type": "code",
   "execution_count": 5,
   "metadata": {},
   "outputs": [],
   "source": [
    "from datetime import date"
   ]
  },
  {
   "cell_type": "code",
   "execution_count": 6,
   "metadata": {},
   "outputs": [
    {
     "data": {
      "text/plain": [
       "Index(['CASE#', 'DATE  OF OCCURRENCE', 'BLOCK', ' IUCR',\n",
       "       ' PRIMARY DESCRIPTION', ' SECONDARY DESCRIPTION',\n",
       "       ' LOCATION DESCRIPTION', 'ARREST', 'DOMESTIC', 'BEAT', 'WARD', 'FBI CD',\n",
       "       'X COORDINATE', 'Y COORDINATE', 'LATITUDE', 'LONGITUDE', 'LOCATION'],\n",
       "      dtype='object')"
      ]
     },
     "execution_count": 6,
     "metadata": {},
     "output_type": "execute_result"
    }
   ],
   "source": [
    "df.columns"
   ]
  },
  {
   "cell_type": "code",
   "execution_count": 7,
   "metadata": {},
   "outputs": [],
   "source": [
    "df.drop(['CASE#',' IUCR'],axis=1,inplace=True)"
   ]
  },
  {
   "cell_type": "markdown",
   "metadata": {},
   "source": [
    "drop(['CASE#',' IUCR']Because of the lack of use of them in my analysis"
   ]
  },
  {
   "cell_type": "code",
   "execution_count": 8,
   "metadata": {},
   "outputs": [],
   "source": [
    "df['DATE  OF OCCURRENCE']=pd.to_datetime(df['DATE  OF OCCURRENCE'])\n"
   ]
  },
  {
   "cell_type": "code",
   "execution_count": 9,
   "metadata": {},
   "outputs": [],
   "source": [
    "df['date'] = df['DATE  OF OCCURRENCE'].dt.date"
   ]
  },
  {
   "cell_type": "code",
   "execution_count": 10,
   "metadata": {},
   "outputs": [],
   "source": [
    "df['year'] = df['DATE  OF OCCURRENCE'].dt.year"
   ]
  },
  {
   "cell_type": "code",
   "execution_count": 11,
   "metadata": {},
   "outputs": [],
   "source": [
    "df['month'] = df['DATE  OF OCCURRENCE'].dt.month"
   ]
  },
  {
   "cell_type": "code",
   "execution_count": 12,
   "metadata": {},
   "outputs": [],
   "source": [
    "df['day'] = df['DATE  OF OCCURRENCE'].dt.day"
   ]
  },
  {
   "cell_type": "code",
   "execution_count": 13,
   "metadata": {},
   "outputs": [],
   "source": [
    "df['hour'] = df['DATE  OF OCCURRENCE'].dt.hour"
   ]
  },
  {
   "cell_type": "code",
   "execution_count": 14,
   "metadata": {},
   "outputs": [],
   "source": [
    "df['minute'] = df['DATE  OF OCCURRENCE'].dt.minute"
   ]
  },
  {
   "cell_type": "code",
   "execution_count": 15,
   "metadata": {},
   "outputs": [],
   "source": [
    "df['day_name']=df['DATE  OF OCCURRENCE'].dt.day_name()"
   ]
  },
  {
   "cell_type": "markdown",
   "metadata": {},
   "source": [
    "transformation df['DATE  OF OCCURRENCE'] to data time\n",
    "فصل التاريخ عن بعضه الدقيقه والساعه واليوم والشهر والسنه"
   ]
  },
  {
   "cell_type": "code",
   "execution_count": 16,
   "metadata": {},
   "outputs": [
    {
     "data": {
      "text/html": [
       "<div>\n",
       "<style scoped>\n",
       "    .dataframe tbody tr th:only-of-type {\n",
       "        vertical-align: middle;\n",
       "    }\n",
       "\n",
       "    .dataframe tbody tr th {\n",
       "        vertical-align: top;\n",
       "    }\n",
       "\n",
       "    .dataframe thead th {\n",
       "        text-align: right;\n",
       "    }\n",
       "</style>\n",
       "<table border=\"1\" class=\"dataframe\">\n",
       "  <thead>\n",
       "    <tr style=\"text-align: right;\">\n",
       "      <th></th>\n",
       "      <th>DATE  OF OCCURRENCE</th>\n",
       "      <th>BLOCK</th>\n",
       "      <th>PRIMARY DESCRIPTION</th>\n",
       "      <th>SECONDARY DESCRIPTION</th>\n",
       "      <th>LOCATION DESCRIPTION</th>\n",
       "      <th>ARREST</th>\n",
       "      <th>DOMESTIC</th>\n",
       "      <th>BEAT</th>\n",
       "      <th>WARD</th>\n",
       "      <th>FBI CD</th>\n",
       "      <th>...</th>\n",
       "      <th>LATITUDE</th>\n",
       "      <th>LONGITUDE</th>\n",
       "      <th>LOCATION</th>\n",
       "      <th>date</th>\n",
       "      <th>year</th>\n",
       "      <th>month</th>\n",
       "      <th>day</th>\n",
       "      <th>hour</th>\n",
       "      <th>minute</th>\n",
       "      <th>day_name</th>\n",
       "    </tr>\n",
       "  </thead>\n",
       "  <tbody>\n",
       "    <tr>\n",
       "      <th>0</th>\n",
       "      <td>2020-02-25 10:20:00</td>\n",
       "      <td>013XX S CANAL ST</td>\n",
       "      <td>BATTERY</td>\n",
       "      <td>SIMPLE</td>\n",
       "      <td>GROCERY FOOD STORE</td>\n",
       "      <td>Y</td>\n",
       "      <td>N</td>\n",
       "      <td>124</td>\n",
       "      <td>11.0</td>\n",
       "      <td>08B</td>\n",
       "      <td>...</td>\n",
       "      <td>41.864494</td>\n",
       "      <td>-87.639158</td>\n",
       "      <td>(41.864493678, -87.639158)</td>\n",
       "      <td>2020-02-25</td>\n",
       "      <td>2020</td>\n",
       "      <td>2</td>\n",
       "      <td>25</td>\n",
       "      <td>10</td>\n",
       "      <td>20</td>\n",
       "      <td>Tuesday</td>\n",
       "    </tr>\n",
       "    <tr>\n",
       "      <th>1</th>\n",
       "      <td>2020-02-25 05:30:00</td>\n",
       "      <td>033XX W CULLOM AVE</td>\n",
       "      <td>THEFT</td>\n",
       "      <td>$500 AND UNDER</td>\n",
       "      <td>STREET</td>\n",
       "      <td>N</td>\n",
       "      <td>N</td>\n",
       "      <td>1724</td>\n",
       "      <td>33.0</td>\n",
       "      <td>06</td>\n",
       "      <td>...</td>\n",
       "      <td>41.959340</td>\n",
       "      <td>-87.711475</td>\n",
       "      <td>(41.959339811, -87.711474784)</td>\n",
       "      <td>2020-02-25</td>\n",
       "      <td>2020</td>\n",
       "      <td>2</td>\n",
       "      <td>25</td>\n",
       "      <td>5</td>\n",
       "      <td>30</td>\n",
       "      <td>Tuesday</td>\n",
       "    </tr>\n",
       "    <tr>\n",
       "      <th>2</th>\n",
       "      <td>2020-02-25 13:04:00</td>\n",
       "      <td>023XX S PULASKI RD</td>\n",
       "      <td>CRIMINAL TRESPASS</td>\n",
       "      <td>TO LAND</td>\n",
       "      <td>RESTAURANT</td>\n",
       "      <td>Y</td>\n",
       "      <td>N</td>\n",
       "      <td>1013</td>\n",
       "      <td>22.0</td>\n",
       "      <td>26</td>\n",
       "      <td>...</td>\n",
       "      <td>41.848475</td>\n",
       "      <td>-87.724676</td>\n",
       "      <td>(41.848474762, -87.724676285)</td>\n",
       "      <td>2020-02-25</td>\n",
       "      <td>2020</td>\n",
       "      <td>2</td>\n",
       "      <td>25</td>\n",
       "      <td>13</td>\n",
       "      <td>4</td>\n",
       "      <td>Tuesday</td>\n",
       "    </tr>\n",
       "    <tr>\n",
       "      <th>3</th>\n",
       "      <td>2020-02-25 18:05:00</td>\n",
       "      <td>058XX N RIDGE AVE</td>\n",
       "      <td>BATTERY</td>\n",
       "      <td>DOMESTIC BATTERY SIMPLE</td>\n",
       "      <td>APARTMENT</td>\n",
       "      <td>Y</td>\n",
       "      <td>Y</td>\n",
       "      <td>2013</td>\n",
       "      <td>48.0</td>\n",
       "      <td>08B</td>\n",
       "      <td>...</td>\n",
       "      <td>41.987716</td>\n",
       "      <td>-87.666750</td>\n",
       "      <td>(41.987716355, -87.666750459)</td>\n",
       "      <td>2020-02-25</td>\n",
       "      <td>2020</td>\n",
       "      <td>2</td>\n",
       "      <td>25</td>\n",
       "      <td>18</td>\n",
       "      <td>5</td>\n",
       "      <td>Tuesday</td>\n",
       "    </tr>\n",
       "    <tr>\n",
       "      <th>4</th>\n",
       "      <td>2020-02-25 13:42:00</td>\n",
       "      <td>011XX N HARDING AVE</td>\n",
       "      <td>NARCOTICS</td>\n",
       "      <td>POSS: CRACK</td>\n",
       "      <td>STREET</td>\n",
       "      <td>Y</td>\n",
       "      <td>N</td>\n",
       "      <td>1112</td>\n",
       "      <td>37.0</td>\n",
       "      <td>18</td>\n",
       "      <td>...</td>\n",
       "      <td>41.901353</td>\n",
       "      <td>-87.725041</td>\n",
       "      <td>(41.901352928, -87.725041269)</td>\n",
       "      <td>2020-02-25</td>\n",
       "      <td>2020</td>\n",
       "      <td>2</td>\n",
       "      <td>25</td>\n",
       "      <td>13</td>\n",
       "      <td>42</td>\n",
       "      <td>Tuesday</td>\n",
       "    </tr>\n",
       "  </tbody>\n",
       "</table>\n",
       "<p>5 rows × 22 columns</p>\n",
       "</div>"
      ],
      "text/plain": [
       "  DATE  OF OCCURRENCE                BLOCK  PRIMARY DESCRIPTION  \\\n",
       "0 2020-02-25 10:20:00     013XX S CANAL ST              BATTERY   \n",
       "1 2020-02-25 05:30:00   033XX W CULLOM AVE                THEFT   \n",
       "2 2020-02-25 13:04:00   023XX S PULASKI RD    CRIMINAL TRESPASS   \n",
       "3 2020-02-25 18:05:00    058XX N RIDGE AVE              BATTERY   \n",
       "4 2020-02-25 13:42:00  011XX N HARDING AVE            NARCOTICS   \n",
       "\n",
       "     SECONDARY DESCRIPTION  LOCATION DESCRIPTION ARREST DOMESTIC  BEAT  WARD  \\\n",
       "0                   SIMPLE    GROCERY FOOD STORE      Y        N   124  11.0   \n",
       "1           $500 AND UNDER                STREET      N        N  1724  33.0   \n",
       "2                  TO LAND            RESTAURANT      Y        N  1013  22.0   \n",
       "3  DOMESTIC BATTERY SIMPLE             APARTMENT      Y        Y  2013  48.0   \n",
       "4              POSS: CRACK                STREET      Y        N  1112  37.0   \n",
       "\n",
       "  FBI CD  ...   LATITUDE  LONGITUDE                       LOCATION  \\\n",
       "0    08B  ...  41.864494 -87.639158     (41.864493678, -87.639158)   \n",
       "1     06  ...  41.959340 -87.711475  (41.959339811, -87.711474784)   \n",
       "2     26  ...  41.848475 -87.724676  (41.848474762, -87.724676285)   \n",
       "3    08B  ...  41.987716 -87.666750  (41.987716355, -87.666750459)   \n",
       "4     18  ...  41.901353 -87.725041  (41.901352928, -87.725041269)   \n",
       "\n",
       "         date  year month  day  hour  minute  day_name  \n",
       "0  2020-02-25  2020     2   25    10      20   Tuesday  \n",
       "1  2020-02-25  2020     2   25     5      30   Tuesday  \n",
       "2  2020-02-25  2020     2   25    13       4   Tuesday  \n",
       "3  2020-02-25  2020     2   25    18       5   Tuesday  \n",
       "4  2020-02-25  2020     2   25    13      42   Tuesday  \n",
       "\n",
       "[5 rows x 22 columns]"
      ]
     },
     "execution_count": 16,
     "metadata": {},
     "output_type": "execute_result"
    }
   ],
   "source": [
    "df.head()"
   ]
  },
  {
   "cell_type": "code",
   "execution_count": 17,
   "metadata": {},
   "outputs": [
    {
     "name": "stdout",
     "output_type": "stream",
     "text": [
      "name is DATE  OF OCCURRENCE\n",
      "2020-05-31 16:00:00    90\n",
      "2020-05-31 15:00:00    79\n",
      "2020-05-31 21:00:00    58\n",
      "2020-05-31 14:00:00    55\n",
      "2020-05-30 22:00:00    52\n",
      "                       ..\n",
      "2021-01-12 10:19:00     1\n",
      "2020-08-20 20:45:00     1\n",
      "2020-10-25 15:10:00     1\n",
      "2020-07-02 14:11:00     1\n",
      "2020-10-05 09:55:00     1\n",
      "Name: DATE  OF OCCURRENCE, Length: 105916, dtype: int64\n",
      "\n",
      "\n",
      "name is BLOCK\n",
      "001XX N STATE ST                       405\n",
      "0000X W TERMINAL ST                    247\n",
      "064XX S DR MARTIN LUTHER KING JR DR    227\n",
      "008XX N MICHIGAN AVE                   194\n",
      "033XX W FILLMORE ST                    154\n",
      "                                      ... \n",
      "016XX N HERMITAGE AVE                    1\n",
      "038XX E 112TH ST                         1\n",
      "100XX S SEELEY AVE                       1\n",
      "012XX W 34TH ST                          1\n",
      "028XX W 47TH PL                          1\n",
      "Name: BLOCK, Length: 27104, dtype: int64\n",
      "\n",
      "\n",
      "name is  PRIMARY DESCRIPTION\n",
      "BATTERY                              40255\n",
      "THEFT                                38454\n",
      "CRIMINAL DAMAGE                      24556\n",
      "ASSAULT                              17950\n",
      "DECEPTIVE PRACTICE                   17770\n",
      "OTHER OFFENSE                        11861\n",
      "MOTOR VEHICLE THEFT                   9992\n",
      "WEAPONS VIOLATION                     8606\n",
      "BURGLARY                              8379\n",
      "ROBBERY                               7832\n",
      "NARCOTICS                             6257\n",
      "CRIMINAL TRESPASS                     3802\n",
      "OFFENSE INVOLVING CHILDREN            1786\n",
      "PUBLIC PEACE VIOLATION                1193\n",
      "CRIMINAL SEXUAL ASSAULT               1052\n",
      "SEX OFFENSE                            884\n",
      "HOMICIDE                               800\n",
      "ARSON                                  591\n",
      "INTERFERENCE WITH PUBLIC OFFICER       551\n",
      "PROSTITUTION                           239\n",
      "STALKING                               207\n",
      "INTIMIDATION                           160\n",
      "CONCEALED CARRY LICENSE VIOLATION      143\n",
      "LIQUOR LAW VIOLATION                   128\n",
      "KIDNAPPING                             110\n",
      "OBSCENITY                               50\n",
      "GAMBLING                                23\n",
      "CRIM SEXUAL ASSAULT                     20\n",
      "PUBLIC INDECENCY                         9\n",
      "HUMAN TRAFFICKING                        4\n",
      "OTHER NARCOTIC VIOLATION                 4\n",
      "NON-CRIMINAL                             1\n",
      "RITUALISM                                1\n",
      "Name:  PRIMARY DESCRIPTION, dtype: int64\n",
      "\n",
      "\n",
      "name is  SECONDARY DESCRIPTION\n",
      "SIMPLE                                         22194\n",
      "DOMESTIC BATTERY SIMPLE                        20210\n",
      "$500 AND UNDER                                 16798\n",
      "TO PROPERTY                                    12374\n",
      "TO VEHICLE                                     11421\n",
      "                                               ...  \n",
      "SALE TOBACCO PRODUCTS TO MINOR                     1\n",
      "DEFACE IDENT MARKS OF FIREARM                      1\n",
      "REFUSING TO AID AN OFFICER                         1\n",
      "AGGRAVATED DOMESTIC BATTERY - OTHER FIREARM        1\n",
      "CRIM SEX ABUSE BY FAM MEMBER                       1\n",
      "Name:  SECONDARY DESCRIPTION, Length: 391, dtype: int64\n",
      "\n",
      "\n",
      "name is  LOCATION DESCRIPTION\n",
      "STREET                49624\n",
      "RESIDENCE             37667\n",
      "APARTMENT             35870\n",
      "SIDEWALK              12520\n",
      "SMALL RETAIL STORE     5013\n",
      "                      ...  \n",
      "STAIRWELL                 1\n",
      "SCHOOL YARD               1\n",
      "CHA GROUNDS               1\n",
      "CHA ELEVATOR              1\n",
      "MOTEL                     1\n",
      "Name:  LOCATION DESCRIPTION, Length: 165, dtype: int64\n",
      "\n",
      "\n",
      "name is ARREST\n",
      "N    173437\n",
      "Y     30233\n",
      "Name: ARREST, dtype: int64\n",
      "\n",
      "\n",
      "name is DOMESTIC\n",
      "N    164279\n",
      "Y     39391\n",
      "Name: DOMESTIC, dtype: int64\n",
      "\n",
      "\n",
      "name is BEAT\n",
      "421     1843\n",
      "511     1738\n",
      "1834    1721\n",
      "624     1697\n",
      "1112    1632\n",
      "        ... \n",
      "1654     262\n",
      "1651     230\n",
      "1653     116\n",
      "1652      46\n",
      "1655      40\n",
      "Name: BEAT, Length: 274, dtype: int64\n",
      "\n",
      "\n",
      "name is WARD\n",
      "28.0    10228\n",
      "27.0     8659\n",
      "24.0     8392\n",
      "6.0      8322\n",
      "42.0     7189\n",
      "8.0      6964\n",
      "17.0     6921\n",
      "9.0      6570\n",
      "21.0     6537\n",
      "20.0     6528\n",
      "16.0     6455\n",
      "7.0      6338\n",
      "34.0     6153\n",
      "37.0     6117\n",
      "3.0      6012\n",
      "29.0     5408\n",
      "4.0      5206\n",
      "5.0      5135\n",
      "25.0     3638\n",
      "10.0     3260\n",
      "26.0     3248\n",
      "1.0      3216\n",
      "49.0     3141\n",
      "2.0      3075\n",
      "15.0     3067\n",
      "18.0     2870\n",
      "44.0     2671\n",
      "11.0     2645\n",
      "22.0     2618\n",
      "46.0     2602\n",
      "40.0     2495\n",
      "31.0     2490\n",
      "12.0     2481\n",
      "36.0     2457\n",
      "32.0     2398\n",
      "35.0     2377\n",
      "45.0     2374\n",
      "14.0     2345\n",
      "48.0     2329\n",
      "50.0     2300\n",
      "47.0     2278\n",
      "41.0     2257\n",
      "30.0     2236\n",
      "23.0     2077\n",
      "39.0     2048\n",
      "43.0     1999\n",
      "33.0     1972\n",
      "19.0     1922\n",
      "13.0     1832\n",
      "38.0     1808\n",
      "Name: WARD, dtype: int64\n",
      "\n",
      "\n",
      "name is FBI CD\n",
      "06     38454\n",
      "08B    32476\n",
      "14     24556\n",
      "11     16771\n",
      "08A    14835\n",
      "26     13107\n",
      "07      9992\n",
      "15      8750\n",
      "05      8379\n",
      "04B     8224\n",
      "03      7832\n",
      "04A     6269\n",
      "18      6259\n",
      "24      1734\n",
      "17      1278\n",
      "02      1243\n",
      "10       905\n",
      "01A      793\n",
      "20       752\n",
      "09       591\n",
      "16       239\n",
      "22       128\n",
      "13        58\n",
      "19        24\n",
      "12        14\n",
      "01B        7\n",
      "Name: FBI CD, dtype: int64\n",
      "\n",
      "\n",
      "name is X COORDINATE\n",
      "1176352.0    261\n",
      "1154228.0    157\n",
      "1177338.0    155\n",
      "1100658.0    152\n",
      "1145727.0    129\n",
      "            ... \n",
      "1185721.0      1\n",
      "1167296.0      1\n",
      "1166849.0      1\n",
      "1185734.0      1\n",
      "1155214.0      1\n",
      "Name: X COORDINATE, Length: 48167, dtype: int64\n",
      "\n",
      "\n",
      "name is Y COORDINATE\n",
      "1900927.0    215\n",
      "1895173.0    154\n",
      "1934241.0    154\n",
      "1906181.0    134\n",
      "1853720.0    132\n",
      "            ... \n",
      "1880904.0      1\n",
      "1880898.0      1\n",
      "1880886.0      1\n",
      "1880877.0      1\n",
      "1875526.0      1\n",
      "Name: Y COORDINATE, Length: 65914, dtype: int64\n",
      "\n",
      "\n",
      "name is LATITUDE\n",
      "41.883500    212\n",
      "41.868181    154\n",
      "41.976290    152\n",
      "41.897895    130\n",
      "41.754593    128\n",
      "            ... \n",
      "41.885493      1\n",
      "41.718853      1\n",
      "41.812910      1\n",
      "41.735760      1\n",
      "41.807984      1\n",
      "Name: LATITUDE, Length: 108792, dtype: int64\n",
      "\n",
      "\n",
      "name is LONGITUDE\n",
      "-87.627877    212\n",
      "-87.709271    154\n",
      "-87.905227    152\n",
      "-87.624097    130\n",
      "-87.741529    128\n",
      "             ... \n",
      "-87.652701      1\n",
      "-87.583978      1\n",
      "-87.595835      1\n",
      "-87.771974      1\n",
      "-87.720116      1\n",
      "Name: LONGITUDE, Length: 108780, dtype: int64\n",
      "\n",
      "\n",
      "name is LOCATION\n",
      "(41.883500187, -87.627876698)    212\n",
      "(41.868180939, -87.709271389)    154\n",
      "(41.976290414, -87.905227221)    152\n",
      "(41.897895128, -87.624096605)    130\n",
      "(41.754592961, -87.741528537)    128\n",
      "                                ... \n",
      "(41.977687522, -87.65990422)       1\n",
      "(41.849251814, -87.729957865)      1\n",
      "(41.802054999, -87.706242142)      1\n",
      "(41.781573858, -87.711703117)      1\n",
      "(42.019530514, -87.689485178)      1\n",
      "Name: LOCATION, Length: 108814, dtype: int64\n",
      "\n",
      "\n",
      "name is date\n",
      "2020-05-31    1897\n",
      "2020-08-10     939\n",
      "2020-05-30     923\n",
      "2020-06-01     874\n",
      "2020-07-04     742\n",
      "              ... \n",
      "2020-04-02     377\n",
      "2020-03-22     376\n",
      "2020-04-14     363\n",
      "2020-04-19     340\n",
      "2021-01-31     317\n",
      "Name: date, Length: 365, dtype: int64\n",
      "\n",
      "\n",
      "name is year\n",
      "2020    187105\n",
      "2021     16565\n",
      "Name: year, dtype: int64\n",
      "\n",
      "\n",
      "name is month\n",
      "8     19720\n",
      "7     19428\n",
      "10    18210\n",
      "9     17732\n",
      "6     17503\n",
      "5     17497\n",
      "3     16616\n",
      "2     16482\n",
      "11    16331\n",
      "12    16064\n",
      "1     15277\n",
      "4     12810\n",
      "Name: month, dtype: int64\n",
      "\n",
      "\n",
      "name is day\n",
      "1     7383\n",
      "10    7124\n",
      "6     6852\n",
      "20    6852\n",
      "15    6773\n",
      "5     6769\n",
      "7     6765\n",
      "3     6711\n",
      "21    6711\n",
      "13    6681\n",
      "8     6679\n",
      "22    6650\n",
      "18    6638\n",
      "11    6632\n",
      "16    6623\n",
      "23    6623\n",
      "17    6585\n",
      "25    6579\n",
      "28    6569\n",
      "12    6564\n",
      "14    6549\n",
      "9     6527\n",
      "24    6448\n",
      "27    6443\n",
      "2     6422\n",
      "29    6393\n",
      "19    6341\n",
      "4     6282\n",
      "26    6245\n",
      "30    6184\n",
      "31    5073\n",
      "Name: day, dtype: int64\n",
      "\n",
      "\n",
      "name is hour\n",
      "12    12723\n",
      "0     11813\n",
      "15    10922\n",
      "16    10920\n",
      "17    10868\n",
      "18    10859\n",
      "20    10776\n",
      "19    10460\n",
      "14    10316\n",
      "13     9973\n",
      "21     9888\n",
      "22     9761\n",
      "11     9266\n",
      "10     9215\n",
      "9      9101\n",
      "23     8420\n",
      "1      6591\n",
      "8      6377\n",
      "2      5585\n",
      "3      4939\n",
      "7      4360\n",
      "4      3922\n",
      "5      3311\n",
      "6      3304\n",
      "Name: hour, dtype: int64\n",
      "\n",
      "\n",
      "name is minute\n",
      "0     67648\n",
      "30    25529\n",
      "45     8133\n",
      "15     7573\n",
      "20     6053\n",
      "50     5978\n",
      "40     5674\n",
      "10     4794\n",
      "25     3347\n",
      "5      3197\n",
      "35     3193\n",
      "55     3160\n",
      "1      2891\n",
      "8      1373\n",
      "28     1340\n",
      "38     1337\n",
      "48     1334\n",
      "12     1286\n",
      "58     1279\n",
      "23     1278\n",
      "53     1276\n",
      "18     1270\n",
      "7      1266\n",
      "17     1261\n",
      "37     1259\n",
      "24     1257\n",
      "42     1240\n",
      "43     1230\n",
      "47     1228\n",
      "22     1226\n",
      "26     1223\n",
      "14     1221\n",
      "27     1217\n",
      "3      1217\n",
      "2      1215\n",
      "54     1206\n",
      "57     1204\n",
      "33     1199\n",
      "13     1199\n",
      "56     1193\n",
      "9      1191\n",
      "36     1188\n",
      "52     1176\n",
      "32     1170\n",
      "49     1162\n",
      "59     1161\n",
      "44     1157\n",
      "39     1149\n",
      "4      1148\n",
      "11     1145\n",
      "19     1140\n",
      "21     1139\n",
      "51     1137\n",
      "34     1121\n",
      "6      1117\n",
      "16     1114\n",
      "46     1110\n",
      "31     1057\n",
      "41     1043\n",
      "29     1041\n",
      "Name: minute, dtype: int64\n",
      "\n",
      "\n",
      "name is day_name\n",
      "Sunday       30233\n",
      "Friday       29994\n",
      "Saturday     29439\n",
      "Monday       29138\n",
      "Wednesday    28975\n",
      "Thursday     27954\n",
      "Tuesday      27937\n",
      "Name: day_name, dtype: int64\n",
      "\n",
      "\n"
     ]
    }
   ],
   "source": [
    "for col in df.columns:\n",
    "    print (f'name is {col}')\n",
    "    print(df[col].value_counts())\n",
    "    print('\\n')"
   ]
  },
  {
   "cell_type": "code",
   "execution_count": 18,
   "metadata": {},
   "outputs": [
    {
     "data": {
      "text/plain": [
       "<matplotlib.axes._subplots.AxesSubplot at 0x21d07106e20>"
      ]
     },
     "execution_count": 18,
     "metadata": {},
     "output_type": "execute_result"
    },
    {
     "data": {
      "image/png": "[encoded data removed]",
      "text/plain": [
       "<Figure size 720x720 with 1 Axes>"
      ]
     },
     "metadata": {},
     "output_type": "display_data"
    }
   ],
   "source": [
    "sns.countplot(df['ARREST'])"
   ]
  },
  {
   "cell_type": "markdown",
   "metadata": {},
   "source": [
    "الجرائم التي حصلت ولم يتم الامساك بيها اكبر بكثير يالتي امسكو بيها"
   ]
  },
  {
   "cell_type": "code",
   "execution_count": 19,
   "metadata": {},
   "outputs": [
    {
     "data": {
      "text/plain": [
       "<matplotlib.axes._subplots.AxesSubplot at 0x21d07106970>"
      ]
     },
     "execution_count": 19,
     "metadata": {},
     "output_type": "execute_result"
    },
    {
     "data": {
      "image/png": "[encoded data removed]",
      "text/plain": [
       "<Figure size 720x720 with 1 Axes>"
      ]
     },
     "metadata": {},
     "output_type": "display_data"
    }
   ],
   "source": [
    "sns.countplot(df['DOMESTIC'])"
   ]
  },
  {
   "cell_type": "markdown",
   "metadata": {},
   "source": [
    "الجرائم خارج المدينه ااكبر من التي بالداخل"
   ]
  },
  {
   "cell_type": "code",
   "execution_count": 20,
   "metadata": {},
   "outputs": [
    {
     "data": {
      "text/plain": [
       "<seaborn.axisgrid.FacetGrid at 0x21d07ba7490>"
      ]
     },
     "execution_count": 20,
     "metadata": {},
     "output_type": "execute_result"
    },
    {
     "data": {
      "image/png": "[encoded data removed]",
      "text/plain": [
       "<Figure size 620.91x432 with 1 Axes>"
      ]
     },
     "metadata": {},
     "output_type": "display_data"
    }
   ],
   "source": [
    "sns.catplot(x=\"year\", data=df, height=6, aspect=1.3, kind=\"count\", hue='ARREST')"
   ]
  },
  {
   "cell_type": "markdown",
   "metadata": {},
   "source": [
    "الجرائم في 2020 اكتر من التي في 2021"
   ]
  },
  {
   "cell_type": "code",
   "execution_count": 21,
   "metadata": {},
   "outputs": [
    {
     "data": {
      "text/plain": [
       "<seaborn.axisgrid.FacetGrid at 0x21d07c25c10>"
      ]
     },
     "execution_count": 21,
     "metadata": {},
     "output_type": "execute_result"
    },
    {
     "data": {
      "image/png": "[encoded data removed]",
      "text/plain": [
       "<Figure size 620.91x432 with 1 Axes>"
      ]
     },
     "metadata": {},
     "output_type": "display_data"
    }
   ],
   "source": [
    "sns.catplot(x=\"month\", data=df, height=6, aspect=1.3, kind=\"count\", hue='ARREST')"
   ]
  },
  {
   "cell_type": "markdown",
   "metadata": {},
   "source": [
    "اقل جرائم في شهر 4\n",
    "+++++++++++++\n",
    "اكثر الشهر يحدث بيه جرائم هو شهري 7و8"
   ]
  },
  {
   "cell_type": "markdown",
   "metadata": {},
   "source": [
    "اكثر جرائم تم الامساك بيه في شهر 2"
   ]
  },
  {
   "cell_type": "code",
   "execution_count": 22,
   "metadata": {},
   "outputs": [
    {
     "data": {
      "text/plain": [
       "<seaborn.axisgrid.FacetGrid at 0x21d07bf4fa0>"
      ]
     },
     "execution_count": 22,
     "metadata": {},
     "output_type": "execute_result"
    },
    {
     "data": {
      "image/png": "[encoded data removed]",
      "text/plain": [
       "<Figure size 620.91x432 with 1 Axes>"
      ]
     },
     "metadata": {},
     "output_type": "display_data"
    }
   ],
   "source": [
    "sns.catplot(x=\"hour\",data=df, height=6, aspect=1.3,kind=\"count\",hue='ARREST')"
   ]
  },
  {
   "cell_type": "markdown",
   "metadata": {},
   "source": [
    "اكثر الجلرائم تحدث الساعه 12 صباحا و12 مساء"
   ]
  },
  {
   "cell_type": "markdown",
   "metadata": {},
   "source": [
    "اكثر الجرائم تم الامساك بيها الساعه 8 مساء"
   ]
  },
  {
   "cell_type": "code",
   "execution_count": 23,
   "metadata": {},
   "outputs": [
    {
     "data": {
      "text/plain": [
       "<matplotlib.axes._subplots.AxesSubplot at 0x21d144e2f70>"
      ]
     },
     "execution_count": 23,
     "metadata": {},
     "output_type": "execute_result"
    },
    {
     "data": {
      "image/png": "[encoded data removed]",
      "text/plain": [
       "<Figure size 720x720 with 1 Axes>"
      ]
     },
     "metadata": {},
     "output_type": "display_data"
    }
   ],
   "source": [
    "sns.countplot(x=\"day_name\",data=df,hue='ARREST')"
   ]
  },
  {
   "cell_type": "markdown",
   "metadata": {},
   "source": [
    "اكثر الجرائم تحدث في يوم الجمعه و الاحد"
   ]
  },
  {
   "cell_type": "code",
   "execution_count": 24,
   "metadata": {},
   "outputs": [
    {
     "data": {
      "text/plain": [
       "<matplotlib.axes._subplots.AxesSubplot at 0x21d04eb9580>"
      ]
     },
     "execution_count": 24,
     "metadata": {},
     "output_type": "execute_result"
    },
    {
     "data": {
      "image/png": "[encoded data removed]",
      "text/plain": [
       "<Figure size 720x720 with 1 Axes>"
      ]
     },
     "metadata": {},
     "output_type": "display_data"
    }
   ],
   "source": [
    "sns.countplot(x=\" LOCATION DESCRIPTION\",data=df)"
   ]
  },
  {
   "cell_type": "code",
   "execution_count": 25,
   "metadata": {},
   "outputs": [
    {
     "data": {
      "text/plain": [
       "<matplotlib.axes._subplots.AxesSubplot at 0x21d055deb20>"
      ]
     },
     "execution_count": 25,
     "metadata": {},
     "output_type": "execute_result"
    },
    {
     "data": {
      "image/png": "[encoded data removed]",
      "text/plain": [
       "<Figure size 720x720 with 1 Axes>"
      ]
     },
     "metadata": {},
     "output_type": "display_data"
    }
   ],
   "source": [
    "f=df[' LOCATION DESCRIPTION'].value_counts().nlargest(10)\n",
    "f.plot(kind=\"bar\")"
   ]
  },
  {
   "cell_type": "code",
   "execution_count": null,
   "metadata": {},
   "outputs": [],
   "source": [
    "اعلي عشره اماكن بيحدث فيها جرائم"
   ]
  },
  {
   "cell_type": "code",
   "execution_count": 26,
   "metadata": {},
   "outputs": [
    {
     "data": {
      "text/plain": [
       "<matplotlib.axes._subplots.AxesSubplot at 0x21d0564c760>"
      ]
     },
     "execution_count": 26,
     "metadata": {},
     "output_type": "execute_result"
    },
    {
     "data": {
      "image/png": "[encoded data removed]",
      "text/plain": [
       "<Figure size 720x720 with 1 Axes>"
      ]
     },
     "metadata": {},
     "output_type": "display_data"
    }
   ],
   "source": [
    "pl=df['BLOCK'].value_counts().nlargest(10)\n",
    "pl.plot(kind=\"bar\")"
   ]
  },
  {
   "cell_type": "markdown",
   "metadata": {},
   "source": [
    "اكتر عشره احياء بيحصل فيهم جرائم"
   ]
  },
  {
   "cell_type": "code",
   "execution_count": 27,
   "metadata": {},
   "outputs": [
    {
     "data": {
      "text/plain": [
       "day_name\n",
       "Friday       29994\n",
       "Monday       29138\n",
       "Saturday     29439\n",
       "Sunday       30233\n",
       "Thursday     27954\n",
       "Tuesday      27937\n",
       "Wednesday    28975\n",
       "dtype: int64"
      ]
     },
     "execution_count": 27,
     "metadata": {},
     "output_type": "execute_result"
    }
   ],
   "source": [
    "df.groupby(['day_name']).size()"
   ]
  },
  {
   "cell_type": "code",
   "execution_count": 28,
   "metadata": {},
   "outputs": [
    {
     "data": {
      "text/plain": [
       "hour\n",
       "0     11813\n",
       "1      6591\n",
       "2      5585\n",
       "3      4939\n",
       "4      3922\n",
       "5      3311\n",
       "6      3304\n",
       "7      4360\n",
       "8      6377\n",
       "9      9101\n",
       "10     9215\n",
       "11     9266\n",
       "12    12723\n",
       "13     9973\n",
       "14    10316\n",
       "15    10922\n",
       "16    10920\n",
       "17    10868\n",
       "18    10859\n",
       "19    10460\n",
       "20    10776\n",
       "21     9888\n",
       "22     9761\n",
       "23     8420\n",
       "dtype: int64"
      ]
     },
     "execution_count": 28,
     "metadata": {},
     "output_type": "execute_result"
    }
   ],
   "source": [
    "df.groupby(['hour']).size()"
   ]
  },
  {
   "cell_type": "code",
   "execution_count": 29,
   "metadata": {},
   "outputs": [
    {
     "data": {
      "text/html": [
       "<div>\n",
       "<style scoped>\n",
       "    .dataframe tbody tr th:only-of-type {\n",
       "        vertical-align: middle;\n",
       "    }\n",
       "\n",
       "    .dataframe tbody tr th {\n",
       "        vertical-align: top;\n",
       "    }\n",
       "\n",
       "    .dataframe thead th {\n",
       "        text-align: right;\n",
       "    }\n",
       "</style>\n",
       "<table border=\"1\" class=\"dataframe\">\n",
       "  <thead>\n",
       "    <tr style=\"text-align: right;\">\n",
       "      <th></th>\n",
       "      <th>DATE  OF OCCURRENCE</th>\n",
       "      <th>BLOCK</th>\n",
       "      <th>PRIMARY DESCRIPTION</th>\n",
       "      <th>SECONDARY DESCRIPTION</th>\n",
       "      <th>LOCATION DESCRIPTION</th>\n",
       "      <th>ARREST</th>\n",
       "      <th>DOMESTIC</th>\n",
       "      <th>BEAT</th>\n",
       "      <th>WARD</th>\n",
       "      <th>FBI CD</th>\n",
       "      <th>...</th>\n",
       "      <th>LATITUDE</th>\n",
       "      <th>LONGITUDE</th>\n",
       "      <th>LOCATION</th>\n",
       "      <th>date</th>\n",
       "      <th>year</th>\n",
       "      <th>month</th>\n",
       "      <th>day</th>\n",
       "      <th>hour</th>\n",
       "      <th>minute</th>\n",
       "      <th>day_name</th>\n",
       "    </tr>\n",
       "  </thead>\n",
       "  <tbody>\n",
       "    <tr>\n",
       "      <th>0</th>\n",
       "      <td>2020-02-25 10:20:00</td>\n",
       "      <td>013XX S CANAL ST</td>\n",
       "      <td>BATTERY</td>\n",
       "      <td>SIMPLE</td>\n",
       "      <td>GROCERY FOOD STORE</td>\n",
       "      <td>Y</td>\n",
       "      <td>N</td>\n",
       "      <td>124</td>\n",
       "      <td>11.0</td>\n",
       "      <td>08B</td>\n",
       "      <td>...</td>\n",
       "      <td>41.864494</td>\n",
       "      <td>-87.639158</td>\n",
       "      <td>(41.864493678, -87.639158)</td>\n",
       "      <td>2020-02-25</td>\n",
       "      <td>2020</td>\n",
       "      <td>2</td>\n",
       "      <td>25</td>\n",
       "      <td>10</td>\n",
       "      <td>20</td>\n",
       "      <td>Tuesday</td>\n",
       "    </tr>\n",
       "    <tr>\n",
       "      <th>1</th>\n",
       "      <td>2020-02-25 05:30:00</td>\n",
       "      <td>033XX W CULLOM AVE</td>\n",
       "      <td>THEFT</td>\n",
       "      <td>$500 AND UNDER</td>\n",
       "      <td>STREET</td>\n",
       "      <td>N</td>\n",
       "      <td>N</td>\n",
       "      <td>1724</td>\n",
       "      <td>33.0</td>\n",
       "      <td>06</td>\n",
       "      <td>...</td>\n",
       "      <td>41.959340</td>\n",
       "      <td>-87.711475</td>\n",
       "      <td>(41.959339811, -87.711474784)</td>\n",
       "      <td>2020-02-25</td>\n",
       "      <td>2020</td>\n",
       "      <td>2</td>\n",
       "      <td>25</td>\n",
       "      <td>5</td>\n",
       "      <td>30</td>\n",
       "      <td>Tuesday</td>\n",
       "    </tr>\n",
       "    <tr>\n",
       "      <th>2</th>\n",
       "      <td>2020-02-25 13:04:00</td>\n",
       "      <td>023XX S PULASKI RD</td>\n",
       "      <td>CRIMINAL TRESPASS</td>\n",
       "      <td>TO LAND</td>\n",
       "      <td>RESTAURANT</td>\n",
       "      <td>Y</td>\n",
       "      <td>N</td>\n",
       "      <td>1013</td>\n",
       "      <td>22.0</td>\n",
       "      <td>26</td>\n",
       "      <td>...</td>\n",
       "      <td>41.848475</td>\n",
       "      <td>-87.724676</td>\n",
       "      <td>(41.848474762, -87.724676285)</td>\n",
       "      <td>2020-02-25</td>\n",
       "      <td>2020</td>\n",
       "      <td>2</td>\n",
       "      <td>25</td>\n",
       "      <td>13</td>\n",
       "      <td>4</td>\n",
       "      <td>Tuesday</td>\n",
       "    </tr>\n",
       "    <tr>\n",
       "      <th>3</th>\n",
       "      <td>2020-02-25 18:05:00</td>\n",
       "      <td>058XX N RIDGE AVE</td>\n",
       "      <td>BATTERY</td>\n",
       "      <td>DOMESTIC BATTERY SIMPLE</td>\n",
       "      <td>APARTMENT</td>\n",
       "      <td>Y</td>\n",
       "      <td>Y</td>\n",
       "      <td>2013</td>\n",
       "      <td>48.0</td>\n",
       "      <td>08B</td>\n",
       "      <td>...</td>\n",
       "      <td>41.987716</td>\n",
       "      <td>-87.666750</td>\n",
       "      <td>(41.987716355, -87.666750459)</td>\n",
       "      <td>2020-02-25</td>\n",
       "      <td>2020</td>\n",
       "      <td>2</td>\n",
       "      <td>25</td>\n",
       "      <td>18</td>\n",
       "      <td>5</td>\n",
       "      <td>Tuesday</td>\n",
       "    </tr>\n",
       "    <tr>\n",
       "      <th>4</th>\n",
       "      <td>2020-02-25 13:42:00</td>\n",
       "      <td>011XX N HARDING AVE</td>\n",
       "      <td>NARCOTICS</td>\n",
       "      <td>POSS: CRACK</td>\n",
       "      <td>STREET</td>\n",
       "      <td>Y</td>\n",
       "      <td>N</td>\n",
       "      <td>1112</td>\n",
       "      <td>37.0</td>\n",
       "      <td>18</td>\n",
       "      <td>...</td>\n",
       "      <td>41.901353</td>\n",
       "      <td>-87.725041</td>\n",
       "      <td>(41.901352928, -87.725041269)</td>\n",
       "      <td>2020-02-25</td>\n",
       "      <td>2020</td>\n",
       "      <td>2</td>\n",
       "      <td>25</td>\n",
       "      <td>13</td>\n",
       "      <td>42</td>\n",
       "      <td>Tuesday</td>\n",
       "    </tr>\n",
       "  </tbody>\n",
       "</table>\n",
       "<p>5 rows × 22 columns</p>\n",
       "</div>"
      ],
      "text/plain": [
       "  DATE  OF OCCURRENCE                BLOCK  PRIMARY DESCRIPTION  \\\n",
       "0 2020-02-25 10:20:00     013XX S CANAL ST              BATTERY   \n",
       "1 2020-02-25 05:30:00   033XX W CULLOM AVE                THEFT   \n",
       "2 2020-02-25 13:04:00   023XX S PULASKI RD    CRIMINAL TRESPASS   \n",
       "3 2020-02-25 18:05:00    058XX N RIDGE AVE              BATTERY   \n",
       "4 2020-02-25 13:42:00  011XX N HARDING AVE            NARCOTICS   \n",
       "\n",
       "     SECONDARY DESCRIPTION  LOCATION DESCRIPTION ARREST DOMESTIC  BEAT  WARD  \\\n",
       "0                   SIMPLE    GROCERY FOOD STORE      Y        N   124  11.0   \n",
       "1           $500 AND UNDER                STREET      N        N  1724  33.0   \n",
       "2                  TO LAND            RESTAURANT      Y        N  1013  22.0   \n",
       "3  DOMESTIC BATTERY SIMPLE             APARTMENT      Y        Y  2013  48.0   \n",
       "4              POSS: CRACK                STREET      Y        N  1112  37.0   \n",
       "\n",
       "  FBI CD  ...   LATITUDE  LONGITUDE                       LOCATION  \\\n",
       "0    08B  ...  41.864494 -87.639158     (41.864493678, -87.639158)   \n",
       "1     06  ...  41.959340 -87.711475  (41.959339811, -87.711474784)   \n",
       "2     26  ...  41.848475 -87.724676  (41.848474762, -87.724676285)   \n",
       "3    08B  ...  41.987716 -87.666750  (41.987716355, -87.666750459)   \n",
       "4     18  ...  41.901353 -87.725041  (41.901352928, -87.725041269)   \n",
       "\n",
       "         date  year month  day  hour  minute  day_name  \n",
       "0  2020-02-25  2020     2   25    10      20   Tuesday  \n",
       "1  2020-02-25  2020     2   25     5      30   Tuesday  \n",
       "2  2020-02-25  2020     2   25    13       4   Tuesday  \n",
       "3  2020-02-25  2020     2   25    18       5   Tuesday  \n",
       "4  2020-02-25  2020     2   25    13      42   Tuesday  \n",
       "\n",
       "[5 rows x 22 columns]"
      ]
     },
     "execution_count": 29,
     "metadata": {},
     "output_type": "execute_result"
    }
   ],
   "source": [
    "df.head()"
   ]
  },
  {
   "cell_type": "code",
   "execution_count": 30,
   "metadata": {},
   "outputs": [
    {
     "data": {
      "text/plain": [
       "Index(['DATE  OF OCCURRENCE', 'BLOCK', ' PRIMARY DESCRIPTION',\n",
       "       ' SECONDARY DESCRIPTION', ' LOCATION DESCRIPTION', 'ARREST', 'DOMESTIC',\n",
       "       'BEAT', 'WARD', 'FBI CD', 'X COORDINATE', 'Y COORDINATE', 'LATITUDE',\n",
       "       'LONGITUDE', 'LOCATION', 'date', 'year', 'month', 'day', 'hour',\n",
       "       'minute', 'day_name'],\n",
       "      dtype='object')"
      ]
     },
     "execution_count": 30,
     "metadata": {},
     "output_type": "execute_result"
    }
   ],
   "source": [
    "df.columns"
   ]
  },
  {
   "cell_type": "code",
   "execution_count": 31,
   "metadata": {},
   "outputs": [],
   "source": [
    "import folium\n",
    "from folium import plugins"
   ]
  },
  {
   "cell_type": "code",
   "execution_count": 32,
   "metadata": {},
   "outputs": [],
   "source": [
    "chicago_map = folium.Map(location=[41.864073,-87.706819],\n",
    "                        zoom_start=11,\n",
    "                        tiles=\"CartoDB dark_matter\")"
   ]
  },
  {
   "cell_type": "code",
   "execution_count": 33,
   "metadata": {},
   "outputs": [
    {
     "data": {
      "text/html": [
       "<div>\n",
       "<style scoped>\n",
       "    .dataframe tbody tr th:only-of-type {\n",
       "        vertical-align: middle;\n",
       "    }\n",
       "\n",
       "    .dataframe tbody tr th {\n",
       "        vertical-align: top;\n",
       "    }\n",
       "\n",
       "    .dataframe thead th {\n",
       "        text-align: right;\n",
       "    }\n",
       "</style>\n",
       "<table border=\"1\" class=\"dataframe\">\n",
       "  <thead>\n",
       "    <tr style=\"text-align: right;\">\n",
       "      <th></th>\n",
       "      <th>LATITUDE</th>\n",
       "      <th>LONGITUDE</th>\n",
       "      <th>PRIMARY DESCRIPTION</th>\n",
       "      <th>ARREST</th>\n",
       "      <th>DOMESTIC</th>\n",
       "    </tr>\n",
       "    <tr>\n",
       "      <th>WARD</th>\n",
       "      <th></th>\n",
       "      <th></th>\n",
       "      <th></th>\n",
       "      <th></th>\n",
       "      <th></th>\n",
       "    </tr>\n",
       "  </thead>\n",
       "  <tbody>\n",
       "    <tr>\n",
       "      <th>1.0</th>\n",
       "      <td>41.922547</td>\n",
       "      <td>-87.696785</td>\n",
       "      <td>BATTERY</td>\n",
       "      <td>N</td>\n",
       "      <td>N</td>\n",
       "    </tr>\n",
       "    <tr>\n",
       "      <th>2.0</th>\n",
       "      <td>41.899251</td>\n",
       "      <td>-87.621459</td>\n",
       "      <td>DECEPTIVE PRACTICE</td>\n",
       "      <td>N</td>\n",
       "      <td>N</td>\n",
       "    </tr>\n",
       "    <tr>\n",
       "      <th>3.0</th>\n",
       "      <td>41.805264</td>\n",
       "      <td>-87.618051</td>\n",
       "      <td>THEFT</td>\n",
       "      <td>N</td>\n",
       "      <td>N</td>\n",
       "    </tr>\n",
       "    <tr>\n",
       "      <th>4.0</th>\n",
       "      <td>41.801896</td>\n",
       "      <td>-87.587692</td>\n",
       "      <td>CRIMINAL DAMAGE</td>\n",
       "      <td>N</td>\n",
       "      <td>N</td>\n",
       "    </tr>\n",
       "    <tr>\n",
       "      <th>5.0</th>\n",
       "      <td>41.772027</td>\n",
       "      <td>-87.591139</td>\n",
       "      <td>ASSAULT</td>\n",
       "      <td>N</td>\n",
       "      <td>N</td>\n",
       "    </tr>\n",
       "    <tr>\n",
       "      <th>6.0</th>\n",
       "      <td>41.737751</td>\n",
       "      <td>-87.604856</td>\n",
       "      <td>CRIMINAL TRESPASS</td>\n",
       "      <td>Y</td>\n",
       "      <td>N</td>\n",
       "    </tr>\n",
       "    <tr>\n",
       "      <th>7.0</th>\n",
       "      <td>41.760347</td>\n",
       "      <td>-87.561175</td>\n",
       "      <td>DECEPTIVE PRACTICE</td>\n",
       "      <td>N</td>\n",
       "      <td>N</td>\n",
       "    </tr>\n",
       "    <tr>\n",
       "      <th>8.0</th>\n",
       "      <td>41.765745</td>\n",
       "      <td>-87.588550</td>\n",
       "      <td>MOTOR VEHICLE THEFT</td>\n",
       "      <td>N</td>\n",
       "      <td>N</td>\n",
       "    </tr>\n",
       "    <tr>\n",
       "      <th>9.0</th>\n",
       "      <td>41.697338</td>\n",
       "      <td>-87.606096</td>\n",
       "      <td>THEFT</td>\n",
       "      <td>N</td>\n",
       "      <td>N</td>\n",
       "    </tr>\n",
       "    <tr>\n",
       "      <th>10.0</th>\n",
       "      <td>41.651135</td>\n",
       "      <td>-87.545927</td>\n",
       "      <td>DECEPTIVE PRACTICE</td>\n",
       "      <td>N</td>\n",
       "      <td>N</td>\n",
       "    </tr>\n",
       "    <tr>\n",
       "      <th>11.0</th>\n",
       "      <td>41.864494</td>\n",
       "      <td>-87.639158</td>\n",
       "      <td>BATTERY</td>\n",
       "      <td>Y</td>\n",
       "      <td>N</td>\n",
       "    </tr>\n",
       "    <tr>\n",
       "      <th>12.0</th>\n",
       "      <td>41.843989</td>\n",
       "      <td>-87.705025</td>\n",
       "      <td>CRIMINAL TRESPASS</td>\n",
       "      <td>Y</td>\n",
       "      <td>N</td>\n",
       "    </tr>\n",
       "    <tr>\n",
       "      <th>13.0</th>\n",
       "      <td>41.771276</td>\n",
       "      <td>-87.730612</td>\n",
       "      <td>OFFENSE INVOLVING CHILDREN</td>\n",
       "      <td>N</td>\n",
       "      <td>Y</td>\n",
       "    </tr>\n",
       "    <tr>\n",
       "      <th>14.0</th>\n",
       "      <td>41.796167</td>\n",
       "      <td>-87.709519</td>\n",
       "      <td>BURGLARY</td>\n",
       "      <td>N</td>\n",
       "      <td>N</td>\n",
       "    </tr>\n",
       "    <tr>\n",
       "      <th>15.0</th>\n",
       "      <td>41.793771</td>\n",
       "      <td>-87.689560</td>\n",
       "      <td>ASSAULT</td>\n",
       "      <td>N</td>\n",
       "      <td>N</td>\n",
       "    </tr>\n",
       "    <tr>\n",
       "      <th>16.0</th>\n",
       "      <td>41.780108</td>\n",
       "      <td>-87.684887</td>\n",
       "      <td>OTHER OFFENSE</td>\n",
       "      <td>Y</td>\n",
       "      <td>N</td>\n",
       "    </tr>\n",
       "    <tr>\n",
       "      <th>17.0</th>\n",
       "      <td>41.772652</td>\n",
       "      <td>-87.698104</td>\n",
       "      <td>ASSAULT</td>\n",
       "      <td>N</td>\n",
       "      <td>N</td>\n",
       "    </tr>\n",
       "    <tr>\n",
       "      <th>18.0</th>\n",
       "      <td>41.746873</td>\n",
       "      <td>-87.702312</td>\n",
       "      <td>THEFT</td>\n",
       "      <td>N</td>\n",
       "      <td>N</td>\n",
       "    </tr>\n",
       "    <tr>\n",
       "      <th>19.0</th>\n",
       "      <td>41.685546</td>\n",
       "      <td>-87.673078</td>\n",
       "      <td>THEFT</td>\n",
       "      <td>N</td>\n",
       "      <td>N</td>\n",
       "    </tr>\n",
       "    <tr>\n",
       "      <th>20.0</th>\n",
       "      <td>41.787930</td>\n",
       "      <td>-87.634037</td>\n",
       "      <td>THEFT</td>\n",
       "      <td>N</td>\n",
       "      <td>N</td>\n",
       "    </tr>\n",
       "  </tbody>\n",
       "</table>\n",
       "</div>"
      ],
      "text/plain": [
       "       LATITUDE  LONGITUDE         PRIMARY DESCRIPTION ARREST DOMESTIC\n",
       "WARD                                                                  \n",
       "1.0   41.922547 -87.696785                     BATTERY      N        N\n",
       "2.0   41.899251 -87.621459          DECEPTIVE PRACTICE      N        N\n",
       "3.0   41.805264 -87.618051                       THEFT      N        N\n",
       "4.0   41.801896 -87.587692             CRIMINAL DAMAGE      N        N\n",
       "5.0   41.772027 -87.591139                     ASSAULT      N        N\n",
       "6.0   41.737751 -87.604856           CRIMINAL TRESPASS      Y        N\n",
       "7.0   41.760347 -87.561175          DECEPTIVE PRACTICE      N        N\n",
       "8.0   41.765745 -87.588550         MOTOR VEHICLE THEFT      N        N\n",
       "9.0   41.697338 -87.606096                       THEFT      N        N\n",
       "10.0  41.651135 -87.545927          DECEPTIVE PRACTICE      N        N\n",
       "11.0  41.864494 -87.639158                     BATTERY      Y        N\n",
       "12.0  41.843989 -87.705025           CRIMINAL TRESPASS      Y        N\n",
       "13.0  41.771276 -87.730612  OFFENSE INVOLVING CHILDREN      N        Y\n",
       "14.0  41.796167 -87.709519                    BURGLARY      N        N\n",
       "15.0  41.793771 -87.689560                     ASSAULT      N        N\n",
       "16.0  41.780108 -87.684887               OTHER OFFENSE      Y        N\n",
       "17.0  41.772652 -87.698104                     ASSAULT      N        N\n",
       "18.0  41.746873 -87.702312                       THEFT      N        N\n",
       "19.0  41.685546 -87.673078                       THEFT      N        N\n",
       "20.0  41.787930 -87.634037                       THEFT      N        N"
      ]
     },
     "execution_count": 33,
     "metadata": {},
     "output_type": "execute_result"
    }
   ],
   "source": [
    "locations = df.groupby('WARD').first()\n",
    "new_locations = locations.loc[:, ['LATITUDE', 'LONGITUDE', ' PRIMARY DESCRIPTION', 'ARREST','DOMESTIC']]\n",
    "new_locations.head(20)\n"
   ]
  },
  {
   "cell_type": "code",
   "execution_count": 34,
   "metadata": {},
   "outputs": [],
   "source": [
    "for i in range(len(new_locations)):\n",
    "    lat = new_locations.iloc[i][0]\n",
    "    long = new_locations.iloc[i][1]\n",
    "    popup_text = \"\"\"Community Index : {}<br>\n",
    "                Arrest : {}<br>\n",
    "                Location Description : {}<br>\"\"\"\n",
    "    popup_text = popup_text.format(new_locations.index[i],\n",
    "                               new_locations.iloc[i][-1],\n",
    "                               new_locations.iloc[i][-2]\n",
    "                               )\n",
    "    folium.CircleMarker(location = [lat, long], popup= popup_text, fill = True).add_to(chicago_map)"
   ]
  },
  {
   "cell_type": "code",
   "execution_count": 35,
   "metadata": {},
   "outputs": [
    {
     "data": {
      "text/html": [
       "<div style=\"width:100%;\"><div style=\"position:relative;width:100%;height:0;padding-bottom:60%;\"><span style=\"color:#565656\">Make this Notebook Trusted to load map: File -> Trust Notebook</span><iframe src=\"about:blank\" style=\"position:absolute;width:100%;height:100%;left:0;top:0;border:none !important;\" data-html=%3C%21DOCTYPE%20html%3E%0A%3Chead%3E%20%20%20%20%0A%20%20%20%20%3Cmeta%20http-equiv%3D%22content-type%22%20content%3D%22text/html%3B%20charset%3DUTF-8%22%20/%3E%0A%20%20%20%20%0A%20%20%20%20%20%20%20%20%3Cscript%3E%0A%20%20%20%20%20%20%20%20%20%20%20%20L_NO_TOUCH%20%3D%20false%3B%0A%20%20%20%20%20%20%20%20%20%20%20%20L_DISABLE_3D%20%3D%20false%3B%0A%20%20%20%20%20%20%20%20%3C/script%3E%0A%20%20%20%20%0A%20%20%20%20%3Cstyle%3Ehtml%2C%20body%20%7Bwidth%3A%20100%25%3Bheight%3A%20100%25%3Bmargin%3A%200%3Bpadding%3A%200%3B%7D%3C/style%3E%0A%20%20%20%20%3Cstyle%3E%23map%20%7Bposition%3Aabsolute%3Btop%3A0%3Bbottom%3A0%3Bright%3A0%3Bleft%3A0%3B%7D%3C/style%3E%0A%20%20%20%20%3Cscript%20src%3D%22https%3A//cdn.jsdelivr.net/npm/leaflet%401.6.0/dist/leaflet.js%22%3E%3C/script%3E%0A%20%20%20%20%3Cscript%20src%3D%22https%3A//code.jquery.com/jquery-1.12.4.min.js%22%3E%3C/script%3E%0A%20%20%20%20%3Cscript%20src%3D%22https%3A//maxcdn.bootstrapcdn.com/bootstrap/3.2.0/js/bootstrap.min.js%22%3E%3C/script%3E%0A%20%20%20%20%3Cscript%20src%3D%22https%3A//cdnjs.cloudflare.com/ajax/libs/Leaflet.awesome-markers/2.0.2/leaflet.awesome-markers.js%22%3E%3C/script%3E%0A%20%20%20%20%3Clink%20rel%3D%22stylesheet%22%20href%3D%22https%3A//cdn.jsdelivr.net/npm/leaflet%401.6.0/dist/leaflet.css%22/%3E%0A%20%20%20%20%3Clink%20rel%3D%22stylesheet%22%20href%3D%22https%3A//maxcdn.bootstrapcdn.com/bootstrap/3.2.0/css/bootstrap.min.css%22/%3E%0A%20%20%20%20%3Clink%20rel%3D%22stylesheet%22%20href%3D%22https%3A//maxcdn.bootstrapcdn.com/bootstrap/3.2.0/css/bootstrap-theme.min.css%22/%3E%0A%20%20%20%20%3Clink%20rel%3D%22stylesheet%22%20href%3D%22https%3A//maxcdn.bootstrapcdn.com/font-awesome/4.6.3/css/font-awesome.min.css%22/%3E%0A%20%20%20%20%3Clink%20rel%3D%22stylesheet%22%20href%3D%22https%3A//cdnjs.cloudflare.com/ajax/libs/Leaflet.awesome-markers/2.0.2/leaflet.awesome-markers.css%22/%3E%0A%20%20%20%20%3Clink%20rel%3D%22stylesheet%22%20href%3D%22https%3A//cdn.jsdelivr.net/gh/python-visualization/folium/folium/templates/leaflet.awesome.rotate.min.css%22/%3E%0A%20%20%20%20%0A%20%20%20%20%20%20%20%20%20%20%20%20%3Cmeta%20name%3D%22viewport%22%20content%3D%22width%3Ddevice-width%2C%0A%20%20%20%20%20%20%20%20%20%20%20%20%20%20%20%20initial-scale%3D1.0%2C%20maximum-scale%3D1.0%2C%20user-scalable%3Dno%22%20/%3E%0A%20%20%20%20%20%20%20%20%20%20%20%20%3Cstyle%3E%0A%20%20%20%20%20%20%20%20%20%20%20%20%20%20%20%20%23map_97e094b0c34f4ae9984a381689c9ceb6%20%7B%0A%20%20%20%20%20%20%20%20%20%20%20%20%20%20%20%20%20%20%20%20position%3A%20relative%3B%0A%20%20%20%20%20%20%20%20%20%20%20%20%20%20%20%20%20%20%20%20width%3A%20100.0%25%3B%0A%20%20%20%20%20%20%20%20%20%20%20%20%20%20%20%20%20%20%20%20height%3A%20100.0%25%3B%0A%20%20%20%20%20%20%20%20%20%20%20%20%20%20%20%20%20%20%20%20left%3A%200.0%25%3B%0A%20%20%20%20%20%20%20%20%20%20%20%20%20%20%20%20%20%20%20%20top%3A%200.0%25%3B%0A%20%20%20%20%20%20%20%20%20%20%20%20%20%20%20%20%7D%0A%20%20%20%20%20%20%20%20%20%20%20%20%3C/style%3E%0A%20%20%20%20%20%20%20%20%0A%3C/head%3E%0A%3Cbody%3E%20%20%20%20%0A%20%20%20%20%0A%20%20%20%20%20%20%20%20%20%20%20%20%3Cdiv%20class%3D%22folium-map%22%20id%3D%22map_97e094b0c34f4ae9984a381689c9ceb6%22%20%3E%3C/div%3E%0A%20%20%20%20%20%20%20%20%0A%3C/body%3E%0A%3Cscript%3E%20%20%20%20%0A%20%20%20%20%0A%20%20%20%20%20%20%20%20%20%20%20%20var%20map_97e094b0c34f4ae9984a381689c9ceb6%20%3D%20L.map%28%0A%20%20%20%20%20%20%20%20%20%20%20%20%20%20%20%20%22map_97e094b0c34f4ae9984a381689c9ceb6%22%2C%0A%20%20%20%20%20%20%20%20%20%20%20%20%20%20%20%20%7B%0A%20%20%20%20%20%20%20%20%20%20%20%20%20%20%20%20%20%20%20%20center%3A%20%5B41.864073%2C%20-87.706819%5D%2C%0A%20%20%20%20%20%20%20%20%20%20%20%20%20%20%20%20%20%20%20%20crs%3A%20L.CRS.EPSG3857%2C%0A%20%20%20%20%20%20%20%20%20%20%20%20%20%20%20%20%20%20%20%20zoom%3A%2011%2C%0A%20%20%20%20%20%20%20%20%20%20%20%20%20%20%20%20%20%20%20%20zoomControl%3A%20true%2C%0A%20%20%20%20%20%20%20%20%20%20%20%20%20%20%20%20%20%20%20%20preferCanvas%3A%20false%2C%0A%20%20%20%20%20%20%20%20%20%20%20%20%20%20%20%20%7D%0A%20%20%20%20%20%20%20%20%20%20%20%20%29%3B%0A%0A%20%20%20%20%20%20%20%20%20%20%20%20%0A%0A%20%20%20%20%20%20%20%20%0A%20%20%20%20%0A%20%20%20%20%20%20%20%20%20%20%20%20var%20tile_layer_df42d71485f740adaadd55999b4a9673%20%3D%20L.tileLayer%28%0A%20%20%20%20%20%20%20%20%20%20%20%20%20%20%20%20%22https%3A//cartodb-basemaps-%7Bs%7D.global.ssl.fastly.net/dark_all/%7Bz%7D/%7Bx%7D/%7By%7D.png%22%2C%0A%20%20%20%20%20%20%20%20%20%20%20%20%20%20%20%20%7B%22attribution%22%3A%20%22%5Cu0026copy%3B%20%5Cu003ca%20href%3D%5C%22http%3A//www.openstreetmap.org/copyright%5C%22%5Cu003eOpenStreetMap%5Cu003c/a%5Cu003e%20contributors%20%5Cu0026copy%3B%20%5Cu003ca%20href%3D%5C%22http%3A//cartodb.com/attributions%5C%22%5Cu003eCartoDB%5Cu003c/a%5Cu003e%2C%20CartoDB%20%5Cu003ca%20href%20%3D%5C%22http%3A//cartodb.com/attributions%5C%22%5Cu003eattributions%5Cu003c/a%5Cu003e%22%2C%20%22detectRetina%22%3A%20false%2C%20%22maxNativeZoom%22%3A%2018%2C%20%22maxZoom%22%3A%2018%2C%20%22minZoom%22%3A%200%2C%20%22noWrap%22%3A%20false%2C%20%22opacity%22%3A%201%2C%20%22subdomains%22%3A%20%22abc%22%2C%20%22tms%22%3A%20false%7D%0A%20%20%20%20%20%20%20%20%20%20%20%20%29.addTo%28map_97e094b0c34f4ae9984a381689c9ceb6%29%3B%0A%20%20%20%20%20%20%20%20%0A%20%20%20%20%0A%20%20%20%20%20%20%20%20%20%20%20%20var%20circle_marker_1e538082918f431aab5a09a34da64ef8%20%3D%20L.circleMarker%28%0A%20%20%20%20%20%20%20%20%20%20%20%20%20%20%20%20%5B41.922547152%2C%20-87.69678498799999%5D%2C%0A%20%20%20%20%20%20%20%20%20%20%20%20%20%20%20%20%7B%22bubblingMouseEvents%22%3A%20true%2C%20%22color%22%3A%20%22%233388ff%22%2C%20%22dashArray%22%3A%20null%2C%20%22dashOffset%22%3A%20null%2C%20%22fill%22%3A%20true%2C%20%22fillColor%22%3A%20%22%233388ff%22%2C%20%22fillOpacity%22%3A%200.2%2C%20%22fillRule%22%3A%20%22evenodd%22%2C%20%22lineCap%22%3A%20%22round%22%2C%20%22lineJoin%22%3A%20%22round%22%2C%20%22opacity%22%3A%201.0%2C%20%22radius%22%3A%2010%2C%20%22stroke%22%3A%20true%2C%20%22weight%22%3A%203%7D%0A%20%20%20%20%20%20%20%20%20%20%20%20%29.addTo%28map_97e094b0c34f4ae9984a381689c9ceb6%29%3B%0A%20%20%20%20%20%20%20%20%0A%20%20%20%20%0A%20%20%20%20%20%20%20%20var%20popup_de5bf847252d403abbe6569d0d1271d0%20%3D%20L.popup%28%7B%22maxWidth%22%3A%20%22100%25%22%7D%29%3B%0A%0A%20%20%20%20%20%20%20%20%0A%20%20%20%20%20%20%20%20%20%20%20%20var%20html_783c22740d674c6fad3c42046c12ba81%20%3D%20%24%28%60%3Cdiv%20id%3D%22html_783c22740d674c6fad3c42046c12ba81%22%20style%3D%22width%3A%20100.0%25%3B%20height%3A%20100.0%25%3B%22%3ECommunity%20Index%20%3A%201.0%3Cbr%3E%20%20%20%20%20%20%20%20%20%20%20%20%20%20%20%20%20Arrest%20%3A%20N%3Cbr%3E%20%20%20%20%20%20%20%20%20%20%20%20%20%20%20%20%20Location%20Description%20%3A%20N%3Cbr%3E%3C/div%3E%60%29%5B0%5D%3B%0A%20%20%20%20%20%20%20%20%20%20%20%20popup_de5bf847252d403abbe6569d0d1271d0.setContent%28html_783c22740d674c6fad3c42046c12ba81%29%3B%0A%20%20%20%20%20%20%20%20%0A%0A%20%20%20%20%20%20%20%20circle_marker_1e538082918f431aab5a09a34da64ef8.bindPopup%28popup_de5bf847252d403abbe6569d0d1271d0%29%0A%20%20%20%20%20%20%20%20%3B%0A%0A%20%20%20%20%20%20%20%20%0A%20%20%20%20%0A%20%20%20%20%0A%20%20%20%20%20%20%20%20%20%20%20%20var%20circle_marker_eed1947c79814550a99c20acc2337909%20%3D%20L.circleMarker%28%0A%20%20%20%20%20%20%20%20%20%20%20%20%20%20%20%20%5B41.899250923000004%2C%20-87.62145895%5D%2C%0A%20%20%20%20%20%20%20%20%20%20%20%20%20%20%20%20%7B%22bubblingMouseEvents%22%3A%20true%2C%20%22color%22%3A%20%22%233388ff%22%2C%20%22dashArray%22%3A%20null%2C%20%22dashOffset%22%3A%20null%2C%20%22fill%22%3A%20true%2C%20%22fillColor%22%3A%20%22%233388ff%22%2C%20%22fillOpacity%22%3A%200.2%2C%20%22fillRule%22%3A%20%22evenodd%22%2C%20%22lineCap%22%3A%20%22round%22%2C%20%22lineJoin%22%3A%20%22round%22%2C%20%22opacity%22%3A%201.0%2C%20%22radius%22%3A%2010%2C%20%22stroke%22%3A%20true%2C%20%22weight%22%3A%203%7D%0A%20%20%20%20%20%20%20%20%20%20%20%20%29.addTo%28map_97e094b0c34f4ae9984a381689c9ceb6%29%3B%0A%20%20%20%20%20%20%20%20%0A%20%20%20%20%0A%20%20%20%20%20%20%20%20var%20popup_336ad9a6976a48fbbb26c22b74705881%20%3D%20L.popup%28%7B%22maxWidth%22%3A%20%22100%25%22%7D%29%3B%0A%0A%20%20%20%20%20%20%20%20%0A%20%20%20%20%20%20%20%20%20%20%20%20var%20html_e0d1110db3664dea8dff9ce639b6833f%20%3D%20%24%28%60%3Cdiv%20id%3D%22html_e0d1110db3664dea8dff9ce639b6833f%22%20style%3D%22width%3A%20100.0%25%3B%20height%3A%20100.0%25%3B%22%3ECommunity%20Index%20%3A%202.0%3Cbr%3E%20%20%20%20%20%20%20%20%20%20%20%20%20%20%20%20%20Arrest%20%3A%20N%3Cbr%3E%20%20%20%20%20%20%20%20%20%20%20%20%20%20%20%20%20Location%20Description%20%3A%20N%3Cbr%3E%3C/div%3E%60%29%5B0%5D%3B%0A%20%20%20%20%20%20%20%20%20%20%20%20popup_336ad9a6976a48fbbb26c22b74705881.setContent%28html_e0d1110db3664dea8dff9ce639b6833f%29%3B%0A%20%20%20%20%20%20%20%20%0A%0A%20%20%20%20%20%20%20%20circle_marker_eed1947c79814550a99c20acc2337909.bindPopup%28popup_336ad9a6976a48fbbb26c22b74705881%29%0A%20%20%20%20%20%20%20%20%3B%0A%0A%20%20%20%20%20%20%20%20%0A%20%20%20%20%0A%20%20%20%20%0A%20%20%20%20%20%20%20%20%20%20%20%20var%20circle_marker_f3c17870b02243c0bd49835f2b5b6ae1%20%3D%20L.circleMarker%28%0A%20%20%20%20%20%20%20%20%20%20%20%20%20%20%20%20%5B41.805263702%2C%20-87.618051298%5D%2C%0A%20%20%20%20%20%20%20%20%20%20%20%20%20%20%20%20%7B%22bubblingMouseEvents%22%3A%20true%2C%20%22color%22%3A%20%22%233388ff%22%2C%20%22dashArray%22%3A%20null%2C%20%22dashOffset%22%3A%20null%2C%20%22fill%22%3A%20true%2C%20%22fillColor%22%3A%20%22%233388ff%22%2C%20%22fillOpacity%22%3A%200.2%2C%20%22fillRule%22%3A%20%22evenodd%22%2C%20%22lineCap%22%3A%20%22round%22%2C%20%22lineJoin%22%3A%20%22round%22%2C%20%22opacity%22%3A%201.0%2C%20%22radius%22%3A%2010%2C%20%22stroke%22%3A%20true%2C%20%22weight%22%3A%203%7D%0A%20%20%20%20%20%20%20%20%20%20%20%20%29.addTo%28map_97e094b0c34f4ae9984a381689c9ceb6%29%3B%0A%20%20%20%20%20%20%20%20%0A%20%20%20%20%0A%20%20%20%20%20%20%20%20var%20popup_c617fed51ac54094804b171723dbb18a%20%3D%20L.popup%28%7B%22maxWidth%22%3A%20%22100%25%22%7D%29%3B%0A%0A%20%20%20%20%20%20%20%20%0A%20%20%20%20%20%20%20%20%20%20%20%20var%20html_3b6db05258da45dd92356a80fdded384%20%3D%20%24%28%60%3Cdiv%20id%3D%22html_3b6db05258da45dd92356a80fdded384%22%20style%3D%22width%3A%20100.0%25%3B%20height%3A%20100.0%25%3B%22%3ECommunity%20Index%20%3A%203.0%3Cbr%3E%20%20%20%20%20%20%20%20%20%20%20%20%20%20%20%20%20Arrest%20%3A%20N%3Cbr%3E%20%20%20%20%20%20%20%20%20%20%20%20%20%20%20%20%20Location%20Description%20%3A%20N%3Cbr%3E%3C/div%3E%60%29%5B0%5D%3B%0A%20%20%20%20%20%20%20%20%20%20%20%20popup_c617fed51ac54094804b171723dbb18a.setContent%28html_3b6db05258da45dd92356a80fdded384%29%3B%0A%20%20%20%20%20%20%20%20%0A%0A%20%20%20%20%20%20%20%20circle_marker_f3c17870b02243c0bd49835f2b5b6ae1.bindPopup%28popup_c617fed51ac54094804b171723dbb18a%29%0A%20%20%20%20%20%20%20%20%3B%0A%0A%20%20%20%20%20%20%20%20%0A%20%20%20%20%0A%20%20%20%20%0A%20%20%20%20%20%20%20%20%20%20%20%20var%20circle_marker_1ee46258314149a48a0526f3b5f36d7c%20%3D%20L.circleMarker%28%0A%20%20%20%20%20%20%20%20%20%20%20%20%20%20%20%20%5B41.801895518%2C%20-87.58769156%5D%2C%0A%20%20%20%20%20%20%20%20%20%20%20%20%20%20%20%20%7B%22bubblingMouseEvents%22%3A%20true%2C%20%22color%22%3A%20%22%233388ff%22%2C%20%22dashArray%22%3A%20null%2C%20%22dashOffset%22%3A%20null%2C%20%22fill%22%3A%20true%2C%20%22fillColor%22%3A%20%22%233388ff%22%2C%20%22fillOpacity%22%3A%200.2%2C%20%22fillRule%22%3A%20%22evenodd%22%2C%20%22lineCap%22%3A%20%22round%22%2C%20%22lineJoin%22%3A%20%22round%22%2C%20%22opacity%22%3A%201.0%2C%20%22radius%22%3A%2010%2C%20%22stroke%22%3A%20true%2C%20%22weight%22%3A%203%7D%0A%20%20%20%20%20%20%20%20%20%20%20%20%29.addTo%28map_97e094b0c34f4ae9984a381689c9ceb6%29%3B%0A%20%20%20%20%20%20%20%20%0A%20%20%20%20%0A%20%20%20%20%20%20%20%20var%20popup_586679852eca497a8ba0b59dc6e0ddb9%20%3D%20L.popup%28%7B%22maxWidth%22%3A%20%22100%25%22%7D%29%3B%0A%0A%20%20%20%20%20%20%20%20%0A%20%20%20%20%20%20%20%20%20%20%20%20var%20html_b7e48fbc23814554b9ad9a5b982db91e%20%3D%20%24%28%60%3Cdiv%20id%3D%22html_b7e48fbc23814554b9ad9a5b982db91e%22%20style%3D%22width%3A%20100.0%25%3B%20height%3A%20100.0%25%3B%22%3ECommunity%20Index%20%3A%204.0%3Cbr%3E%20%20%20%20%20%20%20%20%20%20%20%20%20%20%20%20%20Arrest%20%3A%20N%3Cbr%3E%20%20%20%20%20%20%20%20%20%20%20%20%20%20%20%20%20Location%20Description%20%3A%20N%3Cbr%3E%3C/div%3E%60%29%5B0%5D%3B%0A%20%20%20%20%20%20%20%20%20%20%20%20popup_586679852eca497a8ba0b59dc6e0ddb9.setContent%28html_b7e48fbc23814554b9ad9a5b982db91e%29%3B%0A%20%20%20%20%20%20%20%20%0A%0A%20%20%20%20%20%20%20%20circle_marker_1ee46258314149a48a0526f3b5f36d7c.bindPopup%28popup_586679852eca497a8ba0b59dc6e0ddb9%29%0A%20%20%20%20%20%20%20%20%3B%0A%0A%20%20%20%20%20%20%20%20%0A%20%20%20%20%0A%20%20%20%20%0A%20%20%20%20%20%20%20%20%20%20%20%20var%20circle_marker_042259ff21a643639a008cd7a92e85f4%20%3D%20L.circleMarker%28%0A%20%20%20%20%20%20%20%20%20%20%20%20%20%20%20%20%5B41.772027099%2C%20-87.591138947%5D%2C%0A%20%20%20%20%20%20%20%20%20%20%20%20%20%20%20%20%7B%22bubblingMouseEvents%22%3A%20true%2C%20%22color%22%3A%20%22%233388ff%22%2C%20%22dashArray%22%3A%20null%2C%20%22dashOffset%22%3A%20null%2C%20%22fill%22%3A%20true%2C%20%22fillColor%22%3A%20%22%233388ff%22%2C%20%22fillOpacity%22%3A%200.2%2C%20%22fillRule%22%3A%20%22evenodd%22%2C%20%22lineCap%22%3A%20%22round%22%2C%20%22lineJoin%22%3A%20%22round%22%2C%20%22opacity%22%3A%201.0%2C%20%22radius%22%3A%2010%2C%20%22stroke%22%3A%20true%2C%20%22weight%22%3A%203%7D%0A%20%20%20%20%20%20%20%20%20%20%20%20%29.addTo%28map_97e094b0c34f4ae9984a381689c9ceb6%29%3B%0A%20%20%20%20%20%20%20%20%0A%20%20%20%20%0A%20%20%20%20%20%20%20%20var%20popup_b26d4eabf9454d72a5b1c8d1e4d44c3a%20%3D%20L.popup%28%7B%22maxWidth%22%3A%20%22100%25%22%7D%29%3B%0A%0A%20%20%20%20%20%20%20%20%0A%20%20%20%20%20%20%20%20%20%20%20%20var%20html_abbe742aec0347c7a0fabb5813e26ef2%20%3D%20%24%28%60%3Cdiv%20id%3D%22html_abbe742aec0347c7a0fabb5813e26ef2%22%20style%3D%22width%3A%20100.0%25%3B%20height%3A%20100.0%25%3B%22%3ECommunity%20Index%20%3A%205.0%3Cbr%3E%20%20%20%20%20%20%20%20%20%20%20%20%20%20%20%20%20Arrest%20%3A%20N%3Cbr%3E%20%20%20%20%20%20%20%20%20%20%20%20%20%20%20%20%20Location%20Description%20%3A%20N%3Cbr%3E%3C/div%3E%60%29%5B0%5D%3B%0A%20%20%20%20%20%20%20%20%20%20%20%20popup_b26d4eabf9454d72a5b1c8d1e4d44c3a.setContent%28html_abbe742aec0347c7a0fabb5813e26ef2%29%3B%0A%20%20%20%20%20%20%20%20%0A%0A%20%20%20%20%20%20%20%20circle_marker_042259ff21a643639a008cd7a92e85f4.bindPopup%28popup_b26d4eabf9454d72a5b1c8d1e4d44c3a%29%0A%20%20%20%20%20%20%20%20%3B%0A%0A%20%20%20%20%20%20%20%20%0A%20%20%20%20%0A%20%20%20%20%0A%20%20%20%20%20%20%20%20%20%20%20%20var%20circle_marker_c4df56cd1a724ac89e9cf3850dce22af%20%3D%20L.circleMarker%28%0A%20%20%20%20%20%20%20%20%20%20%20%20%20%20%20%20%5B41.737750767%2C%20-87.604855911%5D%2C%0A%20%20%20%20%20%20%20%20%20%20%20%20%20%20%20%20%7B%22bubblingMouseEvents%22%3A%20true%2C%20%22color%22%3A%20%22%233388ff%22%2C%20%22dashArray%22%3A%20null%2C%20%22dashOffset%22%3A%20null%2C%20%22fill%22%3A%20true%2C%20%22fillColor%22%3A%20%22%233388ff%22%2C%20%22fillOpacity%22%3A%200.2%2C%20%22fillRule%22%3A%20%22evenodd%22%2C%20%22lineCap%22%3A%20%22round%22%2C%20%22lineJoin%22%3A%20%22round%22%2C%20%22opacity%22%3A%201.0%2C%20%22radius%22%3A%2010%2C%20%22stroke%22%3A%20true%2C%20%22weight%22%3A%203%7D%0A%20%20%20%20%20%20%20%20%20%20%20%20%29.addTo%28map_97e094b0c34f4ae9984a381689c9ceb6%29%3B%0A%20%20%20%20%20%20%20%20%0A%20%20%20%20%0A%20%20%20%20%20%20%20%20var%20popup_bff2442c05c94580bab733532a73fb15%20%3D%20L.popup%28%7B%22maxWidth%22%3A%20%22100%25%22%7D%29%3B%0A%0A%20%20%20%20%20%20%20%20%0A%20%20%20%20%20%20%20%20%20%20%20%20var%20html_9878cbda5d1b452c90dc3be5b1ed2b97%20%3D%20%24%28%60%3Cdiv%20id%3D%22html_9878cbda5d1b452c90dc3be5b1ed2b97%22%20style%3D%22width%3A%20100.0%25%3B%20height%3A%20100.0%25%3B%22%3ECommunity%20Index%20%3A%206.0%3Cbr%3E%20%20%20%20%20%20%20%20%20%20%20%20%20%20%20%20%20Arrest%20%3A%20N%3Cbr%3E%20%20%20%20%20%20%20%20%20%20%20%20%20%20%20%20%20Location%20Description%20%3A%20Y%3Cbr%3E%3C/div%3E%60%29%5B0%5D%3B%0A%20%20%20%20%20%20%20%20%20%20%20%20popup_bff2442c05c94580bab733532a73fb15.setContent%28html_9878cbda5d1b452c90dc3be5b1ed2b97%29%3B%0A%20%20%20%20%20%20%20%20%0A%0A%20%20%20%20%20%20%20%20circle_marker_c4df56cd1a724ac89e9cf3850dce22af.bindPopup%28popup_bff2442c05c94580bab733532a73fb15%29%0A%20%20%20%20%20%20%20%20%3B%0A%0A%20%20%20%20%20%20%20%20%0A%20%20%20%20%0A%20%20%20%20%0A%20%20%20%20%20%20%20%20%20%20%20%20var%20circle_marker_22645c2dce854a54a00d62399aab7688%20%3D%20L.circleMarker%28%0A%20%20%20%20%20%20%20%20%20%20%20%20%20%20%20%20%5B41.760347495%2C%20-87.56117455%5D%2C%0A%20%20%20%20%20%20%20%20%20%20%20%20%20%20%20%20%7B%22bubblingMouseEvents%22%3A%20true%2C%20%22color%22%3A%20%22%233388ff%22%2C%20%22dashArray%22%3A%20null%2C%20%22dashOffset%22%3A%20null%2C%20%22fill%22%3A%20true%2C%20%22fillColor%22%3A%20%22%233388ff%22%2C%20%22fillOpacity%22%3A%200.2%2C%20%22fillRule%22%3A%20%22evenodd%22%2C%20%22lineCap%22%3A%20%22round%22%2C%20%22lineJoin%22%3A%20%22round%22%2C%20%22opacity%22%3A%201.0%2C%20%22radius%22%3A%2010%2C%20%22stroke%22%3A%20true%2C%20%22weight%22%3A%203%7D%0A%20%20%20%20%20%20%20%20%20%20%20%20%29.addTo%28map_97e094b0c34f4ae9984a381689c9ceb6%29%3B%0A%20%20%20%20%20%20%20%20%0A%20%20%20%20%0A%20%20%20%20%20%20%20%20var%20popup_b1a7a1ef14c4429cb54b31cf3f591d98%20%3D%20L.popup%28%7B%22maxWidth%22%3A%20%22100%25%22%7D%29%3B%0A%0A%20%20%20%20%20%20%20%20%0A%20%20%20%20%20%20%20%20%20%20%20%20var%20html_12af420da52943849910f45e5cdbfa29%20%3D%20%24%28%60%3Cdiv%20id%3D%22html_12af420da52943849910f45e5cdbfa29%22%20style%3D%22width%3A%20100.0%25%3B%20height%3A%20100.0%25%3B%22%3ECommunity%20Index%20%3A%207.0%3Cbr%3E%20%20%20%20%20%20%20%20%20%20%20%20%20%20%20%20%20Arrest%20%3A%20N%3Cbr%3E%20%20%20%20%20%20%20%20%20%20%20%20%20%20%20%20%20Location%20Description%20%3A%20N%3Cbr%3E%3C/div%3E%60%29%5B0%5D%3B%0A%20%20%20%20%20%20%20%20%20%20%20%20popup_b1a7a1ef14c4429cb54b31cf3f591d98.setContent%28html_12af420da52943849910f45e5cdbfa29%29%3B%0A%20%20%20%20%20%20%20%20%0A%0A%20%20%20%20%20%20%20%20circle_marker_22645c2dce854a54a00d62399aab7688.bindPopup%28popup_b1a7a1ef14c4429cb54b31cf3f591d98%29%0A%20%20%20%20%20%20%20%20%3B%0A%0A%20%20%20%20%20%20%20%20%0A%20%20%20%20%0A%20%20%20%20%0A%20%20%20%20%20%20%20%20%20%20%20%20var%20circle_marker_d11b56143af543d886f24cb0139d00ba%20%3D%20L.circleMarker%28%0A%20%20%20%20%20%20%20%20%20%20%20%20%20%20%20%20%5B41.765745126%2C%20-87.588550162%5D%2C%0A%20%20%20%20%20%20%20%20%20%20%20%20%20%20%20%20%7B%22bubblingMouseEvents%22%3A%20true%2C%20%22color%22%3A%20%22%233388ff%22%2C%20%22dashArray%22%3A%20null%2C%20%22dashOffset%22%3A%20null%2C%20%22fill%22%3A%20true%2C%20%22fillColor%22%3A%20%22%233388ff%22%2C%20%22fillOpacity%22%3A%200.2%2C%20%22fillRule%22%3A%20%22evenodd%22%2C%20%22lineCap%22%3A%20%22round%22%2C%20%22lineJoin%22%3A%20%22round%22%2C%20%22opacity%22%3A%201.0%2C%20%22radius%22%3A%2010%2C%20%22stroke%22%3A%20true%2C%20%22weight%22%3A%203%7D%0A%20%20%20%20%20%20%20%20%20%20%20%20%29.addTo%28map_97e094b0c34f4ae9984a381689c9ceb6%29%3B%0A%20%20%20%20%20%20%20%20%0A%20%20%20%20%0A%20%20%20%20%20%20%20%20var%20popup_a6271ac8aa9a453b87960cb3165a351e%20%3D%20L.popup%28%7B%22maxWidth%22%3A%20%22100%25%22%7D%29%3B%0A%0A%20%20%20%20%20%20%20%20%0A%20%20%20%20%20%20%20%20%20%20%20%20var%20html_6b2f3825f71b43a7b3edf16386fce64c%20%3D%20%24%28%60%3Cdiv%20id%3D%22html_6b2f3825f71b43a7b3edf16386fce64c%22%20style%3D%22width%3A%20100.0%25%3B%20height%3A%20100.0%25%3B%22%3ECommunity%20Index%20%3A%208.0%3Cbr%3E%20%20%20%20%20%20%20%20%20%20%20%20%20%20%20%20%20Arrest%20%3A%20N%3Cbr%3E%20%20%20%20%20%20%20%20%20%20%20%20%20%20%20%20%20Location%20Description%20%3A%20N%3Cbr%3E%3C/div%3E%60%29%5B0%5D%3B%0A%20%20%20%20%20%20%20%20%20%20%20%20popup_a6271ac8aa9a453b87960cb3165a351e.setContent%28html_6b2f3825f71b43a7b3edf16386fce64c%29%3B%0A%20%20%20%20%20%20%20%20%0A%0A%20%20%20%20%20%20%20%20circle_marker_d11b56143af543d886f24cb0139d00ba.bindPopup%28popup_a6271ac8aa9a453b87960cb3165a351e%29%0A%20%20%20%20%20%20%20%20%3B%0A%0A%20%20%20%20%20%20%20%20%0A%20%20%20%20%0A%20%20%20%20%0A%20%20%20%20%20%20%20%20%20%20%20%20var%20circle_marker_f39e2a535fdb4eaca81a0957059e292d%20%3D%20L.circleMarker%28%0A%20%20%20%20%20%20%20%20%20%20%20%20%20%20%20%20%5B41.697337561%2C%20-87.60609576200001%5D%2C%0A%20%20%20%20%20%20%20%20%20%20%20%20%20%20%20%20%7B%22bubblingMouseEvents%22%3A%20true%2C%20%22color%22%3A%20%22%233388ff%22%2C%20%22dashArray%22%3A%20null%2C%20%22dashOffset%22%3A%20null%2C%20%22fill%22%3A%20true%2C%20%22fillColor%22%3A%20%22%233388ff%22%2C%20%22fillOpacity%22%3A%200.2%2C%20%22fillRule%22%3A%20%22evenodd%22%2C%20%22lineCap%22%3A%20%22round%22%2C%20%22lineJoin%22%3A%20%22round%22%2C%20%22opacity%22%3A%201.0%2C%20%22radius%22%3A%2010%2C%20%22stroke%22%3A%20true%2C%20%22weight%22%3A%203%7D%0A%20%20%20%20%20%20%20%20%20%20%20%20%29.addTo%28map_97e094b0c34f4ae9984a381689c9ceb6%29%3B%0A%20%20%20%20%20%20%20%20%0A%20%20%20%20%0A%20%20%20%20%20%20%20%20var%20popup_f85a2531dc8843c2a7f15a6ba31df03e%20%3D%20L.popup%28%7B%22maxWidth%22%3A%20%22100%25%22%7D%29%3B%0A%0A%20%20%20%20%20%20%20%20%0A%20%20%20%20%20%20%20%20%20%20%20%20var%20html_a9c0a562adaf42a682cae3d52a48a9f4%20%3D%20%24%28%60%3Cdiv%20id%3D%22html_a9c0a562adaf42a682cae3d52a48a9f4%22%20style%3D%22width%3A%20100.0%25%3B%20height%3A%20100.0%25%3B%22%3ECommunity%20Index%20%3A%209.0%3Cbr%3E%20%20%20%20%20%20%20%20%20%20%20%20%20%20%20%20%20Arrest%20%3A%20N%3Cbr%3E%20%20%20%20%20%20%20%20%20%20%20%20%20%20%20%20%20Location%20Description%20%3A%20N%3Cbr%3E%3C/div%3E%60%29%5B0%5D%3B%0A%20%20%20%20%20%20%20%20%20%20%20%20popup_f85a2531dc8843c2a7f15a6ba31df03e.setContent%28html_a9c0a562adaf42a682cae3d52a48a9f4%29%3B%0A%20%20%20%20%20%20%20%20%0A%0A%20%20%20%20%20%20%20%20circle_marker_f39e2a535fdb4eaca81a0957059e292d.bindPopup%28popup_f85a2531dc8843c2a7f15a6ba31df03e%29%0A%20%20%20%20%20%20%20%20%3B%0A%0A%20%20%20%20%20%20%20%20%0A%20%20%20%20%0A%20%20%20%20%0A%20%20%20%20%20%20%20%20%20%20%20%20var%20circle_marker_48a42f4c648641aca6baa603a9d956c0%20%3D%20L.circleMarker%28%0A%20%20%20%20%20%20%20%20%20%20%20%20%20%20%20%20%5B41.651135363%2C%20-87.545926704%5D%2C%0A%20%20%20%20%20%20%20%20%20%20%20%20%20%20%20%20%7B%22bubblingMouseEvents%22%3A%20true%2C%20%22color%22%3A%20%22%233388ff%22%2C%20%22dashArray%22%3A%20null%2C%20%22dashOffset%22%3A%20null%2C%20%22fill%22%3A%20true%2C%20%22fillColor%22%3A%20%22%233388ff%22%2C%20%22fillOpacity%22%3A%200.2%2C%20%22fillRule%22%3A%20%22evenodd%22%2C%20%22lineCap%22%3A%20%22round%22%2C%20%22lineJoin%22%3A%20%22round%22%2C%20%22opacity%22%3A%201.0%2C%20%22radius%22%3A%2010%2C%20%22stroke%22%3A%20true%2C%20%22weight%22%3A%203%7D%0A%20%20%20%20%20%20%20%20%20%20%20%20%29.addTo%28map_97e094b0c34f4ae9984a381689c9ceb6%29%3B%0A%20%20%20%20%20%20%20%20%0A%20%20%20%20%0A%20%20%20%20%20%20%20%20var%20popup_1c20e36dd6c740f2a2e33301f8210e85%20%3D%20L.popup%28%7B%22maxWidth%22%3A%20%22100%25%22%7D%29%3B%0A%0A%20%20%20%20%20%20%20%20%0A%20%20%20%20%20%20%20%20%20%20%20%20var%20html_d1c40e91de6b41378ad2c2831bd56486%20%3D%20%24%28%60%3Cdiv%20id%3D%22html_d1c40e91de6b41378ad2c2831bd56486%22%20style%3D%22width%3A%20100.0%25%3B%20height%3A%20100.0%25%3B%22%3ECommunity%20Index%20%3A%2010.0%3Cbr%3E%20%20%20%20%20%20%20%20%20%20%20%20%20%20%20%20%20Arrest%20%3A%20N%3Cbr%3E%20%20%20%20%20%20%20%20%20%20%20%20%20%20%20%20%20Location%20Description%20%3A%20N%3Cbr%3E%3C/div%3E%60%29%5B0%5D%3B%0A%20%20%20%20%20%20%20%20%20%20%20%20popup_1c20e36dd6c740f2a2e33301f8210e85.setContent%28html_d1c40e91de6b41378ad2c2831bd56486%29%3B%0A%20%20%20%20%20%20%20%20%0A%0A%20%20%20%20%20%20%20%20circle_marker_48a42f4c648641aca6baa603a9d956c0.bindPopup%28popup_1c20e36dd6c740f2a2e33301f8210e85%29%0A%20%20%20%20%20%20%20%20%3B%0A%0A%20%20%20%20%20%20%20%20%0A%20%20%20%20%0A%20%20%20%20%0A%20%20%20%20%20%20%20%20%20%20%20%20var%20circle_marker_7955aebd23554cc7b28d9c69b416237e%20%3D%20L.circleMarker%28%0A%20%20%20%20%20%20%20%20%20%20%20%20%20%20%20%20%5B41.864493678%2C%20-87.639158%5D%2C%0A%20%20%20%20%20%20%20%20%20%20%20%20%20%20%20%20%7B%22bubblingMouseEvents%22%3A%20true%2C%20%22color%22%3A%20%22%233388ff%22%2C%20%22dashArray%22%3A%20null%2C%20%22dashOffset%22%3A%20null%2C%20%22fill%22%3A%20true%2C%20%22fillColor%22%3A%20%22%233388ff%22%2C%20%22fillOpacity%22%3A%200.2%2C%20%22fillRule%22%3A%20%22evenodd%22%2C%20%22lineCap%22%3A%20%22round%22%2C%20%22lineJoin%22%3A%20%22round%22%2C%20%22opacity%22%3A%201.0%2C%20%22radius%22%3A%2010%2C%20%22stroke%22%3A%20true%2C%20%22weight%22%3A%203%7D%0A%20%20%20%20%20%20%20%20%20%20%20%20%29.addTo%28map_97e094b0c34f4ae9984a381689c9ceb6%29%3B%0A%20%20%20%20%20%20%20%20%0A%20%20%20%20%0A%20%20%20%20%20%20%20%20var%20popup_c3728e67cda94f1abee80efd53ff633c%20%3D%20L.popup%28%7B%22maxWidth%22%3A%20%22100%25%22%7D%29%3B%0A%0A%20%20%20%20%20%20%20%20%0A%20%20%20%20%20%20%20%20%20%20%20%20var%20html_9b6adfc0ccfe47a6a8e90d9d24b2983c%20%3D%20%24%28%60%3Cdiv%20id%3D%22html_9b6adfc0ccfe47a6a8e90d9d24b2983c%22%20style%3D%22width%3A%20100.0%25%3B%20height%3A%20100.0%25%3B%22%3ECommunity%20Index%20%3A%2011.0%3Cbr%3E%20%20%20%20%20%20%20%20%20%20%20%20%20%20%20%20%20Arrest%20%3A%20N%3Cbr%3E%20%20%20%20%20%20%20%20%20%20%20%20%20%20%20%20%20Location%20Description%20%3A%20Y%3Cbr%3E%3C/div%3E%60%29%5B0%5D%3B%0A%20%20%20%20%20%20%20%20%20%20%20%20popup_c3728e67cda94f1abee80efd53ff633c.setContent%28html_9b6adfc0ccfe47a6a8e90d9d24b2983c%29%3B%0A%20%20%20%20%20%20%20%20%0A%0A%20%20%20%20%20%20%20%20circle_marker_7955aebd23554cc7b28d9c69b416237e.bindPopup%28popup_c3728e67cda94f1abee80efd53ff633c%29%0A%20%20%20%20%20%20%20%20%3B%0A%0A%20%20%20%20%20%20%20%20%0A%20%20%20%20%0A%20%20%20%20%0A%20%20%20%20%20%20%20%20%20%20%20%20var%20circle_marker_00fd071df07f48af90ab8ba701b232f5%20%3D%20L.circleMarker%28%0A%20%20%20%20%20%20%20%20%20%20%20%20%20%20%20%20%5B41.843989099%2C%20-87.70502542700001%5D%2C%0A%20%20%20%20%20%20%20%20%20%20%20%20%20%20%20%20%7B%22bubblingMouseEvents%22%3A%20true%2C%20%22color%22%3A%20%22%233388ff%22%2C%20%22dashArray%22%3A%20null%2C%20%22dashOffset%22%3A%20null%2C%20%22fill%22%3A%20true%2C%20%22fillColor%22%3A%20%22%233388ff%22%2C%20%22fillOpacity%22%3A%200.2%2C%20%22fillRule%22%3A%20%22evenodd%22%2C%20%22lineCap%22%3A%20%22round%22%2C%20%22lineJoin%22%3A%20%22round%22%2C%20%22opacity%22%3A%201.0%2C%20%22radius%22%3A%2010%2C%20%22stroke%22%3A%20true%2C%20%22weight%22%3A%203%7D%0A%20%20%20%20%20%20%20%20%20%20%20%20%29.addTo%28map_97e094b0c34f4ae9984a381689c9ceb6%29%3B%0A%20%20%20%20%20%20%20%20%0A%20%20%20%20%0A%20%20%20%20%20%20%20%20var%20popup_a04f1b4a9acb4af199963ab0954abc96%20%3D%20L.popup%28%7B%22maxWidth%22%3A%20%22100%25%22%7D%29%3B%0A%0A%20%20%20%20%20%20%20%20%0A%20%20%20%20%20%20%20%20%20%20%20%20var%20html_cca14a1b09604dc69e0bfdf24728fd45%20%3D%20%24%28%60%3Cdiv%20id%3D%22html_cca14a1b09604dc69e0bfdf24728fd45%22%20style%3D%22width%3A%20100.0%25%3B%20height%3A%20100.0%25%3B%22%3ECommunity%20Index%20%3A%2012.0%3Cbr%3E%20%20%20%20%20%20%20%20%20%20%20%20%20%20%20%20%20Arrest%20%3A%20N%3Cbr%3E%20%20%20%20%20%20%20%20%20%20%20%20%20%20%20%20%20Location%20Description%20%3A%20Y%3Cbr%3E%3C/div%3E%60%29%5B0%5D%3B%0A%20%20%20%20%20%20%20%20%20%20%20%20popup_a04f1b4a9acb4af199963ab0954abc96.setContent%28html_cca14a1b09604dc69e0bfdf24728fd45%29%3B%0A%20%20%20%20%20%20%20%20%0A%0A%20%20%20%20%20%20%20%20circle_marker_00fd071df07f48af90ab8ba701b232f5.bindPopup%28popup_a04f1b4a9acb4af199963ab0954abc96%29%0A%20%20%20%20%20%20%20%20%3B%0A%0A%20%20%20%20%20%20%20%20%0A%20%20%20%20%0A%20%20%20%20%0A%20%20%20%20%20%20%20%20%20%20%20%20var%20circle_marker_0c9dbfd6e91548478c12d5fd0b608eac%20%3D%20L.circleMarker%28%0A%20%20%20%20%20%20%20%20%20%20%20%20%20%20%20%20%5B41.771276473%2C%20-87.73061218299999%5D%2C%0A%20%20%20%20%20%20%20%20%20%20%20%20%20%20%20%20%7B%22bubblingMouseEvents%22%3A%20true%2C%20%22color%22%3A%20%22%233388ff%22%2C%20%22dashArray%22%3A%20null%2C%20%22dashOffset%22%3A%20null%2C%20%22fill%22%3A%20true%2C%20%22fillColor%22%3A%20%22%233388ff%22%2C%20%22fillOpacity%22%3A%200.2%2C%20%22fillRule%22%3A%20%22evenodd%22%2C%20%22lineCap%22%3A%20%22round%22%2C%20%22lineJoin%22%3A%20%22round%22%2C%20%22opacity%22%3A%201.0%2C%20%22radius%22%3A%2010%2C%20%22stroke%22%3A%20true%2C%20%22weight%22%3A%203%7D%0A%20%20%20%20%20%20%20%20%20%20%20%20%29.addTo%28map_97e094b0c34f4ae9984a381689c9ceb6%29%3B%0A%20%20%20%20%20%20%20%20%0A%20%20%20%20%0A%20%20%20%20%20%20%20%20var%20popup_aaa86484635f4bb48d1dbe52664b2f51%20%3D%20L.popup%28%7B%22maxWidth%22%3A%20%22100%25%22%7D%29%3B%0A%0A%20%20%20%20%20%20%20%20%0A%20%20%20%20%20%20%20%20%20%20%20%20var%20html_ad66c74546744ec6b54128553ba363c0%20%3D%20%24%28%60%3Cdiv%20id%3D%22html_ad66c74546744ec6b54128553ba363c0%22%20style%3D%22width%3A%20100.0%25%3B%20height%3A%20100.0%25%3B%22%3ECommunity%20Index%20%3A%2013.0%3Cbr%3E%20%20%20%20%20%20%20%20%20%20%20%20%20%20%20%20%20Arrest%20%3A%20Y%3Cbr%3E%20%20%20%20%20%20%20%20%20%20%20%20%20%20%20%20%20Location%20Description%20%3A%20N%3Cbr%3E%3C/div%3E%60%29%5B0%5D%3B%0A%20%20%20%20%20%20%20%20%20%20%20%20popup_aaa86484635f4bb48d1dbe52664b2f51.setContent%28html_ad66c74546744ec6b54128553ba363c0%29%3B%0A%20%20%20%20%20%20%20%20%0A%0A%20%20%20%20%20%20%20%20circle_marker_0c9dbfd6e91548478c12d5fd0b608eac.bindPopup%28popup_aaa86484635f4bb48d1dbe52664b2f51%29%0A%20%20%20%20%20%20%20%20%3B%0A%0A%20%20%20%20%20%20%20%20%0A%20%20%20%20%0A%20%20%20%20%0A%20%20%20%20%20%20%20%20%20%20%20%20var%20circle_marker_d7534d387e9d4c74a9200225dc2451f2%20%3D%20L.circleMarker%28%0A%20%20%20%20%20%20%20%20%20%20%20%20%20%20%20%20%5B41.796167139%2C%20-87.70951943%5D%2C%0A%20%20%20%20%20%20%20%20%20%20%20%20%20%20%20%20%7B%22bubblingMouseEvents%22%3A%20true%2C%20%22color%22%3A%20%22%233388ff%22%2C%20%22dashArray%22%3A%20null%2C%20%22dashOffset%22%3A%20null%2C%20%22fill%22%3A%20true%2C%20%22fillColor%22%3A%20%22%233388ff%22%2C%20%22fillOpacity%22%3A%200.2%2C%20%22fillRule%22%3A%20%22evenodd%22%2C%20%22lineCap%22%3A%20%22round%22%2C%20%22lineJoin%22%3A%20%22round%22%2C%20%22opacity%22%3A%201.0%2C%20%22radius%22%3A%2010%2C%20%22stroke%22%3A%20true%2C%20%22weight%22%3A%203%7D%0A%20%20%20%20%20%20%20%20%20%20%20%20%29.addTo%28map_97e094b0c34f4ae9984a381689c9ceb6%29%3B%0A%20%20%20%20%20%20%20%20%0A%20%20%20%20%0A%20%20%20%20%20%20%20%20var%20popup_e56c4da2a6dc450fa403db746a67907d%20%3D%20L.popup%28%7B%22maxWidth%22%3A%20%22100%25%22%7D%29%3B%0A%0A%20%20%20%20%20%20%20%20%0A%20%20%20%20%20%20%20%20%20%20%20%20var%20html_2186d77233d74493b30ed57d0ff4ada3%20%3D%20%24%28%60%3Cdiv%20id%3D%22html_2186d77233d74493b30ed57d0ff4ada3%22%20style%3D%22width%3A%20100.0%25%3B%20height%3A%20100.0%25%3B%22%3ECommunity%20Index%20%3A%2014.0%3Cbr%3E%20%20%20%20%20%20%20%20%20%20%20%20%20%20%20%20%20Arrest%20%3A%20N%3Cbr%3E%20%20%20%20%20%20%20%20%20%20%20%20%20%20%20%20%20Location%20Description%20%3A%20N%3Cbr%3E%3C/div%3E%60%29%5B0%5D%3B%0A%20%20%20%20%20%20%20%20%20%20%20%20popup_e56c4da2a6dc450fa403db746a67907d.setContent%28html_2186d77233d74493b30ed57d0ff4ada3%29%3B%0A%20%20%20%20%20%20%20%20%0A%0A%20%20%20%20%20%20%20%20circle_marker_d7534d387e9d4c74a9200225dc2451f2.bindPopup%28popup_e56c4da2a6dc450fa403db746a67907d%29%0A%20%20%20%20%20%20%20%20%3B%0A%0A%20%20%20%20%20%20%20%20%0A%20%20%20%20%0A%20%20%20%20%0A%20%20%20%20%20%20%20%20%20%20%20%20var%20circle_marker_998863e7e316431ea120bf0c92fa6828%20%3D%20L.circleMarker%28%0A%20%20%20%20%20%20%20%20%20%20%20%20%20%20%20%20%5B41.79377103%2C%20-87.689560305%5D%2C%0A%20%20%20%20%20%20%20%20%20%20%20%20%20%20%20%20%7B%22bubblingMouseEvents%22%3A%20true%2C%20%22color%22%3A%20%22%233388ff%22%2C%20%22dashArray%22%3A%20null%2C%20%22dashOffset%22%3A%20null%2C%20%22fill%22%3A%20true%2C%20%22fillColor%22%3A%20%22%233388ff%22%2C%20%22fillOpacity%22%3A%200.2%2C%20%22fillRule%22%3A%20%22evenodd%22%2C%20%22lineCap%22%3A%20%22round%22%2C%20%22lineJoin%22%3A%20%22round%22%2C%20%22opacity%22%3A%201.0%2C%20%22radius%22%3A%2010%2C%20%22stroke%22%3A%20true%2C%20%22weight%22%3A%203%7D%0A%20%20%20%20%20%20%20%20%20%20%20%20%29.addTo%28map_97e094b0c34f4ae9984a381689c9ceb6%29%3B%0A%20%20%20%20%20%20%20%20%0A%20%20%20%20%0A%20%20%20%20%20%20%20%20var%20popup_0b8aa51e6fe64521ae97d470ab3b4c8e%20%3D%20L.popup%28%7B%22maxWidth%22%3A%20%22100%25%22%7D%29%3B%0A%0A%20%20%20%20%20%20%20%20%0A%20%20%20%20%20%20%20%20%20%20%20%20var%20html_fa7a9815bcb74488a1caa2bd4761bcfb%20%3D%20%24%28%60%3Cdiv%20id%3D%22html_fa7a9815bcb74488a1caa2bd4761bcfb%22%20style%3D%22width%3A%20100.0%25%3B%20height%3A%20100.0%25%3B%22%3ECommunity%20Index%20%3A%2015.0%3Cbr%3E%20%20%20%20%20%20%20%20%20%20%20%20%20%20%20%20%20Arrest%20%3A%20N%3Cbr%3E%20%20%20%20%20%20%20%20%20%20%20%20%20%20%20%20%20Location%20Description%20%3A%20N%3Cbr%3E%3C/div%3E%60%29%5B0%5D%3B%0A%20%20%20%20%20%20%20%20%20%20%20%20popup_0b8aa51e6fe64521ae97d470ab3b4c8e.setContent%28html_fa7a9815bcb74488a1caa2bd4761bcfb%29%3B%0A%20%20%20%20%20%20%20%20%0A%0A%20%20%20%20%20%20%20%20circle_marker_998863e7e316431ea120bf0c92fa6828.bindPopup%28popup_0b8aa51e6fe64521ae97d470ab3b4c8e%29%0A%20%20%20%20%20%20%20%20%3B%0A%0A%20%20%20%20%20%20%20%20%0A%20%20%20%20%0A%20%20%20%20%0A%20%20%20%20%20%20%20%20%20%20%20%20var%20circle_marker_8e1ace19be5244a39ee2c41f8f3ccae7%20%3D%20L.circleMarker%28%0A%20%20%20%20%20%20%20%20%20%20%20%20%20%20%20%20%5B41.780108365%2C%20-87.684886686%5D%2C%0A%20%20%20%20%20%20%20%20%20%20%20%20%20%20%20%20%7B%22bubblingMouseEvents%22%3A%20true%2C%20%22color%22%3A%20%22%233388ff%22%2C%20%22dashArray%22%3A%20null%2C%20%22dashOffset%22%3A%20null%2C%20%22fill%22%3A%20true%2C%20%22fillColor%22%3A%20%22%233388ff%22%2C%20%22fillOpacity%22%3A%200.2%2C%20%22fillRule%22%3A%20%22evenodd%22%2C%20%22lineCap%22%3A%20%22round%22%2C%20%22lineJoin%22%3A%20%22round%22%2C%20%22opacity%22%3A%201.0%2C%20%22radius%22%3A%2010%2C%20%22stroke%22%3A%20true%2C%20%22weight%22%3A%203%7D%0A%20%20%20%20%20%20%20%20%20%20%20%20%29.addTo%28map_97e094b0c34f4ae9984a381689c9ceb6%29%3B%0A%20%20%20%20%20%20%20%20%0A%20%20%20%20%0A%20%20%20%20%20%20%20%20var%20popup_1308d180458b4847ae8ff7538bb4b307%20%3D%20L.popup%28%7B%22maxWidth%22%3A%20%22100%25%22%7D%29%3B%0A%0A%20%20%20%20%20%20%20%20%0A%20%20%20%20%20%20%20%20%20%20%20%20var%20html_632467ec45e5408a9845710d92ca32c7%20%3D%20%24%28%60%3Cdiv%20id%3D%22html_632467ec45e5408a9845710d92ca32c7%22%20style%3D%22width%3A%20100.0%25%3B%20height%3A%20100.0%25%3B%22%3ECommunity%20Index%20%3A%2016.0%3Cbr%3E%20%20%20%20%20%20%20%20%20%20%20%20%20%20%20%20%20Arrest%20%3A%20N%3Cbr%3E%20%20%20%20%20%20%20%20%20%20%20%20%20%20%20%20%20Location%20Description%20%3A%20Y%3Cbr%3E%3C/div%3E%60%29%5B0%5D%3B%0A%20%20%20%20%20%20%20%20%20%20%20%20popup_1308d180458b4847ae8ff7538bb4b307.setContent%28html_632467ec45e5408a9845710d92ca32c7%29%3B%0A%20%20%20%20%20%20%20%20%0A%0A%20%20%20%20%20%20%20%20circle_marker_8e1ace19be5244a39ee2c41f8f3ccae7.bindPopup%28popup_1308d180458b4847ae8ff7538bb4b307%29%0A%20%20%20%20%20%20%20%20%3B%0A%0A%20%20%20%20%20%20%20%20%0A%20%20%20%20%0A%20%20%20%20%0A%20%20%20%20%20%20%20%20%20%20%20%20var%20circle_marker_27834cd943e4436aa450e68a2da4c35d%20%3D%20L.circleMarker%28%0A%20%20%20%20%20%20%20%20%20%20%20%20%20%20%20%20%5B41.77265186%2C%20-87.698104249%5D%2C%0A%20%20%20%20%20%20%20%20%20%20%20%20%20%20%20%20%7B%22bubblingMouseEvents%22%3A%20true%2C%20%22color%22%3A%20%22%233388ff%22%2C%20%22dashArray%22%3A%20null%2C%20%22dashOffset%22%3A%20null%2C%20%22fill%22%3A%20true%2C%20%22fillColor%22%3A%20%22%233388ff%22%2C%20%22fillOpacity%22%3A%200.2%2C%20%22fillRule%22%3A%20%22evenodd%22%2C%20%22lineCap%22%3A%20%22round%22%2C%20%22lineJoin%22%3A%20%22round%22%2C%20%22opacity%22%3A%201.0%2C%20%22radius%22%3A%2010%2C%20%22stroke%22%3A%20true%2C%20%22weight%22%3A%203%7D%0A%20%20%20%20%20%20%20%20%20%20%20%20%29.addTo%28map_97e094b0c34f4ae9984a381689c9ceb6%29%3B%0A%20%20%20%20%20%20%20%20%0A%20%20%20%20%0A%20%20%20%20%20%20%20%20var%20popup_27bcbd17397a44c0a0858d6e1b271809%20%3D%20L.popup%28%7B%22maxWidth%22%3A%20%22100%25%22%7D%29%3B%0A%0A%20%20%20%20%20%20%20%20%0A%20%20%20%20%20%20%20%20%20%20%20%20var%20html_a69c2af640034ef782cd86239cb04f9a%20%3D%20%24%28%60%3Cdiv%20id%3D%22html_a69c2af640034ef782cd86239cb04f9a%22%20style%3D%22width%3A%20100.0%25%3B%20height%3A%20100.0%25%3B%22%3ECommunity%20Index%20%3A%2017.0%3Cbr%3E%20%20%20%20%20%20%20%20%20%20%20%20%20%20%20%20%20Arrest%20%3A%20N%3Cbr%3E%20%20%20%20%20%20%20%20%20%20%20%20%20%20%20%20%20Location%20Description%20%3A%20N%3Cbr%3E%3C/div%3E%60%29%5B0%5D%3B%0A%20%20%20%20%20%20%20%20%20%20%20%20popup_27bcbd17397a44c0a0858d6e1b271809.setContent%28html_a69c2af640034ef782cd86239cb04f9a%29%3B%0A%20%20%20%20%20%20%20%20%0A%0A%20%20%20%20%20%20%20%20circle_marker_27834cd943e4436aa450e68a2da4c35d.bindPopup%28popup_27bcbd17397a44c0a0858d6e1b271809%29%0A%20%20%20%20%20%20%20%20%3B%0A%0A%20%20%20%20%20%20%20%20%0A%20%20%20%20%0A%20%20%20%20%0A%20%20%20%20%20%20%20%20%20%20%20%20var%20circle_marker_5b100a6bbc8045d6a0d901ebd4377b4f%20%3D%20L.circleMarker%28%0A%20%20%20%20%20%20%20%20%20%20%20%20%20%20%20%20%5B41.746873101%2C%20-87.702312419%5D%2C%0A%20%20%20%20%20%20%20%20%20%20%20%20%20%20%20%20%7B%22bubblingMouseEvents%22%3A%20true%2C%20%22color%22%3A%20%22%233388ff%22%2C%20%22dashArray%22%3A%20null%2C%20%22dashOffset%22%3A%20null%2C%20%22fill%22%3A%20true%2C%20%22fillColor%22%3A%20%22%233388ff%22%2C%20%22fillOpacity%22%3A%200.2%2C%20%22fillRule%22%3A%20%22evenodd%22%2C%20%22lineCap%22%3A%20%22round%22%2C%20%22lineJoin%22%3A%20%22round%22%2C%20%22opacity%22%3A%201.0%2C%20%22radius%22%3A%2010%2C%20%22stroke%22%3A%20true%2C%20%22weight%22%3A%203%7D%0A%20%20%20%20%20%20%20%20%20%20%20%20%29.addTo%28map_97e094b0c34f4ae9984a381689c9ceb6%29%3B%0A%20%20%20%20%20%20%20%20%0A%20%20%20%20%0A%20%20%20%20%20%20%20%20var%20popup_ae007351ccfe4a30ae8d47919e351aab%20%3D%20L.popup%28%7B%22maxWidth%22%3A%20%22100%25%22%7D%29%3B%0A%0A%20%20%20%20%20%20%20%20%0A%20%20%20%20%20%20%20%20%20%20%20%20var%20html_89e15deea7154fb383a62329359e277f%20%3D%20%24%28%60%3Cdiv%20id%3D%22html_89e15deea7154fb383a62329359e277f%22%20style%3D%22width%3A%20100.0%25%3B%20height%3A%20100.0%25%3B%22%3ECommunity%20Index%20%3A%2018.0%3Cbr%3E%20%20%20%20%20%20%20%20%20%20%20%20%20%20%20%20%20Arrest%20%3A%20N%3Cbr%3E%20%20%20%20%20%20%20%20%20%20%20%20%20%20%20%20%20Location%20Description%20%3A%20N%3Cbr%3E%3C/div%3E%60%29%5B0%5D%3B%0A%20%20%20%20%20%20%20%20%20%20%20%20popup_ae007351ccfe4a30ae8d47919e351aab.setContent%28html_89e15deea7154fb383a62329359e277f%29%3B%0A%20%20%20%20%20%20%20%20%0A%0A%20%20%20%20%20%20%20%20circle_marker_5b100a6bbc8045d6a0d901ebd4377b4f.bindPopup%28popup_ae007351ccfe4a30ae8d47919e351aab%29%0A%20%20%20%20%20%20%20%20%3B%0A%0A%20%20%20%20%20%20%20%20%0A%20%20%20%20%0A%20%20%20%20%0A%20%20%20%20%20%20%20%20%20%20%20%20var%20circle_marker_54b2110bde3445e3bfebdb48dae15dab%20%3D%20L.circleMarker%28%0A%20%20%20%20%20%20%20%20%20%20%20%20%20%20%20%20%5B41.685546098%2C%20-87.673078477%5D%2C%0A%20%20%20%20%20%20%20%20%20%20%20%20%20%20%20%20%7B%22bubblingMouseEvents%22%3A%20true%2C%20%22color%22%3A%20%22%233388ff%22%2C%20%22dashArray%22%3A%20null%2C%20%22dashOffset%22%3A%20null%2C%20%22fill%22%3A%20true%2C%20%22fillColor%22%3A%20%22%233388ff%22%2C%20%22fillOpacity%22%3A%200.2%2C%20%22fillRule%22%3A%20%22evenodd%22%2C%20%22lineCap%22%3A%20%22round%22%2C%20%22lineJoin%22%3A%20%22round%22%2C%20%22opacity%22%3A%201.0%2C%20%22radius%22%3A%2010%2C%20%22stroke%22%3A%20true%2C%20%22weight%22%3A%203%7D%0A%20%20%20%20%20%20%20%20%20%20%20%20%29.addTo%28map_97e094b0c34f4ae9984a381689c9ceb6%29%3B%0A%20%20%20%20%20%20%20%20%0A%20%20%20%20%0A%20%20%20%20%20%20%20%20var%20popup_a02af68f32fa4426bc0059d725c0361c%20%3D%20L.popup%28%7B%22maxWidth%22%3A%20%22100%25%22%7D%29%3B%0A%0A%20%20%20%20%20%20%20%20%0A%20%20%20%20%20%20%20%20%20%20%20%20var%20html_8161fd585dd343f0988553ad261bd4d4%20%3D%20%24%28%60%3Cdiv%20id%3D%22html_8161fd585dd343f0988553ad261bd4d4%22%20style%3D%22width%3A%20100.0%25%3B%20height%3A%20100.0%25%3B%22%3ECommunity%20Index%20%3A%2019.0%3Cbr%3E%20%20%20%20%20%20%20%20%20%20%20%20%20%20%20%20%20Arrest%20%3A%20N%3Cbr%3E%20%20%20%20%20%20%20%20%20%20%20%20%20%20%20%20%20Location%20Description%20%3A%20N%3Cbr%3E%3C/div%3E%60%29%5B0%5D%3B%0A%20%20%20%20%20%20%20%20%20%20%20%20popup_a02af68f32fa4426bc0059d725c0361c.setContent%28html_8161fd585dd343f0988553ad261bd4d4%29%3B%0A%20%20%20%20%20%20%20%20%0A%0A%20%20%20%20%20%20%20%20circle_marker_54b2110bde3445e3bfebdb48dae15dab.bindPopup%28popup_a02af68f32fa4426bc0059d725c0361c%29%0A%20%20%20%20%20%20%20%20%3B%0A%0A%20%20%20%20%20%20%20%20%0A%20%20%20%20%0A%20%20%20%20%0A%20%20%20%20%20%20%20%20%20%20%20%20var%20circle_marker_514e9af1c7c44dc4b2f11b0943e55417%20%3D%20L.circleMarker%28%0A%20%20%20%20%20%20%20%20%20%20%20%20%20%20%20%20%5B41.787930446%2C%20-87.63403701200001%5D%2C%0A%20%20%20%20%20%20%20%20%20%20%20%20%20%20%20%20%7B%22bubblingMouseEvents%22%3A%20true%2C%20%22color%22%3A%20%22%233388ff%22%2C%20%22dashArray%22%3A%20null%2C%20%22dashOffset%22%3A%20null%2C%20%22fill%22%3A%20true%2C%20%22fillColor%22%3A%20%22%233388ff%22%2C%20%22fillOpacity%22%3A%200.2%2C%20%22fillRule%22%3A%20%22evenodd%22%2C%20%22lineCap%22%3A%20%22round%22%2C%20%22lineJoin%22%3A%20%22round%22%2C%20%22opacity%22%3A%201.0%2C%20%22radius%22%3A%2010%2C%20%22stroke%22%3A%20true%2C%20%22weight%22%3A%203%7D%0A%20%20%20%20%20%20%20%20%20%20%20%20%29.addTo%28map_97e094b0c34f4ae9984a381689c9ceb6%29%3B%0A%20%20%20%20%20%20%20%20%0A%20%20%20%20%0A%20%20%20%20%20%20%20%20var%20popup_cddcb87d5a86499297ffbd8eae2c38f8%20%3D%20L.popup%28%7B%22maxWidth%22%3A%20%22100%25%22%7D%29%3B%0A%0A%20%20%20%20%20%20%20%20%0A%20%20%20%20%20%20%20%20%20%20%20%20var%20html_86ee82b732b247b384330631dfba1d4d%20%3D%20%24%28%60%3Cdiv%20id%3D%22html_86ee82b732b247b384330631dfba1d4d%22%20style%3D%22width%3A%20100.0%25%3B%20height%3A%20100.0%25%3B%22%3ECommunity%20Index%20%3A%2020.0%3Cbr%3E%20%20%20%20%20%20%20%20%20%20%20%20%20%20%20%20%20Arrest%20%3A%20N%3Cbr%3E%20%20%20%20%20%20%20%20%20%20%20%20%20%20%20%20%20Location%20Description%20%3A%20N%3Cbr%3E%3C/div%3E%60%29%5B0%5D%3B%0A%20%20%20%20%20%20%20%20%20%20%20%20popup_cddcb87d5a86499297ffbd8eae2c38f8.setContent%28html_86ee82b732b247b384330631dfba1d4d%29%3B%0A%20%20%20%20%20%20%20%20%0A%0A%20%20%20%20%20%20%20%20circle_marker_514e9af1c7c44dc4b2f11b0943e55417.bindPopup%28popup_cddcb87d5a86499297ffbd8eae2c38f8%29%0A%20%20%20%20%20%20%20%20%3B%0A%0A%20%20%20%20%20%20%20%20%0A%20%20%20%20%0A%20%20%20%20%0A%20%20%20%20%20%20%20%20%20%20%20%20var%20circle_marker_f572ed205e0f407c832387d971798c6d%20%3D%20L.circleMarker%28%0A%20%20%20%20%20%20%20%20%20%20%20%20%20%20%20%20%5B41.722414804%2C%20-87.655407696%5D%2C%0A%20%20%20%20%20%20%20%20%20%20%20%20%20%20%20%20%7B%22bubblingMouseEvents%22%3A%20true%2C%20%22color%22%3A%20%22%233388ff%22%2C%20%22dashArray%22%3A%20null%2C%20%22dashOffset%22%3A%20null%2C%20%22fill%22%3A%20true%2C%20%22fillColor%22%3A%20%22%233388ff%22%2C%20%22fillOpacity%22%3A%200.2%2C%20%22fillRule%22%3A%20%22evenodd%22%2C%20%22lineCap%22%3A%20%22round%22%2C%20%22lineJoin%22%3A%20%22round%22%2C%20%22opacity%22%3A%201.0%2C%20%22radius%22%3A%2010%2C%20%22stroke%22%3A%20true%2C%20%22weight%22%3A%203%7D%0A%20%20%20%20%20%20%20%20%20%20%20%20%29.addTo%28map_97e094b0c34f4ae9984a381689c9ceb6%29%3B%0A%20%20%20%20%20%20%20%20%0A%20%20%20%20%0A%20%20%20%20%20%20%20%20var%20popup_c790341fd7c14455a80465f8461b59c2%20%3D%20L.popup%28%7B%22maxWidth%22%3A%20%22100%25%22%7D%29%3B%0A%0A%20%20%20%20%20%20%20%20%0A%20%20%20%20%20%20%20%20%20%20%20%20var%20html_9c692bf76a7d41ae968ec67662386332%20%3D%20%24%28%60%3Cdiv%20id%3D%22html_9c692bf76a7d41ae968ec67662386332%22%20style%3D%22width%3A%20100.0%25%3B%20height%3A%20100.0%25%3B%22%3ECommunity%20Index%20%3A%2021.0%3Cbr%3E%20%20%20%20%20%20%20%20%20%20%20%20%20%20%20%20%20Arrest%20%3A%20N%3Cbr%3E%20%20%20%20%20%20%20%20%20%20%20%20%20%20%20%20%20Location%20Description%20%3A%20N%3Cbr%3E%3C/div%3E%60%29%5B0%5D%3B%0A%20%20%20%20%20%20%20%20%20%20%20%20popup_c790341fd7c14455a80465f8461b59c2.setContent%28html_9c692bf76a7d41ae968ec67662386332%29%3B%0A%20%20%20%20%20%20%20%20%0A%0A%20%20%20%20%20%20%20%20circle_marker_f572ed205e0f407c832387d971798c6d.bindPopup%28popup_c790341fd7c14455a80465f8461b59c2%29%0A%20%20%20%20%20%20%20%20%3B%0A%0A%20%20%20%20%20%20%20%20%0A%20%20%20%20%0A%20%20%20%20%0A%20%20%20%20%20%20%20%20%20%20%20%20var%20circle_marker_d39b9f9c16454fb08f326ec691ce99cc%20%3D%20L.circleMarker%28%0A%20%20%20%20%20%20%20%20%20%20%20%20%20%20%20%20%5B41.848474761999995%2C%20-87.724676285%5D%2C%0A%20%20%20%20%20%20%20%20%20%20%20%20%20%20%20%20%7B%22bubblingMouseEvents%22%3A%20true%2C%20%22color%22%3A%20%22%233388ff%22%2C%20%22dashArray%22%3A%20null%2C%20%22dashOffset%22%3A%20null%2C%20%22fill%22%3A%20true%2C%20%22fillColor%22%3A%20%22%233388ff%22%2C%20%22fillOpacity%22%3A%200.2%2C%20%22fillRule%22%3A%20%22evenodd%22%2C%20%22lineCap%22%3A%20%22round%22%2C%20%22lineJoin%22%3A%20%22round%22%2C%20%22opacity%22%3A%201.0%2C%20%22radius%22%3A%2010%2C%20%22stroke%22%3A%20true%2C%20%22weight%22%3A%203%7D%0A%20%20%20%20%20%20%20%20%20%20%20%20%29.addTo%28map_97e094b0c34f4ae9984a381689c9ceb6%29%3B%0A%20%20%20%20%20%20%20%20%0A%20%20%20%20%0A%20%20%20%20%20%20%20%20var%20popup_622c589c5700475d89cff6d7afb162a9%20%3D%20L.popup%28%7B%22maxWidth%22%3A%20%22100%25%22%7D%29%3B%0A%0A%20%20%20%20%20%20%20%20%0A%20%20%20%20%20%20%20%20%20%20%20%20var%20html_da83633265f14411907caf87a229fd0a%20%3D%20%24%28%60%3Cdiv%20id%3D%22html_da83633265f14411907caf87a229fd0a%22%20style%3D%22width%3A%20100.0%25%3B%20height%3A%20100.0%25%3B%22%3ECommunity%20Index%20%3A%2022.0%3Cbr%3E%20%20%20%20%20%20%20%20%20%20%20%20%20%20%20%20%20Arrest%20%3A%20N%3Cbr%3E%20%20%20%20%20%20%20%20%20%20%20%20%20%20%20%20%20Location%20Description%20%3A%20Y%3Cbr%3E%3C/div%3E%60%29%5B0%5D%3B%0A%20%20%20%20%20%20%20%20%20%20%20%20popup_622c589c5700475d89cff6d7afb162a9.setContent%28html_da83633265f14411907caf87a229fd0a%29%3B%0A%20%20%20%20%20%20%20%20%0A%0A%20%20%20%20%20%20%20%20circle_marker_d39b9f9c16454fb08f326ec691ce99cc.bindPopup%28popup_622c589c5700475d89cff6d7afb162a9%29%0A%20%20%20%20%20%20%20%20%3B%0A%0A%20%20%20%20%20%20%20%20%0A%20%20%20%20%0A%20%20%20%20%0A%20%20%20%20%20%20%20%20%20%20%20%20var%20circle_marker_c05257b4c05344cfa98488317a7ac3e4%20%3D%20L.circleMarker%28%0A%20%20%20%20%20%20%20%20%20%20%20%20%20%20%20%20%5B41.799343659%2C%20-87.735586414%5D%2C%0A%20%20%20%20%20%20%20%20%20%20%20%20%20%20%20%20%7B%22bubblingMouseEvents%22%3A%20true%2C%20%22color%22%3A%20%22%233388ff%22%2C%20%22dashArray%22%3A%20null%2C%20%22dashOffset%22%3A%20null%2C%20%22fill%22%3A%20true%2C%20%22fillColor%22%3A%20%22%233388ff%22%2C%20%22fillOpacity%22%3A%200.2%2C%20%22fillRule%22%3A%20%22evenodd%22%2C%20%22lineCap%22%3A%20%22round%22%2C%20%22lineJoin%22%3A%20%22round%22%2C%20%22opacity%22%3A%201.0%2C%20%22radius%22%3A%2010%2C%20%22stroke%22%3A%20true%2C%20%22weight%22%3A%203%7D%0A%20%20%20%20%20%20%20%20%20%20%20%20%29.addTo%28map_97e094b0c34f4ae9984a381689c9ceb6%29%3B%0A%20%20%20%20%20%20%20%20%0A%20%20%20%20%0A%20%20%20%20%20%20%20%20var%20popup_30684694107448d1a00e2abd6612d4fd%20%3D%20L.popup%28%7B%22maxWidth%22%3A%20%22100%25%22%7D%29%3B%0A%0A%20%20%20%20%20%20%20%20%0A%20%20%20%20%20%20%20%20%20%20%20%20var%20html_2f8e97503d0c4aea98a9729f292b704b%20%3D%20%24%28%60%3Cdiv%20id%3D%22html_2f8e97503d0c4aea98a9729f292b704b%22%20style%3D%22width%3A%20100.0%25%3B%20height%3A%20100.0%25%3B%22%3ECommunity%20Index%20%3A%2023.0%3Cbr%3E%20%20%20%20%20%20%20%20%20%20%20%20%20%20%20%20%20Arrest%20%3A%20N%3Cbr%3E%20%20%20%20%20%20%20%20%20%20%20%20%20%20%20%20%20Location%20Description%20%3A%20N%3Cbr%3E%3C/div%3E%60%29%5B0%5D%3B%0A%20%20%20%20%20%20%20%20%20%20%20%20popup_30684694107448d1a00e2abd6612d4fd.setContent%28html_2f8e97503d0c4aea98a9729f292b704b%29%3B%0A%20%20%20%20%20%20%20%20%0A%0A%20%20%20%20%20%20%20%20circle_marker_c05257b4c05344cfa98488317a7ac3e4.bindPopup%28popup_30684694107448d1a00e2abd6612d4fd%29%0A%20%20%20%20%20%20%20%20%3B%0A%0A%20%20%20%20%20%20%20%20%0A%20%20%20%20%0A%20%20%20%20%0A%20%20%20%20%20%20%20%20%20%20%20%20var%20circle_marker_80cbd2ab468b459185214fbec0a97134%20%3D%20L.circleMarker%28%0A%20%20%20%20%20%20%20%20%20%20%20%20%20%20%20%20%5B41.86390688%2C%20-87.70803171600001%5D%2C%0A%20%20%20%20%20%20%20%20%20%20%20%20%20%20%20%20%7B%22bubblingMouseEvents%22%3A%20true%2C%20%22color%22%3A%20%22%233388ff%22%2C%20%22dashArray%22%3A%20null%2C%20%22dashOffset%22%3A%20null%2C%20%22fill%22%3A%20true%2C%20%22fillColor%22%3A%20%22%233388ff%22%2C%20%22fillOpacity%22%3A%200.2%2C%20%22fillRule%22%3A%20%22evenodd%22%2C%20%22lineCap%22%3A%20%22round%22%2C%20%22lineJoin%22%3A%20%22round%22%2C%20%22opacity%22%3A%201.0%2C%20%22radius%22%3A%2010%2C%20%22stroke%22%3A%20true%2C%20%22weight%22%3A%203%7D%0A%20%20%20%20%20%20%20%20%20%20%20%20%29.addTo%28map_97e094b0c34f4ae9984a381689c9ceb6%29%3B%0A%20%20%20%20%20%20%20%20%0A%20%20%20%20%0A%20%20%20%20%20%20%20%20var%20popup_96f87f322f1d4b948de22ae161defcdb%20%3D%20L.popup%28%7B%22maxWidth%22%3A%20%22100%25%22%7D%29%3B%0A%0A%20%20%20%20%20%20%20%20%0A%20%20%20%20%20%20%20%20%20%20%20%20var%20html_2d2074b4b9e744d6b236d748448afa0f%20%3D%20%24%28%60%3Cdiv%20id%3D%22html_2d2074b4b9e744d6b236d748448afa0f%22%20style%3D%22width%3A%20100.0%25%3B%20height%3A%20100.0%25%3B%22%3ECommunity%20Index%20%3A%2024.0%3Cbr%3E%20%20%20%20%20%20%20%20%20%20%20%20%20%20%20%20%20Arrest%20%3A%20N%3Cbr%3E%20%20%20%20%20%20%20%20%20%20%20%20%20%20%20%20%20Location%20Description%20%3A%20N%3Cbr%3E%3C/div%3E%60%29%5B0%5D%3B%0A%20%20%20%20%20%20%20%20%20%20%20%20popup_96f87f322f1d4b948de22ae161defcdb.setContent%28html_2d2074b4b9e744d6b236d748448afa0f%29%3B%0A%20%20%20%20%20%20%20%20%0A%0A%20%20%20%20%20%20%20%20circle_marker_80cbd2ab468b459185214fbec0a97134.bindPopup%28popup_96f87f322f1d4b948de22ae161defcdb%29%0A%20%20%20%20%20%20%20%20%3B%0A%0A%20%20%20%20%20%20%20%20%0A%20%20%20%20%0A%20%20%20%20%0A%20%20%20%20%20%20%20%20%20%20%20%20var%20circle_marker_b3134faee61b41b495291c20cc2ed010%20%3D%20L.circleMarker%28%0A%20%20%20%20%20%20%20%20%20%20%20%20%20%20%20%20%5B41.855788654%2C%20-87.66126164799999%5D%2C%0A%20%20%20%20%20%20%20%20%20%20%20%20%20%20%20%20%7B%22bubblingMouseEvents%22%3A%20true%2C%20%22color%22%3A%20%22%233388ff%22%2C%20%22dashArray%22%3A%20null%2C%20%22dashOffset%22%3A%20null%2C%20%22fill%22%3A%20true%2C%20%22fillColor%22%3A%20%22%233388ff%22%2C%20%22fillOpacity%22%3A%200.2%2C%20%22fillRule%22%3A%20%22evenodd%22%2C%20%22lineCap%22%3A%20%22round%22%2C%20%22lineJoin%22%3A%20%22round%22%2C%20%22opacity%22%3A%201.0%2C%20%22radius%22%3A%2010%2C%20%22stroke%22%3A%20true%2C%20%22weight%22%3A%203%7D%0A%20%20%20%20%20%20%20%20%20%20%20%20%29.addTo%28map_97e094b0c34f4ae9984a381689c9ceb6%29%3B%0A%20%20%20%20%20%20%20%20%0A%20%20%20%20%0A%20%20%20%20%20%20%20%20var%20popup_5aa943db4a58456e83f376d6f5251848%20%3D%20L.popup%28%7B%22maxWidth%22%3A%20%22100%25%22%7D%29%3B%0A%0A%20%20%20%20%20%20%20%20%0A%20%20%20%20%20%20%20%20%20%20%20%20var%20html_16ba644d452a45d5ade61dccd2647757%20%3D%20%24%28%60%3Cdiv%20id%3D%22html_16ba644d452a45d5ade61dccd2647757%22%20style%3D%22width%3A%20100.0%25%3B%20height%3A%20100.0%25%3B%22%3ECommunity%20Index%20%3A%2025.0%3Cbr%3E%20%20%20%20%20%20%20%20%20%20%20%20%20%20%20%20%20Arrest%20%3A%20N%3Cbr%3E%20%20%20%20%20%20%20%20%20%20%20%20%20%20%20%20%20Location%20Description%20%3A%20N%3Cbr%3E%3C/div%3E%60%29%5B0%5D%3B%0A%20%20%20%20%20%20%20%20%20%20%20%20popup_5aa943db4a58456e83f376d6f5251848.setContent%28html_16ba644d452a45d5ade61dccd2647757%29%3B%0A%20%20%20%20%20%20%20%20%0A%0A%20%20%20%20%20%20%20%20circle_marker_b3134faee61b41b495291c20cc2ed010.bindPopup%28popup_5aa943db4a58456e83f376d6f5251848%29%0A%20%20%20%20%20%20%20%20%3B%0A%0A%20%20%20%20%20%20%20%20%0A%20%20%20%20%0A%20%20%20%20%0A%20%20%20%20%20%20%20%20%20%20%20%20var%20circle_marker_38f25b470e414bb89e8b3d0118d9c039%20%3D%20L.circleMarker%28%0A%20%20%20%20%20%20%20%20%20%20%20%20%20%20%20%20%5B41.899187932%2C%20-87.707210123%5D%2C%0A%20%20%20%20%20%20%20%20%20%20%20%20%20%20%20%20%7B%22bubblingMouseEvents%22%3A%20true%2C%20%22color%22%3A%20%22%233388ff%22%2C%20%22dashArray%22%3A%20null%2C%20%22dashOffset%22%3A%20null%2C%20%22fill%22%3A%20true%2C%20%22fillColor%22%3A%20%22%233388ff%22%2C%20%22fillOpacity%22%3A%200.2%2C%20%22fillRule%22%3A%20%22evenodd%22%2C%20%22lineCap%22%3A%20%22round%22%2C%20%22lineJoin%22%3A%20%22round%22%2C%20%22opacity%22%3A%201.0%2C%20%22radius%22%3A%2010%2C%20%22stroke%22%3A%20true%2C%20%22weight%22%3A%203%7D%0A%20%20%20%20%20%20%20%20%20%20%20%20%29.addTo%28map_97e094b0c34f4ae9984a381689c9ceb6%29%3B%0A%20%20%20%20%20%20%20%20%0A%20%20%20%20%0A%20%20%20%20%20%20%20%20var%20popup_80053a11412e4b7e860d8e82a736ee0f%20%3D%20L.popup%28%7B%22maxWidth%22%3A%20%22100%25%22%7D%29%3B%0A%0A%20%20%20%20%20%20%20%20%0A%20%20%20%20%20%20%20%20%20%20%20%20var%20html_dca2016979184fdcaf6e003d2534bab0%20%3D%20%24%28%60%3Cdiv%20id%3D%22html_dca2016979184fdcaf6e003d2534bab0%22%20style%3D%22width%3A%20100.0%25%3B%20height%3A%20100.0%25%3B%22%3ECommunity%20Index%20%3A%2026.0%3Cbr%3E%20%20%20%20%20%20%20%20%20%20%20%20%20%20%20%20%20Arrest%20%3A%20N%3Cbr%3E%20%20%20%20%20%20%20%20%20%20%20%20%20%20%20%20%20Location%20Description%20%3A%20Y%3Cbr%3E%3C/div%3E%60%29%5B0%5D%3B%0A%20%20%20%20%20%20%20%20%20%20%20%20popup_80053a11412e4b7e860d8e82a736ee0f.setContent%28html_dca2016979184fdcaf6e003d2534bab0%29%3B%0A%20%20%20%20%20%20%20%20%0A%0A%20%20%20%20%20%20%20%20circle_marker_38f25b470e414bb89e8b3d0118d9c039.bindPopup%28popup_80053a11412e4b7e860d8e82a736ee0f%29%0A%20%20%20%20%20%20%20%20%3B%0A%0A%20%20%20%20%20%20%20%20%0A%20%20%20%20%0A%20%20%20%20%0A%20%20%20%20%20%20%20%20%20%20%20%20var%20circle_marker_ff7efe958f214d3d8a7de32817de9a2d%20%3D%20L.circleMarker%28%0A%20%20%20%20%20%20%20%20%20%20%20%20%20%20%20%20%5B41.909240284%2C%20-87.65274758%5D%2C%0A%20%20%20%20%20%20%20%20%20%20%20%20%20%20%20%20%7B%22bubblingMouseEvents%22%3A%20true%2C%20%22color%22%3A%20%22%233388ff%22%2C%20%22dashArray%22%3A%20null%2C%20%22dashOffset%22%3A%20null%2C%20%22fill%22%3A%20true%2C%20%22fillColor%22%3A%20%22%233388ff%22%2C%20%22fillOpacity%22%3A%200.2%2C%20%22fillRule%22%3A%20%22evenodd%22%2C%20%22lineCap%22%3A%20%22round%22%2C%20%22lineJoin%22%3A%20%22round%22%2C%20%22opacity%22%3A%201.0%2C%20%22radius%22%3A%2010%2C%20%22stroke%22%3A%20true%2C%20%22weight%22%3A%203%7D%0A%20%20%20%20%20%20%20%20%20%20%20%20%29.addTo%28map_97e094b0c34f4ae9984a381689c9ceb6%29%3B%0A%20%20%20%20%20%20%20%20%0A%20%20%20%20%0A%20%20%20%20%20%20%20%20var%20popup_49d9f30afafc4ec98537461b4eaa9c43%20%3D%20L.popup%28%7B%22maxWidth%22%3A%20%22100%25%22%7D%29%3B%0A%0A%20%20%20%20%20%20%20%20%0A%20%20%20%20%20%20%20%20%20%20%20%20var%20html_fdb775605ef94bf3be479b1421ed6419%20%3D%20%24%28%60%3Cdiv%20id%3D%22html_fdb775605ef94bf3be479b1421ed6419%22%20style%3D%22width%3A%20100.0%25%3B%20height%3A%20100.0%25%3B%22%3ECommunity%20Index%20%3A%2027.0%3Cbr%3E%20%20%20%20%20%20%20%20%20%20%20%20%20%20%20%20%20Arrest%20%3A%20N%3Cbr%3E%20%20%20%20%20%20%20%20%20%20%20%20%20%20%20%20%20Location%20Description%20%3A%20Y%3Cbr%3E%3C/div%3E%60%29%5B0%5D%3B%0A%20%20%20%20%20%20%20%20%20%20%20%20popup_49d9f30afafc4ec98537461b4eaa9c43.setContent%28html_fdb775605ef94bf3be479b1421ed6419%29%3B%0A%20%20%20%20%20%20%20%20%0A%0A%20%20%20%20%20%20%20%20circle_marker_ff7efe958f214d3d8a7de32817de9a2d.bindPopup%28popup_49d9f30afafc4ec98537461b4eaa9c43%29%0A%20%20%20%20%20%20%20%20%3B%0A%0A%20%20%20%20%20%20%20%20%0A%20%20%20%20%0A%20%20%20%20%0A%20%20%20%20%20%20%20%20%20%20%20%20var%20circle_marker_ee355b1ae84c40d7bd81fd3c002900b6%20%3D%20L.circleMarker%28%0A%20%20%20%20%20%20%20%20%20%20%20%20%20%20%20%20%5B41.881893071%2C%20-87.73858166%5D%2C%0A%20%20%20%20%20%20%20%20%20%20%20%20%20%20%20%20%7B%22bubblingMouseEvents%22%3A%20true%2C%20%22color%22%3A%20%22%233388ff%22%2C%20%22dashArray%22%3A%20null%2C%20%22dashOffset%22%3A%20null%2C%20%22fill%22%3A%20true%2C%20%22fillColor%22%3A%20%22%233388ff%22%2C%20%22fillOpacity%22%3A%200.2%2C%20%22fillRule%22%3A%20%22evenodd%22%2C%20%22lineCap%22%3A%20%22round%22%2C%20%22lineJoin%22%3A%20%22round%22%2C%20%22opacity%22%3A%201.0%2C%20%22radius%22%3A%2010%2C%20%22stroke%22%3A%20true%2C%20%22weight%22%3A%203%7D%0A%20%20%20%20%20%20%20%20%20%20%20%20%29.addTo%28map_97e094b0c34f4ae9984a381689c9ceb6%29%3B%0A%20%20%20%20%20%20%20%20%0A%20%20%20%20%0A%20%20%20%20%20%20%20%20var%20popup_2a701e2861f7404183ffa0cfdb844ad7%20%3D%20L.popup%28%7B%22maxWidth%22%3A%20%22100%25%22%7D%29%3B%0A%0A%20%20%20%20%20%20%20%20%0A%20%20%20%20%20%20%20%20%20%20%20%20var%20html_ecf0fee48d1744b89302eb286b6f903d%20%3D%20%24%28%60%3Cdiv%20id%3D%22html_ecf0fee48d1744b89302eb286b6f903d%22%20style%3D%22width%3A%20100.0%25%3B%20height%3A%20100.0%25%3B%22%3ECommunity%20Index%20%3A%2028.0%3Cbr%3E%20%20%20%20%20%20%20%20%20%20%20%20%20%20%20%20%20Arrest%20%3A%20Y%3Cbr%3E%20%20%20%20%20%20%20%20%20%20%20%20%20%20%20%20%20Location%20Description%20%3A%20N%3Cbr%3E%3C/div%3E%60%29%5B0%5D%3B%0A%20%20%20%20%20%20%20%20%20%20%20%20popup_2a701e2861f7404183ffa0cfdb844ad7.setContent%28html_ecf0fee48d1744b89302eb286b6f903d%29%3B%0A%20%20%20%20%20%20%20%20%0A%0A%20%20%20%20%20%20%20%20circle_marker_ee355b1ae84c40d7bd81fd3c002900b6.bindPopup%28popup_2a701e2861f7404183ffa0cfdb844ad7%29%0A%20%20%20%20%20%20%20%20%3B%0A%0A%20%20%20%20%20%20%20%20%0A%20%20%20%20%0A%20%20%20%20%0A%20%20%20%20%20%20%20%20%20%20%20%20var%20circle_marker_67e271fb512b46b68971bdfc73aaae37%20%3D%20L.circleMarker%28%0A%20%20%20%20%20%20%20%20%20%20%20%20%20%20%20%20%5B41.904615737%2C%20-87.77302296200001%5D%2C%0A%20%20%20%20%20%20%20%20%20%20%20%20%20%20%20%20%7B%22bubblingMouseEvents%22%3A%20true%2C%20%22color%22%3A%20%22%233388ff%22%2C%20%22dashArray%22%3A%20null%2C%20%22dashOffset%22%3A%20null%2C%20%22fill%22%3A%20true%2C%20%22fillColor%22%3A%20%22%233388ff%22%2C%20%22fillOpacity%22%3A%200.2%2C%20%22fillRule%22%3A%20%22evenodd%22%2C%20%22lineCap%22%3A%20%22round%22%2C%20%22lineJoin%22%3A%20%22round%22%2C%20%22opacity%22%3A%201.0%2C%20%22radius%22%3A%2010%2C%20%22stroke%22%3A%20true%2C%20%22weight%22%3A%203%7D%0A%20%20%20%20%20%20%20%20%20%20%20%20%29.addTo%28map_97e094b0c34f4ae9984a381689c9ceb6%29%3B%0A%20%20%20%20%20%20%20%20%0A%20%20%20%20%0A%20%20%20%20%20%20%20%20var%20popup_5815910500a14c12983dab149ab844a9%20%3D%20L.popup%28%7B%22maxWidth%22%3A%20%22100%25%22%7D%29%3B%0A%0A%20%20%20%20%20%20%20%20%0A%20%20%20%20%20%20%20%20%20%20%20%20var%20html_e64178b402e844deb56f737eccc127e7%20%3D%20%24%28%60%3Cdiv%20id%3D%22html_e64178b402e844deb56f737eccc127e7%22%20style%3D%22width%3A%20100.0%25%3B%20height%3A%20100.0%25%3B%22%3ECommunity%20Index%20%3A%2029.0%3Cbr%3E%20%20%20%20%20%20%20%20%20%20%20%20%20%20%20%20%20Arrest%20%3A%20N%3Cbr%3E%20%20%20%20%20%20%20%20%20%20%20%20%20%20%20%20%20Location%20Description%20%3A%20N%3Cbr%3E%3C/div%3E%60%29%5B0%5D%3B%0A%20%20%20%20%20%20%20%20%20%20%20%20popup_5815910500a14c12983dab149ab844a9.setContent%28html_e64178b402e844deb56f737eccc127e7%29%3B%0A%20%20%20%20%20%20%20%20%0A%0A%20%20%20%20%20%20%20%20circle_marker_67e271fb512b46b68971bdfc73aaae37.bindPopup%28popup_5815910500a14c12983dab149ab844a9%29%0A%20%20%20%20%20%20%20%20%3B%0A%0A%20%20%20%20%20%20%20%20%0A%20%20%20%20%0A%20%20%20%20%0A%20%20%20%20%20%20%20%20%20%20%20%20var%20circle_marker_39c642a80aa242a5806e68567094889d%20%3D%20L.circleMarker%28%0A%20%20%20%20%20%20%20%20%20%20%20%20%20%20%20%20%5B41.93599137%2C%20-87.721569838%5D%2C%0A%20%20%20%20%20%20%20%20%20%20%20%20%20%20%20%20%7B%22bubblingMouseEvents%22%3A%20true%2C%20%22color%22%3A%20%22%233388ff%22%2C%20%22dashArray%22%3A%20null%2C%20%22dashOffset%22%3A%20null%2C%20%22fill%22%3A%20true%2C%20%22fillColor%22%3A%20%22%233388ff%22%2C%20%22fillOpacity%22%3A%200.2%2C%20%22fillRule%22%3A%20%22evenodd%22%2C%20%22lineCap%22%3A%20%22round%22%2C%20%22lineJoin%22%3A%20%22round%22%2C%20%22opacity%22%3A%201.0%2C%20%22radius%22%3A%2010%2C%20%22stroke%22%3A%20true%2C%20%22weight%22%3A%203%7D%0A%20%20%20%20%20%20%20%20%20%20%20%20%29.addTo%28map_97e094b0c34f4ae9984a381689c9ceb6%29%3B%0A%20%20%20%20%20%20%20%20%0A%20%20%20%20%0A%20%20%20%20%20%20%20%20var%20popup_00d6ba968a244fa7b6f3f729583b5a8a%20%3D%20L.popup%28%7B%22maxWidth%22%3A%20%22100%25%22%7D%29%3B%0A%0A%20%20%20%20%20%20%20%20%0A%20%20%20%20%20%20%20%20%20%20%20%20var%20html_539e008f00df47c990aa0b438232eb7f%20%3D%20%24%28%60%3Cdiv%20id%3D%22html_539e008f00df47c990aa0b438232eb7f%22%20style%3D%22width%3A%20100.0%25%3B%20height%3A%20100.0%25%3B%22%3ECommunity%20Index%20%3A%2030.0%3Cbr%3E%20%20%20%20%20%20%20%20%20%20%20%20%20%20%20%20%20Arrest%20%3A%20Y%3Cbr%3E%20%20%20%20%20%20%20%20%20%20%20%20%20%20%20%20%20Location%20Description%20%3A%20N%3Cbr%3E%3C/div%3E%60%29%5B0%5D%3B%0A%20%20%20%20%20%20%20%20%20%20%20%20popup_00d6ba968a244fa7b6f3f729583b5a8a.setContent%28html_539e008f00df47c990aa0b438232eb7f%29%3B%0A%20%20%20%20%20%20%20%20%0A%0A%20%20%20%20%20%20%20%20circle_marker_39c642a80aa242a5806e68567094889d.bindPopup%28popup_00d6ba968a244fa7b6f3f729583b5a8a%29%0A%20%20%20%20%20%20%20%20%3B%0A%0A%20%20%20%20%20%20%20%20%0A%20%20%20%20%0A%20%20%20%20%0A%20%20%20%20%20%20%20%20%20%20%20%20var%20circle_marker_dc4b843647fa49648286ed8995aaa779%20%3D%20L.circleMarker%28%0A%20%20%20%20%20%20%20%20%20%20%20%20%20%20%20%20%5B41.936296325%2C%20-87.731501307%5D%2C%0A%20%20%20%20%20%20%20%20%20%20%20%20%20%20%20%20%7B%22bubblingMouseEvents%22%3A%20true%2C%20%22color%22%3A%20%22%233388ff%22%2C%20%22dashArray%22%3A%20null%2C%20%22dashOffset%22%3A%20null%2C%20%22fill%22%3A%20true%2C%20%22fillColor%22%3A%20%22%233388ff%22%2C%20%22fillOpacity%22%3A%200.2%2C%20%22fillRule%22%3A%20%22evenodd%22%2C%20%22lineCap%22%3A%20%22round%22%2C%20%22lineJoin%22%3A%20%22round%22%2C%20%22opacity%22%3A%201.0%2C%20%22radius%22%3A%2010%2C%20%22stroke%22%3A%20true%2C%20%22weight%22%3A%203%7D%0A%20%20%20%20%20%20%20%20%20%20%20%20%29.addTo%28map_97e094b0c34f4ae9984a381689c9ceb6%29%3B%0A%20%20%20%20%20%20%20%20%0A%20%20%20%20%0A%20%20%20%20%20%20%20%20var%20popup_a437c1ac3401433eb0765d466f13f22c%20%3D%20L.popup%28%7B%22maxWidth%22%3A%20%22100%25%22%7D%29%3B%0A%0A%20%20%20%20%20%20%20%20%0A%20%20%20%20%20%20%20%20%20%20%20%20var%20html_09d71722e4c54b4ea597e86fbfc33269%20%3D%20%24%28%60%3Cdiv%20id%3D%22html_09d71722e4c54b4ea597e86fbfc33269%22%20style%3D%22width%3A%20100.0%25%3B%20height%3A%20100.0%25%3B%22%3ECommunity%20Index%20%3A%2031.0%3Cbr%3E%20%20%20%20%20%20%20%20%20%20%20%20%20%20%20%20%20Arrest%20%3A%20N%3Cbr%3E%20%20%20%20%20%20%20%20%20%20%20%20%20%20%20%20%20Location%20Description%20%3A%20N%3Cbr%3E%3C/div%3E%60%29%5B0%5D%3B%0A%20%20%20%20%20%20%20%20%20%20%20%20popup_a437c1ac3401433eb0765d466f13f22c.setContent%28html_09d71722e4c54b4ea597e86fbfc33269%29%3B%0A%20%20%20%20%20%20%20%20%0A%0A%20%20%20%20%20%20%20%20circle_marker_dc4b843647fa49648286ed8995aaa779.bindPopup%28popup_a437c1ac3401433eb0765d466f13f22c%29%0A%20%20%20%20%20%20%20%20%3B%0A%0A%20%20%20%20%20%20%20%20%0A%20%20%20%20%0A%20%20%20%20%0A%20%20%20%20%20%20%20%20%20%20%20%20var%20circle_marker_f01e0ca444c34919b88decd8f2609847%20%3D%20L.circleMarker%28%0A%20%20%20%20%20%20%20%20%20%20%20%20%20%20%20%20%5B41.918106256%2C%20-87.677634735%5D%2C%0A%20%20%20%20%20%20%20%20%20%20%20%20%20%20%20%20%7B%22bubblingMouseEvents%22%3A%20true%2C%20%22color%22%3A%20%22%233388ff%22%2C%20%22dashArray%22%3A%20null%2C%20%22dashOffset%22%3A%20null%2C%20%22fill%22%3A%20true%2C%20%22fillColor%22%3A%20%22%233388ff%22%2C%20%22fillOpacity%22%3A%200.2%2C%20%22fillRule%22%3A%20%22evenodd%22%2C%20%22lineCap%22%3A%20%22round%22%2C%20%22lineJoin%22%3A%20%22round%22%2C%20%22opacity%22%3A%201.0%2C%20%22radius%22%3A%2010%2C%20%22stroke%22%3A%20true%2C%20%22weight%22%3A%203%7D%0A%20%20%20%20%20%20%20%20%20%20%20%20%29.addTo%28map_97e094b0c34f4ae9984a381689c9ceb6%29%3B%0A%20%20%20%20%20%20%20%20%0A%20%20%20%20%0A%20%20%20%20%20%20%20%20var%20popup_b035bee76cba46fba1d718b8aba53a28%20%3D%20L.popup%28%7B%22maxWidth%22%3A%20%22100%25%22%7D%29%3B%0A%0A%20%20%20%20%20%20%20%20%0A%20%20%20%20%20%20%20%20%20%20%20%20var%20html_cb604b5f34404ea9be6722aa809b7023%20%3D%20%24%28%60%3Cdiv%20id%3D%22html_cb604b5f34404ea9be6722aa809b7023%22%20style%3D%22width%3A%20100.0%25%3B%20height%3A%20100.0%25%3B%22%3ECommunity%20Index%20%3A%2032.0%3Cbr%3E%20%20%20%20%20%20%20%20%20%20%20%20%20%20%20%20%20Arrest%20%3A%20N%3Cbr%3E%20%20%20%20%20%20%20%20%20%20%20%20%20%20%20%20%20Location%20Description%20%3A%20N%3Cbr%3E%3C/div%3E%60%29%5B0%5D%3B%0A%20%20%20%20%20%20%20%20%20%20%20%20popup_b035bee76cba46fba1d718b8aba53a28.setContent%28html_cb604b5f34404ea9be6722aa809b7023%29%3B%0A%20%20%20%20%20%20%20%20%0A%0A%20%20%20%20%20%20%20%20circle_marker_f01e0ca444c34919b88decd8f2609847.bindPopup%28popup_b035bee76cba46fba1d718b8aba53a28%29%0A%20%20%20%20%20%20%20%20%3B%0A%0A%20%20%20%20%20%20%20%20%0A%20%20%20%20%0A%20%20%20%20%0A%20%20%20%20%20%20%20%20%20%20%20%20var%20circle_marker_2e2179ceace14eb4aabb81a5d4390d4b%20%3D%20L.circleMarker%28%0A%20%20%20%20%20%20%20%20%20%20%20%20%20%20%20%20%5B41.959339811%2C%20-87.71147478399999%5D%2C%0A%20%20%20%20%20%20%20%20%20%20%20%20%20%20%20%20%7B%22bubblingMouseEvents%22%3A%20true%2C%20%22color%22%3A%20%22%233388ff%22%2C%20%22dashArray%22%3A%20null%2C%20%22dashOffset%22%3A%20null%2C%20%22fill%22%3A%20true%2C%20%22fillColor%22%3A%20%22%233388ff%22%2C%20%22fillOpacity%22%3A%200.2%2C%20%22fillRule%22%3A%20%22evenodd%22%2C%20%22lineCap%22%3A%20%22round%22%2C%20%22lineJoin%22%3A%20%22round%22%2C%20%22opacity%22%3A%201.0%2C%20%22radius%22%3A%2010%2C%20%22stroke%22%3A%20true%2C%20%22weight%22%3A%203%7D%0A%20%20%20%20%20%20%20%20%20%20%20%20%29.addTo%28map_97e094b0c34f4ae9984a381689c9ceb6%29%3B%0A%20%20%20%20%20%20%20%20%0A%20%20%20%20%0A%20%20%20%20%20%20%20%20var%20popup_109169ecee4b4c85a1f0bc19e53a7b24%20%3D%20L.popup%28%7B%22maxWidth%22%3A%20%22100%25%22%7D%29%3B%0A%0A%20%20%20%20%20%20%20%20%0A%20%20%20%20%20%20%20%20%20%20%20%20var%20html_cdf26caa63414404b006b98257fd54c1%20%3D%20%24%28%60%3Cdiv%20id%3D%22html_cdf26caa63414404b006b98257fd54c1%22%20style%3D%22width%3A%20100.0%25%3B%20height%3A%20100.0%25%3B%22%3ECommunity%20Index%20%3A%2033.0%3Cbr%3E%20%20%20%20%20%20%20%20%20%20%20%20%20%20%20%20%20Arrest%20%3A%20N%3Cbr%3E%20%20%20%20%20%20%20%20%20%20%20%20%20%20%20%20%20Location%20Description%20%3A%20N%3Cbr%3E%3C/div%3E%60%29%5B0%5D%3B%0A%20%20%20%20%20%20%20%20%20%20%20%20popup_109169ecee4b4c85a1f0bc19e53a7b24.setContent%28html_cdf26caa63414404b006b98257fd54c1%29%3B%0A%20%20%20%20%20%20%20%20%0A%0A%20%20%20%20%20%20%20%20circle_marker_2e2179ceace14eb4aabb81a5d4390d4b.bindPopup%28popup_109169ecee4b4c85a1f0bc19e53a7b24%29%0A%20%20%20%20%20%20%20%20%3B%0A%0A%20%20%20%20%20%20%20%20%0A%20%20%20%20%0A%20%20%20%20%0A%20%20%20%20%20%20%20%20%20%20%20%20var%20circle_marker_6e8f19e7de0e4eb5a707f59d2e213961%20%3D%20L.circleMarker%28%0A%20%20%20%20%20%20%20%20%20%20%20%20%20%20%20%20%5B41.682234625%2C%20-87.653007122%5D%2C%0A%20%20%20%20%20%20%20%20%20%20%20%20%20%20%20%20%7B%22bubblingMouseEvents%22%3A%20true%2C%20%22color%22%3A%20%22%233388ff%22%2C%20%22dashArray%22%3A%20null%2C%20%22dashOffset%22%3A%20null%2C%20%22fill%22%3A%20true%2C%20%22fillColor%22%3A%20%22%233388ff%22%2C%20%22fillOpacity%22%3A%200.2%2C%20%22fillRule%22%3A%20%22evenodd%22%2C%20%22lineCap%22%3A%20%22round%22%2C%20%22lineJoin%22%3A%20%22round%22%2C%20%22opacity%22%3A%201.0%2C%20%22radius%22%3A%2010%2C%20%22stroke%22%3A%20true%2C%20%22weight%22%3A%203%7D%0A%20%20%20%20%20%20%20%20%20%20%20%20%29.addTo%28map_97e094b0c34f4ae9984a381689c9ceb6%29%3B%0A%20%20%20%20%20%20%20%20%0A%20%20%20%20%0A%20%20%20%20%20%20%20%20var%20popup_0b5888c2b9744e899380bf9fbb2a4cdc%20%3D%20L.popup%28%7B%22maxWidth%22%3A%20%22100%25%22%7D%29%3B%0A%0A%20%20%20%20%20%20%20%20%0A%20%20%20%20%20%20%20%20%20%20%20%20var%20html_bd433513004b416dac827997b53395a5%20%3D%20%24%28%60%3Cdiv%20id%3D%22html_bd433513004b416dac827997b53395a5%22%20style%3D%22width%3A%20100.0%25%3B%20height%3A%20100.0%25%3B%22%3ECommunity%20Index%20%3A%2034.0%3Cbr%3E%20%20%20%20%20%20%20%20%20%20%20%20%20%20%20%20%20Arrest%20%3A%20N%3Cbr%3E%20%20%20%20%20%20%20%20%20%20%20%20%20%20%20%20%20Location%20Description%20%3A%20N%3Cbr%3E%3C/div%3E%60%29%5B0%5D%3B%0A%20%20%20%20%20%20%20%20%20%20%20%20popup_0b5888c2b9744e899380bf9fbb2a4cdc.setContent%28html_bd433513004b416dac827997b53395a5%29%3B%0A%20%20%20%20%20%20%20%20%0A%0A%20%20%20%20%20%20%20%20circle_marker_6e8f19e7de0e4eb5a707f59d2e213961.bindPopup%28popup_0b5888c2b9744e899380bf9fbb2a4cdc%29%0A%20%20%20%20%20%20%20%20%3B%0A%0A%20%20%20%20%20%20%20%20%0A%20%20%20%20%0A%20%20%20%20%0A%20%20%20%20%20%20%20%20%20%20%20%20var%20circle_marker_197d3886461c448e882110c059103d70%20%3D%20L.circleMarker%28%0A%20%20%20%20%20%20%20%20%20%20%20%20%20%20%20%20%5B41.95822425%2C%20-87.720397651%5D%2C%0A%20%20%20%20%20%20%20%20%20%20%20%20%20%20%20%20%7B%22bubblingMouseEvents%22%3A%20true%2C%20%22color%22%3A%20%22%233388ff%22%2C%20%22dashArray%22%3A%20null%2C%20%22dashOffset%22%3A%20null%2C%20%22fill%22%3A%20true%2C%20%22fillColor%22%3A%20%22%233388ff%22%2C%20%22fillOpacity%22%3A%200.2%2C%20%22fillRule%22%3A%20%22evenodd%22%2C%20%22lineCap%22%3A%20%22round%22%2C%20%22lineJoin%22%3A%20%22round%22%2C%20%22opacity%22%3A%201.0%2C%20%22radius%22%3A%2010%2C%20%22stroke%22%3A%20true%2C%20%22weight%22%3A%203%7D%0A%20%20%20%20%20%20%20%20%20%20%20%20%29.addTo%28map_97e094b0c34f4ae9984a381689c9ceb6%29%3B%0A%20%20%20%20%20%20%20%20%0A%20%20%20%20%0A%20%20%20%20%20%20%20%20var%20popup_9355190acc614374ba2d0a77e9d4874b%20%3D%20L.popup%28%7B%22maxWidth%22%3A%20%22100%25%22%7D%29%3B%0A%0A%20%20%20%20%20%20%20%20%0A%20%20%20%20%20%20%20%20%20%20%20%20var%20html_b7ccd6789d994f4db2570e86fe4d4146%20%3D%20%24%28%60%3Cdiv%20id%3D%22html_b7ccd6789d994f4db2570e86fe4d4146%22%20style%3D%22width%3A%20100.0%25%3B%20height%3A%20100.0%25%3B%22%3ECommunity%20Index%20%3A%2035.0%3Cbr%3E%20%20%20%20%20%20%20%20%20%20%20%20%20%20%20%20%20Arrest%20%3A%20N%3Cbr%3E%20%20%20%20%20%20%20%20%20%20%20%20%20%20%20%20%20Location%20Description%20%3A%20N%3Cbr%3E%3C/div%3E%60%29%5B0%5D%3B%0A%20%20%20%20%20%20%20%20%20%20%20%20popup_9355190acc614374ba2d0a77e9d4874b.setContent%28html_b7ccd6789d994f4db2570e86fe4d4146%29%3B%0A%20%20%20%20%20%20%20%20%0A%0A%20%20%20%20%20%20%20%20circle_marker_197d3886461c448e882110c059103d70.bindPopup%28popup_9355190acc614374ba2d0a77e9d4874b%29%0A%20%20%20%20%20%20%20%20%3B%0A%0A%20%20%20%20%20%20%20%20%0A%20%20%20%20%0A%20%20%20%20%0A%20%20%20%20%20%20%20%20%20%20%20%20var%20circle_marker_057ef72962ea4352bf3ec92f242e29ba%20%3D%20L.circleMarker%28%0A%20%20%20%20%20%20%20%20%20%20%20%20%20%20%20%20%5B41.940490925%2C%20-87.799485474%5D%2C%0A%20%20%20%20%20%20%20%20%20%20%20%20%20%20%20%20%7B%22bubblingMouseEvents%22%3A%20true%2C%20%22color%22%3A%20%22%233388ff%22%2C%20%22dashArray%22%3A%20null%2C%20%22dashOffset%22%3A%20null%2C%20%22fill%22%3A%20true%2C%20%22fillColor%22%3A%20%22%233388ff%22%2C%20%22fillOpacity%22%3A%200.2%2C%20%22fillRule%22%3A%20%22evenodd%22%2C%20%22lineCap%22%3A%20%22round%22%2C%20%22lineJoin%22%3A%20%22round%22%2C%20%22opacity%22%3A%201.0%2C%20%22radius%22%3A%2010%2C%20%22stroke%22%3A%20true%2C%20%22weight%22%3A%203%7D%0A%20%20%20%20%20%20%20%20%20%20%20%20%29.addTo%28map_97e094b0c34f4ae9984a381689c9ceb6%29%3B%0A%20%20%20%20%20%20%20%20%0A%20%20%20%20%0A%20%20%20%20%20%20%20%20var%20popup_a13192534a124d7788afc32bebd473cb%20%3D%20L.popup%28%7B%22maxWidth%22%3A%20%22100%25%22%7D%29%3B%0A%0A%20%20%20%20%20%20%20%20%0A%20%20%20%20%20%20%20%20%20%20%20%20var%20html_42f583dcf24b4ba4a6783ba6fd5f5954%20%3D%20%24%28%60%3Cdiv%20id%3D%22html_42f583dcf24b4ba4a6783ba6fd5f5954%22%20style%3D%22width%3A%20100.0%25%3B%20height%3A%20100.0%25%3B%22%3ECommunity%20Index%20%3A%2036.0%3Cbr%3E%20%20%20%20%20%20%20%20%20%20%20%20%20%20%20%20%20Arrest%20%3A%20N%3Cbr%3E%20%20%20%20%20%20%20%20%20%20%20%20%20%20%20%20%20Location%20Description%20%3A%20N%3Cbr%3E%3C/div%3E%60%29%5B0%5D%3B%0A%20%20%20%20%20%20%20%20%20%20%20%20popup_a13192534a124d7788afc32bebd473cb.setContent%28html_42f583dcf24b4ba4a6783ba6fd5f5954%29%3B%0A%20%20%20%20%20%20%20%20%0A%0A%20%20%20%20%20%20%20%20circle_marker_057ef72962ea4352bf3ec92f242e29ba.bindPopup%28popup_a13192534a124d7788afc32bebd473cb%29%0A%20%20%20%20%20%20%20%20%3B%0A%0A%20%20%20%20%20%20%20%20%0A%20%20%20%20%0A%20%20%20%20%0A%20%20%20%20%20%20%20%20%20%20%20%20var%20circle_marker_88c0a544fd2e4a29954ca3d2298bc275%20%3D%20L.circleMarker%28%0A%20%20%20%20%20%20%20%20%20%20%20%20%20%20%20%20%5B41.901352928%2C%20-87.725041269%5D%2C%0A%20%20%20%20%20%20%20%20%20%20%20%20%20%20%20%20%7B%22bubblingMouseEvents%22%3A%20true%2C%20%22color%22%3A%20%22%233388ff%22%2C%20%22dashArray%22%3A%20null%2C%20%22dashOffset%22%3A%20null%2C%20%22fill%22%3A%20true%2C%20%22fillColor%22%3A%20%22%233388ff%22%2C%20%22fillOpacity%22%3A%200.2%2C%20%22fillRule%22%3A%20%22evenodd%22%2C%20%22lineCap%22%3A%20%22round%22%2C%20%22lineJoin%22%3A%20%22round%22%2C%20%22opacity%22%3A%201.0%2C%20%22radius%22%3A%2010%2C%20%22stroke%22%3A%20true%2C%20%22weight%22%3A%203%7D%0A%20%20%20%20%20%20%20%20%20%20%20%20%29.addTo%28map_97e094b0c34f4ae9984a381689c9ceb6%29%3B%0A%20%20%20%20%20%20%20%20%0A%20%20%20%20%0A%20%20%20%20%20%20%20%20var%20popup_f6f58ffab2f54d948abddd4529fe823f%20%3D%20L.popup%28%7B%22maxWidth%22%3A%20%22100%25%22%7D%29%3B%0A%0A%20%20%20%20%20%20%20%20%0A%20%20%20%20%20%20%20%20%20%20%20%20var%20html_8827badacab6464eba601e7f89594f98%20%3D%20%24%28%60%3Cdiv%20id%3D%22html_8827badacab6464eba601e7f89594f98%22%20style%3D%22width%3A%20100.0%25%3B%20height%3A%20100.0%25%3B%22%3ECommunity%20Index%20%3A%2037.0%3Cbr%3E%20%20%20%20%20%20%20%20%20%20%20%20%20%20%20%20%20Arrest%20%3A%20N%3Cbr%3E%20%20%20%20%20%20%20%20%20%20%20%20%20%20%20%20%20Location%20Description%20%3A%20Y%3Cbr%3E%3C/div%3E%60%29%5B0%5D%3B%0A%20%20%20%20%20%20%20%20%20%20%20%20popup_f6f58ffab2f54d948abddd4529fe823f.setContent%28html_8827badacab6464eba601e7f89594f98%29%3B%0A%20%20%20%20%20%20%20%20%0A%0A%20%20%20%20%20%20%20%20circle_marker_88c0a544fd2e4a29954ca3d2298bc275.bindPopup%28popup_f6f58ffab2f54d948abddd4529fe823f%29%0A%20%20%20%20%20%20%20%20%3B%0A%0A%20%20%20%20%20%20%20%20%0A%20%20%20%20%0A%20%20%20%20%0A%20%20%20%20%20%20%20%20%20%20%20%20var%20circle_marker_20d129fa3ec84f24b89cd19dea991766%20%3D%20L.circleMarker%28%0A%20%20%20%20%20%20%20%20%20%20%20%20%20%20%20%20%5B41.964730769%2C%20-87.78038728799999%5D%2C%0A%20%20%20%20%20%20%20%20%20%20%20%20%20%20%20%20%7B%22bubblingMouseEvents%22%3A%20true%2C%20%22color%22%3A%20%22%233388ff%22%2C%20%22dashArray%22%3A%20null%2C%20%22dashOffset%22%3A%20null%2C%20%22fill%22%3A%20true%2C%20%22fillColor%22%3A%20%22%233388ff%22%2C%20%22fillOpacity%22%3A%200.2%2C%20%22fillRule%22%3A%20%22evenodd%22%2C%20%22lineCap%22%3A%20%22round%22%2C%20%22lineJoin%22%3A%20%22round%22%2C%20%22opacity%22%3A%201.0%2C%20%22radius%22%3A%2010%2C%20%22stroke%22%3A%20true%2C%20%22weight%22%3A%203%7D%0A%20%20%20%20%20%20%20%20%20%20%20%20%29.addTo%28map_97e094b0c34f4ae9984a381689c9ceb6%29%3B%0A%20%20%20%20%20%20%20%20%0A%20%20%20%20%0A%20%20%20%20%20%20%20%20var%20popup_181a245e3a75423e899053356a07a3c0%20%3D%20L.popup%28%7B%22maxWidth%22%3A%20%22100%25%22%7D%29%3B%0A%0A%20%20%20%20%20%20%20%20%0A%20%20%20%20%20%20%20%20%20%20%20%20var%20html_ddc8e298ff5441aebf9073ff4ba72f9e%20%3D%20%24%28%60%3Cdiv%20id%3D%22html_ddc8e298ff5441aebf9073ff4ba72f9e%22%20style%3D%22width%3A%20100.0%25%3B%20height%3A%20100.0%25%3B%22%3ECommunity%20Index%20%3A%2038.0%3Cbr%3E%20%20%20%20%20%20%20%20%20%20%20%20%20%20%20%20%20Arrest%20%3A%20N%3Cbr%3E%20%20%20%20%20%20%20%20%20%20%20%20%20%20%20%20%20Location%20Description%20%3A%20N%3Cbr%3E%3C/div%3E%60%29%5B0%5D%3B%0A%20%20%20%20%20%20%20%20%20%20%20%20popup_181a245e3a75423e899053356a07a3c0.setContent%28html_ddc8e298ff5441aebf9073ff4ba72f9e%29%3B%0A%20%20%20%20%20%20%20%20%0A%0A%20%20%20%20%20%20%20%20circle_marker_20d129fa3ec84f24b89cd19dea991766.bindPopup%28popup_181a245e3a75423e899053356a07a3c0%29%0A%20%20%20%20%20%20%20%20%3B%0A%0A%20%20%20%20%20%20%20%20%0A%20%20%20%20%0A%20%20%20%20%0A%20%20%20%20%20%20%20%20%20%20%20%20var%20circle_marker_6e484c3c3c7549899e204be4ab353dee%20%3D%20L.circleMarker%28%0A%20%20%20%20%20%20%20%20%20%20%20%20%20%20%20%20%5B41.976154891%2C%20-87.714768176%5D%2C%0A%20%20%20%20%20%20%20%20%20%20%20%20%20%20%20%20%7B%22bubblingMouseEvents%22%3A%20true%2C%20%22color%22%3A%20%22%233388ff%22%2C%20%22dashArray%22%3A%20null%2C%20%22dashOffset%22%3A%20null%2C%20%22fill%22%3A%20true%2C%20%22fillColor%22%3A%20%22%233388ff%22%2C%20%22fillOpacity%22%3A%200.2%2C%20%22fillRule%22%3A%20%22evenodd%22%2C%20%22lineCap%22%3A%20%22round%22%2C%20%22lineJoin%22%3A%20%22round%22%2C%20%22opacity%22%3A%201.0%2C%20%22radius%22%3A%2010%2C%20%22stroke%22%3A%20true%2C%20%22weight%22%3A%203%7D%0A%20%20%20%20%20%20%20%20%20%20%20%20%29.addTo%28map_97e094b0c34f4ae9984a381689c9ceb6%29%3B%0A%20%20%20%20%20%20%20%20%0A%20%20%20%20%0A%20%20%20%20%20%20%20%20var%20popup_f9a129ca4fcf4c75aa19854beea47e5f%20%3D%20L.popup%28%7B%22maxWidth%22%3A%20%22100%25%22%7D%29%3B%0A%0A%20%20%20%20%20%20%20%20%0A%20%20%20%20%20%20%20%20%20%20%20%20var%20html_9ec52997779844b9be9328c25c72c291%20%3D%20%24%28%60%3Cdiv%20id%3D%22html_9ec52997779844b9be9328c25c72c291%22%20style%3D%22width%3A%20100.0%25%3B%20height%3A%20100.0%25%3B%22%3ECommunity%20Index%20%3A%2039.0%3Cbr%3E%20%20%20%20%20%20%20%20%20%20%20%20%20%20%20%20%20Arrest%20%3A%20N%3Cbr%3E%20%20%20%20%20%20%20%20%20%20%20%20%20%20%20%20%20Location%20Description%20%3A%20N%3Cbr%3E%3C/div%3E%60%29%5B0%5D%3B%0A%20%20%20%20%20%20%20%20%20%20%20%20popup_f9a129ca4fcf4c75aa19854beea47e5f.setContent%28html_9ec52997779844b9be9328c25c72c291%29%3B%0A%20%20%20%20%20%20%20%20%0A%0A%20%20%20%20%20%20%20%20circle_marker_6e484c3c3c7549899e204be4ab353dee.bindPopup%28popup_f9a129ca4fcf4c75aa19854beea47e5f%29%0A%20%20%20%20%20%20%20%20%3B%0A%0A%20%20%20%20%20%20%20%20%0A%20%20%20%20%0A%20%20%20%20%0A%20%20%20%20%20%20%20%20%20%20%20%20var%20circle_marker_0ba6cecc381143b8823548b15df53ed1%20%3D%20L.circleMarker%28%0A%20%20%20%20%20%20%20%20%20%20%20%20%20%20%20%20%5B41.979882033%2C%20-87.70878139%5D%2C%0A%20%20%20%20%20%20%20%20%20%20%20%20%20%20%20%20%7B%22bubblingMouseEvents%22%3A%20true%2C%20%22color%22%3A%20%22%233388ff%22%2C%20%22dashArray%22%3A%20null%2C%20%22dashOffset%22%3A%20null%2C%20%22fill%22%3A%20true%2C%20%22fillColor%22%3A%20%22%233388ff%22%2C%20%22fillOpacity%22%3A%200.2%2C%20%22fillRule%22%3A%20%22evenodd%22%2C%20%22lineCap%22%3A%20%22round%22%2C%20%22lineJoin%22%3A%20%22round%22%2C%20%22opacity%22%3A%201.0%2C%20%22radius%22%3A%2010%2C%20%22stroke%22%3A%20true%2C%20%22weight%22%3A%203%7D%0A%20%20%20%20%20%20%20%20%20%20%20%20%29.addTo%28map_97e094b0c34f4ae9984a381689c9ceb6%29%3B%0A%20%20%20%20%20%20%20%20%0A%20%20%20%20%0A%20%20%20%20%20%20%20%20var%20popup_071b0d676e7b439599b2ec398f3102c6%20%3D%20L.popup%28%7B%22maxWidth%22%3A%20%22100%25%22%7D%29%3B%0A%0A%20%20%20%20%20%20%20%20%0A%20%20%20%20%20%20%20%20%20%20%20%20var%20html_aa91f7cee0254e928e4ee34244c13929%20%3D%20%24%28%60%3Cdiv%20id%3D%22html_aa91f7cee0254e928e4ee34244c13929%22%20style%3D%22width%3A%20100.0%25%3B%20height%3A%20100.0%25%3B%22%3ECommunity%20Index%20%3A%2040.0%3Cbr%3E%20%20%20%20%20%20%20%20%20%20%20%20%20%20%20%20%20Arrest%20%3A%20N%3Cbr%3E%20%20%20%20%20%20%20%20%20%20%20%20%20%20%20%20%20Location%20Description%20%3A%20N%3Cbr%3E%3C/div%3E%60%29%5B0%5D%3B%0A%20%20%20%20%20%20%20%20%20%20%20%20popup_071b0d676e7b439599b2ec398f3102c6.setContent%28html_aa91f7cee0254e928e4ee34244c13929%29%3B%0A%20%20%20%20%20%20%20%20%0A%0A%20%20%20%20%20%20%20%20circle_marker_0ba6cecc381143b8823548b15df53ed1.bindPopup%28popup_071b0d676e7b439599b2ec398f3102c6%29%0A%20%20%20%20%20%20%20%20%3B%0A%0A%20%20%20%20%20%20%20%20%0A%20%20%20%20%0A%20%20%20%20%0A%20%20%20%20%20%20%20%20%20%20%20%20var%20circle_marker_41866143357c4adb960fceceb32a34ff%20%3D%20L.circleMarker%28%0A%20%20%20%20%20%20%20%20%20%20%20%20%20%20%20%20%5B41.992585616%2C%20-87.798590553%5D%2C%0A%20%20%20%20%20%20%20%20%20%20%20%20%20%20%20%20%7B%22bubblingMouseEvents%22%3A%20true%2C%20%22color%22%3A%20%22%233388ff%22%2C%20%22dashArray%22%3A%20null%2C%20%22dashOffset%22%3A%20null%2C%20%22fill%22%3A%20true%2C%20%22fillColor%22%3A%20%22%233388ff%22%2C%20%22fillOpacity%22%3A%200.2%2C%20%22fillRule%22%3A%20%22evenodd%22%2C%20%22lineCap%22%3A%20%22round%22%2C%20%22lineJoin%22%3A%20%22round%22%2C%20%22opacity%22%3A%201.0%2C%20%22radius%22%3A%2010%2C%20%22stroke%22%3A%20true%2C%20%22weight%22%3A%203%7D%0A%20%20%20%20%20%20%20%20%20%20%20%20%29.addTo%28map_97e094b0c34f4ae9984a381689c9ceb6%29%3B%0A%20%20%20%20%20%20%20%20%0A%20%20%20%20%0A%20%20%20%20%20%20%20%20var%20popup_804a56dc96604486989994b0a2513aba%20%3D%20L.popup%28%7B%22maxWidth%22%3A%20%22100%25%22%7D%29%3B%0A%0A%20%20%20%20%20%20%20%20%0A%20%20%20%20%20%20%20%20%20%20%20%20var%20html_b84570082e75486f94790b6183e87caa%20%3D%20%24%28%60%3Cdiv%20id%3D%22html_b84570082e75486f94790b6183e87caa%22%20style%3D%22width%3A%20100.0%25%3B%20height%3A%20100.0%25%3B%22%3ECommunity%20Index%20%3A%2041.0%3Cbr%3E%20%20%20%20%20%20%20%20%20%20%20%20%20%20%20%20%20Arrest%20%3A%20Y%3Cbr%3E%20%20%20%20%20%20%20%20%20%20%20%20%20%20%20%20%20Location%20Description%20%3A%20Y%3Cbr%3E%3C/div%3E%60%29%5B0%5D%3B%0A%20%20%20%20%20%20%20%20%20%20%20%20popup_804a56dc96604486989994b0a2513aba.setContent%28html_b84570082e75486f94790b6183e87caa%29%3B%0A%20%20%20%20%20%20%20%20%0A%0A%20%20%20%20%20%20%20%20circle_marker_41866143357c4adb960fceceb32a34ff.bindPopup%28popup_804a56dc96604486989994b0a2513aba%29%0A%20%20%20%20%20%20%20%20%3B%0A%0A%20%20%20%20%20%20%20%20%0A%20%20%20%20%0A%20%20%20%20%0A%20%20%20%20%20%20%20%20%20%20%20%20var%20circle_marker_be3941f5f8da49809fb8c6d30c1cf8b4%20%3D%20L.circleMarker%28%0A%20%20%20%20%20%20%20%20%20%20%20%20%20%20%20%20%5B41.88171846%2C%20-87.62776042600001%5D%2C%0A%20%20%20%20%20%20%20%20%20%20%20%20%20%20%20%20%7B%22bubblingMouseEvents%22%3A%20true%2C%20%22color%22%3A%20%22%233388ff%22%2C%20%22dashArray%22%3A%20null%2C%20%22dashOffset%22%3A%20null%2C%20%22fill%22%3A%20true%2C%20%22fillColor%22%3A%20%22%233388ff%22%2C%20%22fillOpacity%22%3A%200.2%2C%20%22fillRule%22%3A%20%22evenodd%22%2C%20%22lineCap%22%3A%20%22round%22%2C%20%22lineJoin%22%3A%20%22round%22%2C%20%22opacity%22%3A%201.0%2C%20%22radius%22%3A%2010%2C%20%22stroke%22%3A%20true%2C%20%22weight%22%3A%203%7D%0A%20%20%20%20%20%20%20%20%20%20%20%20%29.addTo%28map_97e094b0c34f4ae9984a381689c9ceb6%29%3B%0A%20%20%20%20%20%20%20%20%0A%20%20%20%20%0A%20%20%20%20%20%20%20%20var%20popup_379cdcc9deb144aab5dd70ab862ada49%20%3D%20L.popup%28%7B%22maxWidth%22%3A%20%22100%25%22%7D%29%3B%0A%0A%20%20%20%20%20%20%20%20%0A%20%20%20%20%20%20%20%20%20%20%20%20var%20html_b0b2ff9999ca48619b887495e5367cd9%20%3D%20%24%28%60%3Cdiv%20id%3D%22html_b0b2ff9999ca48619b887495e5367cd9%22%20style%3D%22width%3A%20100.0%25%3B%20height%3A%20100.0%25%3B%22%3ECommunity%20Index%20%3A%2042.0%3Cbr%3E%20%20%20%20%20%20%20%20%20%20%20%20%20%20%20%20%20Arrest%20%3A%20N%3Cbr%3E%20%20%20%20%20%20%20%20%20%20%20%20%20%20%20%20%20Location%20Description%20%3A%20N%3Cbr%3E%3C/div%3E%60%29%5B0%5D%3B%0A%20%20%20%20%20%20%20%20%20%20%20%20popup_379cdcc9deb144aab5dd70ab862ada49.setContent%28html_b0b2ff9999ca48619b887495e5367cd9%29%3B%0A%20%20%20%20%20%20%20%20%0A%0A%20%20%20%20%20%20%20%20circle_marker_be3941f5f8da49809fb8c6d30c1cf8b4.bindPopup%28popup_379cdcc9deb144aab5dd70ab862ada49%29%0A%20%20%20%20%20%20%20%20%3B%0A%0A%20%20%20%20%20%20%20%20%0A%20%20%20%20%0A%20%20%20%20%0A%20%20%20%20%20%20%20%20%20%20%20%20var%20circle_marker_26f7dd4468984312a5361ba9633f1dd6%20%3D%20L.circleMarker%28%0A%20%20%20%20%20%20%20%20%20%20%20%20%20%20%20%20%5B41.915454333%2C%20-87.63872727399999%5D%2C%0A%20%20%20%20%20%20%20%20%20%20%20%20%20%20%20%20%7B%22bubblingMouseEvents%22%3A%20true%2C%20%22color%22%3A%20%22%233388ff%22%2C%20%22dashArray%22%3A%20null%2C%20%22dashOffset%22%3A%20null%2C%20%22fill%22%3A%20true%2C%20%22fillColor%22%3A%20%22%233388ff%22%2C%20%22fillOpacity%22%3A%200.2%2C%20%22fillRule%22%3A%20%22evenodd%22%2C%20%22lineCap%22%3A%20%22round%22%2C%20%22lineJoin%22%3A%20%22round%22%2C%20%22opacity%22%3A%201.0%2C%20%22radius%22%3A%2010%2C%20%22stroke%22%3A%20true%2C%20%22weight%22%3A%203%7D%0A%20%20%20%20%20%20%20%20%20%20%20%20%29.addTo%28map_97e094b0c34f4ae9984a381689c9ceb6%29%3B%0A%20%20%20%20%20%20%20%20%0A%20%20%20%20%0A%20%20%20%20%20%20%20%20var%20popup_d89db4d2e06c4cb0b4b9067809cdf1c3%20%3D%20L.popup%28%7B%22maxWidth%22%3A%20%22100%25%22%7D%29%3B%0A%0A%20%20%20%20%20%20%20%20%0A%20%20%20%20%20%20%20%20%20%20%20%20var%20html_940350fb5c50462aa10da47117ca9e85%20%3D%20%24%28%60%3Cdiv%20id%3D%22html_940350fb5c50462aa10da47117ca9e85%22%20style%3D%22width%3A%20100.0%25%3B%20height%3A%20100.0%25%3B%22%3ECommunity%20Index%20%3A%2043.0%3Cbr%3E%20%20%20%20%20%20%20%20%20%20%20%20%20%20%20%20%20Arrest%20%3A%20N%3Cbr%3E%20%20%20%20%20%20%20%20%20%20%20%20%20%20%20%20%20Location%20Description%20%3A%20N%3Cbr%3E%3C/div%3E%60%29%5B0%5D%3B%0A%20%20%20%20%20%20%20%20%20%20%20%20popup_d89db4d2e06c4cb0b4b9067809cdf1c3.setContent%28html_940350fb5c50462aa10da47117ca9e85%29%3B%0A%20%20%20%20%20%20%20%20%0A%0A%20%20%20%20%20%20%20%20circle_marker_26f7dd4468984312a5361ba9633f1dd6.bindPopup%28popup_d89db4d2e06c4cb0b4b9067809cdf1c3%29%0A%20%20%20%20%20%20%20%20%3B%0A%0A%20%20%20%20%20%20%20%20%0A%20%20%20%20%0A%20%20%20%20%0A%20%20%20%20%20%20%20%20%20%20%20%20var%20circle_marker_918599d62b144bc2ba4fcad33b6017dd%20%3D%20L.circleMarker%28%0A%20%20%20%20%20%20%20%20%20%20%20%20%20%20%20%20%5B41.942445475%2C%20-87.66726998600001%5D%2C%0A%20%20%20%20%20%20%20%20%20%20%20%20%20%20%20%20%7B%22bubblingMouseEvents%22%3A%20true%2C%20%22color%22%3A%20%22%233388ff%22%2C%20%22dashArray%22%3A%20null%2C%20%22dashOffset%22%3A%20null%2C%20%22fill%22%3A%20true%2C%20%22fillColor%22%3A%20%22%233388ff%22%2C%20%22fillOpacity%22%3A%200.2%2C%20%22fillRule%22%3A%20%22evenodd%22%2C%20%22lineCap%22%3A%20%22round%22%2C%20%22lineJoin%22%3A%20%22round%22%2C%20%22opacity%22%3A%201.0%2C%20%22radius%22%3A%2010%2C%20%22stroke%22%3A%20true%2C%20%22weight%22%3A%203%7D%0A%20%20%20%20%20%20%20%20%20%20%20%20%29.addTo%28map_97e094b0c34f4ae9984a381689c9ceb6%29%3B%0A%20%20%20%20%20%20%20%20%0A%20%20%20%20%0A%20%20%20%20%20%20%20%20var%20popup_987501708f854154abedf7f6d9b19b88%20%3D%20L.popup%28%7B%22maxWidth%22%3A%20%22100%25%22%7D%29%3B%0A%0A%20%20%20%20%20%20%20%20%0A%20%20%20%20%20%20%20%20%20%20%20%20var%20html_42830aa5d2a84d41b90a2339417c08f3%20%3D%20%24%28%60%3Cdiv%20id%3D%22html_42830aa5d2a84d41b90a2339417c08f3%22%20style%3D%22width%3A%20100.0%25%3B%20height%3A%20100.0%25%3B%22%3ECommunity%20Index%20%3A%2044.0%3Cbr%3E%20%20%20%20%20%20%20%20%20%20%20%20%20%20%20%20%20Arrest%20%3A%20N%3Cbr%3E%20%20%20%20%20%20%20%20%20%20%20%20%20%20%20%20%20Location%20Description%20%3A%20N%3Cbr%3E%3C/div%3E%60%29%5B0%5D%3B%0A%20%20%20%20%20%20%20%20%20%20%20%20popup_987501708f854154abedf7f6d9b19b88.setContent%28html_42830aa5d2a84d41b90a2339417c08f3%29%3B%0A%20%20%20%20%20%20%20%20%0A%0A%20%20%20%20%20%20%20%20circle_marker_918599d62b144bc2ba4fcad33b6017dd.bindPopup%28popup_987501708f854154abedf7f6d9b19b88%29%0A%20%20%20%20%20%20%20%20%3B%0A%0A%20%20%20%20%20%20%20%20%0A%20%20%20%20%0A%20%20%20%20%0A%20%20%20%20%20%20%20%20%20%20%20%20var%20circle_marker_9b57ef47721140e3a9516eaa6661c062%20%3D%20L.circleMarker%28%0A%20%20%20%20%20%20%20%20%20%20%20%20%20%20%20%20%5B41.974129858000005%2C%20-87.766357256%5D%2C%0A%20%20%20%20%20%20%20%20%20%20%20%20%20%20%20%20%7B%22bubblingMouseEvents%22%3A%20true%2C%20%22color%22%3A%20%22%233388ff%22%2C%20%22dashArray%22%3A%20null%2C%20%22dashOffset%22%3A%20null%2C%20%22fill%22%3A%20true%2C%20%22fillColor%22%3A%20%22%233388ff%22%2C%20%22fillOpacity%22%3A%200.2%2C%20%22fillRule%22%3A%20%22evenodd%22%2C%20%22lineCap%22%3A%20%22round%22%2C%20%22lineJoin%22%3A%20%22round%22%2C%20%22opacity%22%3A%201.0%2C%20%22radius%22%3A%2010%2C%20%22stroke%22%3A%20true%2C%20%22weight%22%3A%203%7D%0A%20%20%20%20%20%20%20%20%20%20%20%20%29.addTo%28map_97e094b0c34f4ae9984a381689c9ceb6%29%3B%0A%20%20%20%20%20%20%20%20%0A%20%20%20%20%0A%20%20%20%20%20%20%20%20var%20popup_8060fc2be6264f86a121adc178489be4%20%3D%20L.popup%28%7B%22maxWidth%22%3A%20%22100%25%22%7D%29%3B%0A%0A%20%20%20%20%20%20%20%20%0A%20%20%20%20%20%20%20%20%20%20%20%20var%20html_f958a26004e44cc487a5ede4ce360922%20%3D%20%24%28%60%3Cdiv%20id%3D%22html_f958a26004e44cc487a5ede4ce360922%22%20style%3D%22width%3A%20100.0%25%3B%20height%3A%20100.0%25%3B%22%3ECommunity%20Index%20%3A%2045.0%3Cbr%3E%20%20%20%20%20%20%20%20%20%20%20%20%20%20%20%20%20Arrest%20%3A%20N%3Cbr%3E%20%20%20%20%20%20%20%20%20%20%20%20%20%20%20%20%20Location%20Description%20%3A%20N%3Cbr%3E%3C/div%3E%60%29%5B0%5D%3B%0A%20%20%20%20%20%20%20%20%20%20%20%20popup_8060fc2be6264f86a121adc178489be4.setContent%28html_f958a26004e44cc487a5ede4ce360922%29%3B%0A%20%20%20%20%20%20%20%20%0A%0A%20%20%20%20%20%20%20%20circle_marker_9b57ef47721140e3a9516eaa6661c062.bindPopup%28popup_8060fc2be6264f86a121adc178489be4%29%0A%20%20%20%20%20%20%20%20%3B%0A%0A%20%20%20%20%20%20%20%20%0A%20%20%20%20%0A%20%20%20%20%0A%20%20%20%20%20%20%20%20%20%20%20%20var%20circle_marker_db5a6c11b85440e68d7b65064a907fcc%20%3D%20L.circleMarker%28%0A%20%20%20%20%20%20%20%20%20%20%20%20%20%20%20%20%5B41.962100976%2C%20-87.662336956%5D%2C%0A%20%20%20%20%20%20%20%20%20%20%20%20%20%20%20%20%7B%22bubblingMouseEvents%22%3A%20true%2C%20%22color%22%3A%20%22%233388ff%22%2C%20%22dashArray%22%3A%20null%2C%20%22dashOffset%22%3A%20null%2C%20%22fill%22%3A%20true%2C%20%22fillColor%22%3A%20%22%233388ff%22%2C%20%22fillOpacity%22%3A%200.2%2C%20%22fillRule%22%3A%20%22evenodd%22%2C%20%22lineCap%22%3A%20%22round%22%2C%20%22lineJoin%22%3A%20%22round%22%2C%20%22opacity%22%3A%201.0%2C%20%22radius%22%3A%2010%2C%20%22stroke%22%3A%20true%2C%20%22weight%22%3A%203%7D%0A%20%20%20%20%20%20%20%20%20%20%20%20%29.addTo%28map_97e094b0c34f4ae9984a381689c9ceb6%29%3B%0A%20%20%20%20%20%20%20%20%0A%20%20%20%20%0A%20%20%20%20%20%20%20%20var%20popup_60fb88d406954822bc87f052dae4c323%20%3D%20L.popup%28%7B%22maxWidth%22%3A%20%22100%25%22%7D%29%3B%0A%0A%20%20%20%20%20%20%20%20%0A%20%20%20%20%20%20%20%20%20%20%20%20var%20html_22054579d25c4c6090fc2dba4aa51170%20%3D%20%24%28%60%3Cdiv%20id%3D%22html_22054579d25c4c6090fc2dba4aa51170%22%20style%3D%22width%3A%20100.0%25%3B%20height%3A%20100.0%25%3B%22%3ECommunity%20Index%20%3A%2046.0%3Cbr%3E%20%20%20%20%20%20%20%20%20%20%20%20%20%20%20%20%20Arrest%20%3A%20N%3Cbr%3E%20%20%20%20%20%20%20%20%20%20%20%20%20%20%20%20%20Location%20Description%20%3A%20N%3Cbr%3E%3C/div%3E%60%29%5B0%5D%3B%0A%20%20%20%20%20%20%20%20%20%20%20%20popup_60fb88d406954822bc87f052dae4c323.setContent%28html_22054579d25c4c6090fc2dba4aa51170%29%3B%0A%20%20%20%20%20%20%20%20%0A%0A%20%20%20%20%20%20%20%20circle_marker_db5a6c11b85440e68d7b65064a907fcc.bindPopup%28popup_60fb88d406954822bc87f052dae4c323%29%0A%20%20%20%20%20%20%20%20%3B%0A%0A%20%20%20%20%20%20%20%20%0A%20%20%20%20%0A%20%20%20%20%0A%20%20%20%20%20%20%20%20%20%20%20%20var%20circle_marker_9b2646d8443b4f09968881eaa1f5a1e0%20%3D%20L.circleMarker%28%0A%20%20%20%20%20%20%20%20%20%20%20%20%20%20%20%20%5B41.957084339%2C%20-87.665121229%5D%2C%0A%20%20%20%20%20%20%20%20%20%20%20%20%20%20%20%20%7B%22bubblingMouseEvents%22%3A%20true%2C%20%22color%22%3A%20%22%233388ff%22%2C%20%22dashArray%22%3A%20null%2C%20%22dashOffset%22%3A%20null%2C%20%22fill%22%3A%20true%2C%20%22fillColor%22%3A%20%22%233388ff%22%2C%20%22fillOpacity%22%3A%200.2%2C%20%22fillRule%22%3A%20%22evenodd%22%2C%20%22lineCap%22%3A%20%22round%22%2C%20%22lineJoin%22%3A%20%22round%22%2C%20%22opacity%22%3A%201.0%2C%20%22radius%22%3A%2010%2C%20%22stroke%22%3A%20true%2C%20%22weight%22%3A%203%7D%0A%20%20%20%20%20%20%20%20%20%20%20%20%29.addTo%28map_97e094b0c34f4ae9984a381689c9ceb6%29%3B%0A%20%20%20%20%20%20%20%20%0A%20%20%20%20%0A%20%20%20%20%20%20%20%20var%20popup_d998cd6d26184bdbabd312146231d7ea%20%3D%20L.popup%28%7B%22maxWidth%22%3A%20%22100%25%22%7D%29%3B%0A%0A%20%20%20%20%20%20%20%20%0A%20%20%20%20%20%20%20%20%20%20%20%20var%20html_88efa63f1301403aa95e8102ad8ff4db%20%3D%20%24%28%60%3Cdiv%20id%3D%22html_88efa63f1301403aa95e8102ad8ff4db%22%20style%3D%22width%3A%20100.0%25%3B%20height%3A%20100.0%25%3B%22%3ECommunity%20Index%20%3A%2047.0%3Cbr%3E%20%20%20%20%20%20%20%20%20%20%20%20%20%20%20%20%20Arrest%20%3A%20N%3Cbr%3E%20%20%20%20%20%20%20%20%20%20%20%20%20%20%20%20%20Location%20Description%20%3A%20N%3Cbr%3E%3C/div%3E%60%29%5B0%5D%3B%0A%20%20%20%20%20%20%20%20%20%20%20%20popup_d998cd6d26184bdbabd312146231d7ea.setContent%28html_88efa63f1301403aa95e8102ad8ff4db%29%3B%0A%20%20%20%20%20%20%20%20%0A%0A%20%20%20%20%20%20%20%20circle_marker_9b2646d8443b4f09968881eaa1f5a1e0.bindPopup%28popup_d998cd6d26184bdbabd312146231d7ea%29%0A%20%20%20%20%20%20%20%20%3B%0A%0A%20%20%20%20%20%20%20%20%0A%20%20%20%20%0A%20%20%20%20%0A%20%20%20%20%20%20%20%20%20%20%20%20var%20circle_marker_2d49d9d19498444eabf5e165445812ac%20%3D%20L.circleMarker%28%0A%20%20%20%20%20%20%20%20%20%20%20%20%20%20%20%20%5B41.987716355%2C%20-87.666750459%5D%2C%0A%20%20%20%20%20%20%20%20%20%20%20%20%20%20%20%20%7B%22bubblingMouseEvents%22%3A%20true%2C%20%22color%22%3A%20%22%233388ff%22%2C%20%22dashArray%22%3A%20null%2C%20%22dashOffset%22%3A%20null%2C%20%22fill%22%3A%20true%2C%20%22fillColor%22%3A%20%22%233388ff%22%2C%20%22fillOpacity%22%3A%200.2%2C%20%22fillRule%22%3A%20%22evenodd%22%2C%20%22lineCap%22%3A%20%22round%22%2C%20%22lineJoin%22%3A%20%22round%22%2C%20%22opacity%22%3A%201.0%2C%20%22radius%22%3A%2010%2C%20%22stroke%22%3A%20true%2C%20%22weight%22%3A%203%7D%0A%20%20%20%20%20%20%20%20%20%20%20%20%29.addTo%28map_97e094b0c34f4ae9984a381689c9ceb6%29%3B%0A%20%20%20%20%20%20%20%20%0A%20%20%20%20%0A%20%20%20%20%20%20%20%20var%20popup_5ee1e18d95014aa6b0c5a6ccd817bae3%20%3D%20L.popup%28%7B%22maxWidth%22%3A%20%22100%25%22%7D%29%3B%0A%0A%20%20%20%20%20%20%20%20%0A%20%20%20%20%20%20%20%20%20%20%20%20var%20html_7238c06b57b24a35bcc9258190c4bff1%20%3D%20%24%28%60%3Cdiv%20id%3D%22html_7238c06b57b24a35bcc9258190c4bff1%22%20style%3D%22width%3A%20100.0%25%3B%20height%3A%20100.0%25%3B%22%3ECommunity%20Index%20%3A%2048.0%3Cbr%3E%20%20%20%20%20%20%20%20%20%20%20%20%20%20%20%20%20Arrest%20%3A%20Y%3Cbr%3E%20%20%20%20%20%20%20%20%20%20%20%20%20%20%20%20%20Location%20Description%20%3A%20Y%3Cbr%3E%3C/div%3E%60%29%5B0%5D%3B%0A%20%20%20%20%20%20%20%20%20%20%20%20popup_5ee1e18d95014aa6b0c5a6ccd817bae3.setContent%28html_7238c06b57b24a35bcc9258190c4bff1%29%3B%0A%20%20%20%20%20%20%20%20%0A%0A%20%20%20%20%20%20%20%20circle_marker_2d49d9d19498444eabf5e165445812ac.bindPopup%28popup_5ee1e18d95014aa6b0c5a6ccd817bae3%29%0A%20%20%20%20%20%20%20%20%3B%0A%0A%20%20%20%20%20%20%20%20%0A%20%20%20%20%0A%20%20%20%20%0A%20%20%20%20%20%20%20%20%20%20%20%20var%20circle_marker_48cb871c51284e1a996795a0cdde7e7c%20%3D%20L.circleMarker%28%0A%20%20%20%20%20%20%20%20%20%20%20%20%20%20%20%20%5B42.018222741%2C%20-87.66473546200001%5D%2C%0A%20%20%20%20%20%20%20%20%20%20%20%20%20%20%20%20%7B%22bubblingMouseEvents%22%3A%20true%2C%20%22color%22%3A%20%22%233388ff%22%2C%20%22dashArray%22%3A%20null%2C%20%22dashOffset%22%3A%20null%2C%20%22fill%22%3A%20true%2C%20%22fillColor%22%3A%20%22%233388ff%22%2C%20%22fillOpacity%22%3A%200.2%2C%20%22fillRule%22%3A%20%22evenodd%22%2C%20%22lineCap%22%3A%20%22round%22%2C%20%22lineJoin%22%3A%20%22round%22%2C%20%22opacity%22%3A%201.0%2C%20%22radius%22%3A%2010%2C%20%22stroke%22%3A%20true%2C%20%22weight%22%3A%203%7D%0A%20%20%20%20%20%20%20%20%20%20%20%20%29.addTo%28map_97e094b0c34f4ae9984a381689c9ceb6%29%3B%0A%20%20%20%20%20%20%20%20%0A%20%20%20%20%0A%20%20%20%20%20%20%20%20var%20popup_15eda180041f40d7bf1746e370ee8b09%20%3D%20L.popup%28%7B%22maxWidth%22%3A%20%22100%25%22%7D%29%3B%0A%0A%20%20%20%20%20%20%20%20%0A%20%20%20%20%20%20%20%20%20%20%20%20var%20html_1f93075ec3b641f7a1268b027990dab3%20%3D%20%24%28%60%3Cdiv%20id%3D%22html_1f93075ec3b641f7a1268b027990dab3%22%20style%3D%22width%3A%20100.0%25%3B%20height%3A%20100.0%25%3B%22%3ECommunity%20Index%20%3A%2049.0%3Cbr%3E%20%20%20%20%20%20%20%20%20%20%20%20%20%20%20%20%20Arrest%20%3A%20Y%3Cbr%3E%20%20%20%20%20%20%20%20%20%20%20%20%20%20%20%20%20Location%20Description%20%3A%20N%3Cbr%3E%3C/div%3E%60%29%5B0%5D%3B%0A%20%20%20%20%20%20%20%20%20%20%20%20popup_15eda180041f40d7bf1746e370ee8b09.setContent%28html_1f93075ec3b641f7a1268b027990dab3%29%3B%0A%20%20%20%20%20%20%20%20%0A%0A%20%20%20%20%20%20%20%20circle_marker_48cb871c51284e1a996795a0cdde7e7c.bindPopup%28popup_15eda180041f40d7bf1746e370ee8b09%29%0A%20%20%20%20%20%20%20%20%3B%0A%0A%20%20%20%20%20%20%20%20%0A%20%20%20%20%0A%20%20%20%20%0A%20%20%20%20%20%20%20%20%20%20%20%20var%20circle_marker_6afe3b1641b54ed6ac2ae69764c25185%20%3D%20L.circleMarker%28%0A%20%20%20%20%20%20%20%20%20%20%20%20%20%20%20%20%5B42.014493615%2C%20-87.69022778799999%5D%2C%0A%20%20%20%20%20%20%20%20%20%20%20%20%20%20%20%20%7B%22bubblingMouseEvents%22%3A%20true%2C%20%22color%22%3A%20%22%233388ff%22%2C%20%22dashArray%22%3A%20null%2C%20%22dashOffset%22%3A%20null%2C%20%22fill%22%3A%20true%2C%20%22fillColor%22%3A%20%22%233388ff%22%2C%20%22fillOpacity%22%3A%200.2%2C%20%22fillRule%22%3A%20%22evenodd%22%2C%20%22lineCap%22%3A%20%22round%22%2C%20%22lineJoin%22%3A%20%22round%22%2C%20%22opacity%22%3A%201.0%2C%20%22radius%22%3A%2010%2C%20%22stroke%22%3A%20true%2C%20%22weight%22%3A%203%7D%0A%20%20%20%20%20%20%20%20%20%20%20%20%29.addTo%28map_97e094b0c34f4ae9984a381689c9ceb6%29%3B%0A%20%20%20%20%20%20%20%20%0A%20%20%20%20%0A%20%20%20%20%20%20%20%20var%20popup_d0f8c11582394af2a94fcd50824bbc12%20%3D%20L.popup%28%7B%22maxWidth%22%3A%20%22100%25%22%7D%29%3B%0A%0A%20%20%20%20%20%20%20%20%0A%20%20%20%20%20%20%20%20%20%20%20%20var%20html_541e70ed39a94ed6b26434a7c99011c9%20%3D%20%24%28%60%3Cdiv%20id%3D%22html_541e70ed39a94ed6b26434a7c99011c9%22%20style%3D%22width%3A%20100.0%25%3B%20height%3A%20100.0%25%3B%22%3ECommunity%20Index%20%3A%2050.0%3Cbr%3E%20%20%20%20%20%20%20%20%20%20%20%20%20%20%20%20%20Arrest%20%3A%20N%3Cbr%3E%20%20%20%20%20%20%20%20%20%20%20%20%20%20%20%20%20Location%20Description%20%3A%20N%3Cbr%3E%3C/div%3E%60%29%5B0%5D%3B%0A%20%20%20%20%20%20%20%20%20%20%20%20popup_d0f8c11582394af2a94fcd50824bbc12.setContent%28html_541e70ed39a94ed6b26434a7c99011c9%29%3B%0A%20%20%20%20%20%20%20%20%0A%0A%20%20%20%20%20%20%20%20circle_marker_6afe3b1641b54ed6ac2ae69764c25185.bindPopup%28popup_d0f8c11582394af2a94fcd50824bbc12%29%0A%20%20%20%20%20%20%20%20%3B%0A%0A%20%20%20%20%20%20%20%20%0A%20%20%20%20%0A%3C/script%3E onload=\"this.contentDocument.open();this.contentDocument.write(    decodeURIComponent(this.getAttribute('data-html')));this.contentDocument.close();\" allowfullscreen webkitallowfullscreen mozallowfullscreen></iframe></div></div>"
      ],
      "text/plain": [
       "<folium.folium.Map at 0x21d0aa458b0>"
      ]
     },
     "execution_count": 35,
     "metadata": {},
     "output_type": "execute_result"
    }
   ],
   "source": [
    "chicago_map"
   ]
  },
  {
   "cell_type": "markdown",
   "metadata": {},
   "source": [
    "خريطه بتين اماكن حدوث الجرائم"
   ]
  },
  {
   "cell_type": "code",
   "execution_count": 36,
   "metadata": {},
   "outputs": [
    {
     "data": {
      "text/html": [
       "<div>\n",
       "<style scoped>\n",
       "    .dataframe tbody tr th:only-of-type {\n",
       "        vertical-align: middle;\n",
       "    }\n",
       "\n",
       "    .dataframe tbody tr th {\n",
       "        vertical-align: top;\n",
       "    }\n",
       "\n",
       "    .dataframe thead th {\n",
       "        text-align: right;\n",
       "    }\n",
       "</style>\n",
       "<table border=\"1\" class=\"dataframe\">\n",
       "  <thead>\n",
       "    <tr style=\"text-align: right;\">\n",
       "      <th></th>\n",
       "      <th>DATE  OF OCCURRENCE</th>\n",
       "      <th>BLOCK</th>\n",
       "      <th>PRIMARY DESCRIPTION</th>\n",
       "      <th>SECONDARY DESCRIPTION</th>\n",
       "      <th>LOCATION DESCRIPTION</th>\n",
       "      <th>ARREST</th>\n",
       "      <th>DOMESTIC</th>\n",
       "      <th>BEAT</th>\n",
       "      <th>WARD</th>\n",
       "      <th>FBI CD</th>\n",
       "      <th>...</th>\n",
       "      <th>LATITUDE</th>\n",
       "      <th>LONGITUDE</th>\n",
       "      <th>LOCATION</th>\n",
       "      <th>date</th>\n",
       "      <th>year</th>\n",
       "      <th>month</th>\n",
       "      <th>day</th>\n",
       "      <th>hour</th>\n",
       "      <th>minute</th>\n",
       "      <th>day_name</th>\n",
       "    </tr>\n",
       "  </thead>\n",
       "  <tbody>\n",
       "    <tr>\n",
       "      <th>0</th>\n",
       "      <td>2020-02-25 10:20:00</td>\n",
       "      <td>013XX S CANAL ST</td>\n",
       "      <td>BATTERY</td>\n",
       "      <td>SIMPLE</td>\n",
       "      <td>GROCERY FOOD STORE</td>\n",
       "      <td>Y</td>\n",
       "      <td>N</td>\n",
       "      <td>124</td>\n",
       "      <td>11.0</td>\n",
       "      <td>08B</td>\n",
       "      <td>...</td>\n",
       "      <td>41.864494</td>\n",
       "      <td>-87.639158</td>\n",
       "      <td>(41.864493678, -87.639158)</td>\n",
       "      <td>2020-02-25</td>\n",
       "      <td>2020</td>\n",
       "      <td>2</td>\n",
       "      <td>25</td>\n",
       "      <td>10</td>\n",
       "      <td>20</td>\n",
       "      <td>Tuesday</td>\n",
       "    </tr>\n",
       "    <tr>\n",
       "      <th>1</th>\n",
       "      <td>2020-02-25 05:30:00</td>\n",
       "      <td>033XX W CULLOM AVE</td>\n",
       "      <td>THEFT</td>\n",
       "      <td>$500 AND UNDER</td>\n",
       "      <td>STREET</td>\n",
       "      <td>N</td>\n",
       "      <td>N</td>\n",
       "      <td>1724</td>\n",
       "      <td>33.0</td>\n",
       "      <td>06</td>\n",
       "      <td>...</td>\n",
       "      <td>41.959340</td>\n",
       "      <td>-87.711475</td>\n",
       "      <td>(41.959339811, -87.711474784)</td>\n",
       "      <td>2020-02-25</td>\n",
       "      <td>2020</td>\n",
       "      <td>2</td>\n",
       "      <td>25</td>\n",
       "      <td>5</td>\n",
       "      <td>30</td>\n",
       "      <td>Tuesday</td>\n",
       "    </tr>\n",
       "    <tr>\n",
       "      <th>2</th>\n",
       "      <td>2020-02-25 13:04:00</td>\n",
       "      <td>023XX S PULASKI RD</td>\n",
       "      <td>CRIMINAL TRESPASS</td>\n",
       "      <td>TO LAND</td>\n",
       "      <td>RESTAURANT</td>\n",
       "      <td>Y</td>\n",
       "      <td>N</td>\n",
       "      <td>1013</td>\n",
       "      <td>22.0</td>\n",
       "      <td>26</td>\n",
       "      <td>...</td>\n",
       "      <td>41.848475</td>\n",
       "      <td>-87.724676</td>\n",
       "      <td>(41.848474762, -87.724676285)</td>\n",
       "      <td>2020-02-25</td>\n",
       "      <td>2020</td>\n",
       "      <td>2</td>\n",
       "      <td>25</td>\n",
       "      <td>13</td>\n",
       "      <td>4</td>\n",
       "      <td>Tuesday</td>\n",
       "    </tr>\n",
       "    <tr>\n",
       "      <th>3</th>\n",
       "      <td>2020-02-25 18:05:00</td>\n",
       "      <td>058XX N RIDGE AVE</td>\n",
       "      <td>BATTERY</td>\n",
       "      <td>DOMESTIC BATTERY SIMPLE</td>\n",
       "      <td>APARTMENT</td>\n",
       "      <td>Y</td>\n",
       "      <td>Y</td>\n",
       "      <td>2013</td>\n",
       "      <td>48.0</td>\n",
       "      <td>08B</td>\n",
       "      <td>...</td>\n",
       "      <td>41.987716</td>\n",
       "      <td>-87.666750</td>\n",
       "      <td>(41.987716355, -87.666750459)</td>\n",
       "      <td>2020-02-25</td>\n",
       "      <td>2020</td>\n",
       "      <td>2</td>\n",
       "      <td>25</td>\n",
       "      <td>18</td>\n",
       "      <td>5</td>\n",
       "      <td>Tuesday</td>\n",
       "    </tr>\n",
       "    <tr>\n",
       "      <th>4</th>\n",
       "      <td>2020-02-25 13:42:00</td>\n",
       "      <td>011XX N HARDING AVE</td>\n",
       "      <td>NARCOTICS</td>\n",
       "      <td>POSS: CRACK</td>\n",
       "      <td>STREET</td>\n",
       "      <td>Y</td>\n",
       "      <td>N</td>\n",
       "      <td>1112</td>\n",
       "      <td>37.0</td>\n",
       "      <td>18</td>\n",
       "      <td>...</td>\n",
       "      <td>41.901353</td>\n",
       "      <td>-87.725041</td>\n",
       "      <td>(41.901352928, -87.725041269)</td>\n",
       "      <td>2020-02-25</td>\n",
       "      <td>2020</td>\n",
       "      <td>2</td>\n",
       "      <td>25</td>\n",
       "      <td>13</td>\n",
       "      <td>42</td>\n",
       "      <td>Tuesday</td>\n",
       "    </tr>\n",
       "  </tbody>\n",
       "</table>\n",
       "<p>5 rows × 22 columns</p>\n",
       "</div>"
      ],
      "text/plain": [
       "  DATE  OF OCCURRENCE                BLOCK  PRIMARY DESCRIPTION  \\\n",
       "0 2020-02-25 10:20:00     013XX S CANAL ST              BATTERY   \n",
       "1 2020-02-25 05:30:00   033XX W CULLOM AVE                THEFT   \n",
       "2 2020-02-25 13:04:00   023XX S PULASKI RD    CRIMINAL TRESPASS   \n",
       "3 2020-02-25 18:05:00    058XX N RIDGE AVE              BATTERY   \n",
       "4 2020-02-25 13:42:00  011XX N HARDING AVE            NARCOTICS   \n",
       "\n",
       "     SECONDARY DESCRIPTION  LOCATION DESCRIPTION ARREST DOMESTIC  BEAT  WARD  \\\n",
       "0                   SIMPLE    GROCERY FOOD STORE      Y        N   124  11.0   \n",
       "1           $500 AND UNDER                STREET      N        N  1724  33.0   \n",
       "2                  TO LAND            RESTAURANT      Y        N  1013  22.0   \n",
       "3  DOMESTIC BATTERY SIMPLE             APARTMENT      Y        Y  2013  48.0   \n",
       "4              POSS: CRACK                STREET      Y        N  1112  37.0   \n",
       "\n",
       "  FBI CD  ...   LATITUDE  LONGITUDE                       LOCATION  \\\n",
       "0    08B  ...  41.864494 -87.639158     (41.864493678, -87.639158)   \n",
       "1     06  ...  41.959340 -87.711475  (41.959339811, -87.711474784)   \n",
       "2     26  ...  41.848475 -87.724676  (41.848474762, -87.724676285)   \n",
       "3    08B  ...  41.987716 -87.666750  (41.987716355, -87.666750459)   \n",
       "4     18  ...  41.901353 -87.725041  (41.901352928, -87.725041269)   \n",
       "\n",
       "         date  year month  day  hour  minute  day_name  \n",
       "0  2020-02-25  2020     2   25    10      20   Tuesday  \n",
       "1  2020-02-25  2020     2   25     5      30   Tuesday  \n",
       "2  2020-02-25  2020     2   25    13       4   Tuesday  \n",
       "3  2020-02-25  2020     2   25    18       5   Tuesday  \n",
       "4  2020-02-25  2020     2   25    13      42   Tuesday  \n",
       "\n",
       "[5 rows x 22 columns]"
      ]
     },
     "execution_count": 36,
     "metadata": {},
     "output_type": "execute_result"
    }
   ],
   "source": [
    "df.head()"
   ]
  },
  {
   "cell_type": "code",
   "execution_count": 37,
   "metadata": {},
   "outputs": [
    {
     "data": {
      "text/plain": [
       "DATE  OF OCCURRENCE          0\n",
       "BLOCK                        0\n",
       " PRIMARY DESCRIPTION         0\n",
       " SECONDARY DESCRIPTION       0\n",
       " LOCATION DESCRIPTION     1114\n",
       "ARREST                       0\n",
       "DOMESTIC                     0\n",
       "BEAT                         0\n",
       "WARD                        10\n",
       "FBI CD                       0\n",
       "X COORDINATE              1291\n",
       "Y COORDINATE              1291\n",
       "LATITUDE                  1291\n",
       "LONGITUDE                 1291\n",
       "LOCATION                  1291\n",
       "date                         0\n",
       "year                         0\n",
       "month                        0\n",
       "day                          0\n",
       "hour                         0\n",
       "minute                       0\n",
       "day_name                     0\n",
       "dtype: int64"
      ]
     },
     "execution_count": 37,
     "metadata": {},
     "output_type": "execute_result"
    }
   ],
   "source": [
    "df.isnull().sum()"
   ]
  },
  {
   "cell_type": "code",
   "execution_count": 38,
   "metadata": {},
   "outputs": [
    {
     "data": {
      "text/plain": [
       "Index(['DATE  OF OCCURRENCE', 'BLOCK', ' PRIMARY DESCRIPTION',\n",
       "       ' SECONDARY DESCRIPTION', ' LOCATION DESCRIPTION', 'ARREST', 'DOMESTIC',\n",
       "       'BEAT', 'WARD', 'FBI CD', 'X COORDINATE', 'Y COORDINATE', 'LATITUDE',\n",
       "       'LONGITUDE', 'LOCATION', 'date', 'year', 'month', 'day', 'hour',\n",
       "       'minute', 'day_name'],\n",
       "      dtype='object')"
      ]
     },
     "execution_count": 38,
     "metadata": {},
     "output_type": "execute_result"
    }
   ],
   "source": [
    "df.columns"
   ]
  },
  {
   "cell_type": "code",
   "execution_count": 39,
   "metadata": {},
   "outputs": [
    {
     "data": {
      "text/plain": [
       "<matplotlib.axes._subplots.AxesSubplot at 0x21d0af0db50>"
      ]
     },
     "execution_count": 39,
     "metadata": {},
     "output_type": "execute_result"
    },
    {
     "data": {
      "image/png": "[encoded data removed]",
      "text/plain": [
       "<Figure size 720x720 with 1 Axes>"
      ]
     },
     "metadata": {},
     "output_type": "display_data"
    }
   ],
   "source": [
    "sns.boxplot(x='X COORDINATE', data=df)\n",
    "sns.stripplot(x='X COORDINATE', data=df, color=\"#474646\")"
   ]
  },
  {
   "cell_type": "markdown",
   "metadata": {},
   "source": [
    "there are outlire"
   ]
  },
  {
   "cell_type": "code",
   "execution_count": 40,
   "metadata": {},
   "outputs": [
    {
     "data": {
      "text/plain": [
       "<matplotlib.axes._subplots.AxesSubplot at 0x21d0b1a77f0>"
      ]
     },
     "execution_count": 40,
     "metadata": {},
     "output_type": "execute_result"
    },
    {
     "data": {
      "image/png": "[encoded data removed]",
      "text/plain": [
       "<Figure size 720x720 with 1 Axes>"
      ]
     },
     "metadata": {},
     "output_type": "display_data"
    }
   ],
   "source": [
    "sns.boxplot(x='Y COORDINATE', data=df)\n",
    "sns.stripplot(x='Y COORDINATE', data=df, color=\"#474646\")"
   ]
  },
  {
   "cell_type": "markdown",
   "metadata": {},
   "source": [
    "There is no outlire"
   ]
  },
  {
   "cell_type": "code",
   "execution_count": 41,
   "metadata": {},
   "outputs": [
    {
     "data": {
      "text/plain": [
       "<matplotlib.axes._subplots.AxesSubplot at 0x21d0b149af0>"
      ]
     },
     "execution_count": 41,
     "metadata": {},
     "output_type": "execute_result"
    },
    {
     "data": {
      "image/png": "[encoded data removed]",
      "text/plain": [
       "<Figure size 720x720 with 1 Axes>"
      ]
     },
     "metadata": {},
     "output_type": "display_data"
    }
   ],
   "source": [
    "sns.boxplot(x='LATITUDE', data=df)\n",
    "sns.stripplot(x='LATITUDE', data=df, color=\"#474646\")"
   ]
  },
  {
   "cell_type": "markdown",
   "metadata": {},
   "source": [
    "There is no outlire"
   ]
  },
  {
   "cell_type": "code",
   "execution_count": null,
   "metadata": {},
   "outputs": [],
   "source": []
  }
 ],
 "metadata": {
  "kernelspec": {
   "display_name": "Python 3",
   "language": "python",
   "name": "python3"
  },
  "language_info": {
   "codemirror_mode": {
    "name": "ipython",
    "version": 3
   },
   "file_extension": ".py",
   "mimetype": "text/x-python",
   "name": "python",
   "nbconvert_exporter": "python",
   "pygments_lexer": "ipython3",
   "version": "3.8.3"
  }
 },
 "nbformat": 4,
 "nbformat_minor": 4
}
